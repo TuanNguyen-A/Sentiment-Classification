{
 "cells": [
  {
   "cell_type": "markdown",
   "metadata": {
    "jp-MarkdownHeadingCollapsed": true,
    "tags": []
   },
   "source": [
    "## SET UP"
   ]
  },
  {
   "cell_type": "code",
   "execution_count": 1,
   "metadata": {},
   "outputs": [],
   "source": [
    "import tensorflow as tf\n",
    "import pandas as pd\n",
    "import numpy as np\n",
    "from string import digits\n",
    "from collections import Counter\n",
    "from pyvi import ViTokenizer\n",
    "from gensim.models.word2vec import Word2Vec\n",
    "from keras.utils.np_utils import to_categorical\n",
    "from sklearn.model_selection import train_test_split\n",
    "from sklearn.metrics import f1_score\n",
    "import re\n",
    "import matplotlib.pyplot as plt\n",
    "from keras.preprocessing.text import Tokenizer\n",
    "from keras_preprocessing.sequence import pad_sequences\n",
    "from tensorflow.keras.utils import to_categorical\n",
    "from sklearn.utils import resample\n",
    "from tensorflow.keras import Sequential\n",
    "from tensorflow.keras.layers import Embedding, Dense, Dropout, LSTM, Flatten, Bidirectional, Layer, Reshape, Input, Permute, Attention\n",
    "from tensorflow.keras.layers import Conv1D, GlobalMaxPooling1D, MaxPooling1D, LayerNormalization, TimeDistributed\n",
    "from tensorflow.keras.callbacks import EarlyStopping\n",
    "from tensorflow.keras.layers import Concatenate\n",
    "from keras import regularizers\n",
    "from keras.models import Model\n",
    "import keras\n",
    "from tensorflow.keras.optimizers import Adam\n",
    "from keras import backend as K\n",
    "%matplotlib inline"
   ]
  },
  {
   "cell_type": "markdown",
   "metadata": {
    "tags": []
   },
   "source": [
    "## DATA AGGREGATION"
   ]
  },
  {
   "cell_type": "code",
   "execution_count": 3,
   "metadata": {},
   "outputs": [
    {
     "ename": "NameError",
     "evalue": "name 'pd' is not defined",
     "output_type": "error",
     "traceback": [
      "\u001b[1;31m---------------------------------------------------------------------------\u001b[0m",
      "\u001b[1;31mNameError\u001b[0m                                 Traceback (most recent call last)",
      "Input \u001b[1;32mIn [3]\u001b[0m, in \u001b[0;36m<cell line: 1>\u001b[1;34m()\u001b[0m\n\u001b[1;32m----> 1\u001b[0m review_dtmtb \u001b[38;5;241m=\u001b[39m \u001b[43mpd\u001b[49m\u001b[38;5;241m.\u001b[39mread_csv(\u001b[38;5;124m'\u001b[39m\u001b[38;5;124mreviewData_dtmtb.csv\u001b[39m\u001b[38;5;124m'\u001b[39m)\n\u001b[0;32m      2\u001b[0m review_dtdl \u001b[38;5;241m=\u001b[39m pd\u001b[38;5;241m.\u001b[39mread_csv(\u001b[38;5;124m'\u001b[39m\u001b[38;5;124mreviewData_dtdl.csv\u001b[39m\u001b[38;5;124m'\u001b[39m)\n\u001b[0;32m      3\u001b[0m review_tbkts_pks \u001b[38;5;241m=\u001b[39m pd\u001b[38;5;241m.\u001b[39mread_csv(\u001b[38;5;124m'\u001b[39m\u001b[38;5;124mreviewData_tbkts_pks.csv\u001b[39m\u001b[38;5;124m'\u001b[39m)\n",
      "\u001b[1;31mNameError\u001b[0m: name 'pd' is not defined"
     ]
    }
   ],
   "source": [
    "review_dtmtb = pd.read_csv('reviewData_dtmtb.csv')\n",
    "review_dtdl = pd.read_csv('reviewData_dtdl.csv')\n",
    "review_tbkts_pks = pd.read_csv('reviewData_tbkts_pks.csv')"
   ]
  },
  {
   "cell_type": "code",
   "execution_count": 4,
   "metadata": {},
   "outputs": [],
   "source": [
    "review_data = pd.concat([review_dtmtb, review_dtdl, review_tbkts_pks])"
   ]
  },
  {
   "cell_type": "code",
   "execution_count": 4,
   "metadata": {},
   "outputs": [
    {
     "data": {
      "text/html": [
       "<div>\n",
       "<style scoped>\n",
       "    .dataframe tbody tr th:only-of-type {\n",
       "        vertical-align: middle;\n",
       "    }\n",
       "\n",
       "    .dataframe tbody tr th {\n",
       "        vertical-align: top;\n",
       "    }\n",
       "\n",
       "    .dataframe thead th {\n",
       "        text-align: right;\n",
       "    }\n",
       "</style>\n",
       "<table border=\"1\" class=\"dataframe\">\n",
       "  <thead>\n",
       "    <tr style=\"text-align: right;\">\n",
       "      <th></th>\n",
       "      <th>id</th>\n",
       "      <th>title</th>\n",
       "      <th>content</th>\n",
       "      <th>thank_count</th>\n",
       "      <th>customer_id</th>\n",
       "      <th>rating</th>\n",
       "      <th>created_at</th>\n",
       "      <th>customer_name</th>\n",
       "      <th>purchased_at</th>\n",
       "    </tr>\n",
       "  </thead>\n",
       "  <tbody>\n",
       "    <tr>\n",
       "      <th>0</th>\n",
       "      <td>17206712</td>\n",
       "      <td>Cực kì hài lòng</td>\n",
       "      <td>Mình vừa nhận được hàng, máy chạy tốt, pin sạc...</td>\n",
       "      <td>0</td>\n",
       "      <td>20468199</td>\n",
       "      <td>5</td>\n",
       "      <td>1658815564</td>\n",
       "      <td>NaN</td>\n",
       "      <td>NaN</td>\n",
       "    </tr>\n",
       "    <tr>\n",
       "      <th>1</th>\n",
       "      <td>17022830</td>\n",
       "      <td>Cực kì hài lòng</td>\n",
       "      <td>giao hàng đúng thời. điện thoại giao đúng mẫu....</td>\n",
       "      <td>3</td>\n",
       "      <td>21886251</td>\n",
       "      <td>5</td>\n",
       "      <td>1657513127</td>\n",
       "      <td>NaN</td>\n",
       "      <td>NaN</td>\n",
       "    </tr>\n",
       "    <tr>\n",
       "      <th>2</th>\n",
       "      <td>16990209</td>\n",
       "      <td>Cực kì hài lòng</td>\n",
       "      <td>giao hàng nhanh. đóng gói rất OK. mỗi tội tiếc...</td>\n",
       "      <td>5</td>\n",
       "      <td>14674088</td>\n",
       "      <td>5</td>\n",
       "      <td>1657279289</td>\n",
       "      <td>NaN</td>\n",
       "      <td>NaN</td>\n",
       "    </tr>\n",
       "    <tr>\n",
       "      <th>3</th>\n",
       "      <td>16618308</td>\n",
       "      <td>Cực kì hài lòng</td>\n",
       "      <td>Dùng siêu thích máy phiên bản 2022 và cùng năm...</td>\n",
       "      <td>1</td>\n",
       "      <td>14923716</td>\n",
       "      <td>5</td>\n",
       "      <td>1654645068</td>\n",
       "      <td>NaN</td>\n",
       "      <td>NaN</td>\n",
       "    </tr>\n",
       "    <tr>\n",
       "      <th>4</th>\n",
       "      <td>17056290</td>\n",
       "      <td>Cực kì hài lòng</td>\n",
       "      <td>cho tiki trading shop 5 sao!shop uy tín! giao ...</td>\n",
       "      <td>0</td>\n",
       "      <td>7966673</td>\n",
       "      <td>5</td>\n",
       "      <td>1657721825</td>\n",
       "      <td>NaN</td>\n",
       "      <td>NaN</td>\n",
       "    </tr>\n",
       "  </tbody>\n",
       "</table>\n",
       "</div>"
      ],
      "text/plain": [
       "         id            title  \\\n",
       "0  17206712  Cực kì hài lòng   \n",
       "1  17022830  Cực kì hài lòng   \n",
       "2  16990209  Cực kì hài lòng   \n",
       "3  16618308  Cực kì hài lòng   \n",
       "4  17056290  Cực kì hài lòng   \n",
       "\n",
       "                                             content  thank_count  \\\n",
       "0  Mình vừa nhận được hàng, máy chạy tốt, pin sạc...            0   \n",
       "1  giao hàng đúng thời. điện thoại giao đúng mẫu....            3   \n",
       "2  giao hàng nhanh. đóng gói rất OK. mỗi tội tiếc...            5   \n",
       "3  Dùng siêu thích máy phiên bản 2022 và cùng năm...            1   \n",
       "4  cho tiki trading shop 5 sao!shop uy tín! giao ...            0   \n",
       "\n",
       "   customer_id  rating  created_at  customer_name  purchased_at  \n",
       "0     20468199       5  1658815564            NaN           NaN  \n",
       "1     21886251       5  1657513127            NaN           NaN  \n",
       "2     14674088       5  1657279289            NaN           NaN  \n",
       "3     14923716       5  1654645068            NaN           NaN  \n",
       "4      7966673       5  1657721825            NaN           NaN  "
      ]
     },
     "execution_count": 4,
     "metadata": {},
     "output_type": "execute_result"
    }
   ],
   "source": [
    "review_data.head()"
   ]
  },
  {
   "cell_type": "code",
   "execution_count": 5,
   "metadata": {},
   "outputs": [
    {
     "data": {
      "text/plain": [
       "rating\n",
       "5    92711\n",
       "4    15936\n",
       "1     7053\n",
       "3     4882\n",
       "2     2319\n",
       "dtype: int64"
      ]
     },
     "execution_count": 5,
     "metadata": {},
     "output_type": "execute_result"
    }
   ],
   "source": [
    "review_data.value_counts('rating')"
   ]
  },
  {
   "cell_type": "code",
   "execution_count": 6,
   "metadata": {},
   "outputs": [
    {
     "data": {
      "text/plain": [
       "45167"
      ]
     },
     "execution_count": 6,
     "metadata": {},
     "output_type": "execute_result"
    }
   ],
   "source": [
    "review_data['content'].isna().sum()"
   ]
  },
  {
   "cell_type": "code",
   "execution_count": 7,
   "metadata": {},
   "outputs": [],
   "source": [
    "review_data.dropna(subset=['content'], inplace=True)"
   ]
  },
  {
   "cell_type": "code",
   "execution_count": 8,
   "metadata": {},
   "outputs": [
    {
     "data": {
      "text/plain": [
       "0"
      ]
     },
     "execution_count": 8,
     "metadata": {},
     "output_type": "execute_result"
    }
   ],
   "source": [
    "review_data['content'].isna().sum()"
   ]
  },
  {
   "cell_type": "code",
   "execution_count": 9,
   "metadata": {},
   "outputs": [
    {
     "data": {
      "text/plain": [
       "title\n",
       "Cực kì hài lòng                                      16757\n",
       "Hài lòng                                              2057\n",
       "Rất không hài lòng                                     570\n",
       "Bình thường                                            400\n",
       "Không hài lòng                                         193\n",
       "                                                     ...  \n",
       "The perfect device to read on the go                     1\n",
       "Thích                                                   1\n",
       "Thông tin hàng không đúng                                1\n",
       "Thất vọng về service giao 2h và hình thức đổi/hủy        1\n",
       "10/10 về dịch vụ và sản phẩm                             1\n",
       "Length: 480, dtype: int64"
      ]
     },
     "execution_count": 9,
     "metadata": {},
     "output_type": "execute_result"
    }
   ],
   "source": [
    "review_dtmtb.value_counts('title')"
   ]
  },
  {
   "cell_type": "code",
   "execution_count": 10,
   "metadata": {},
   "outputs": [
    {
     "data": {
      "text/plain": [
       "rating\n",
       "5    54361\n",
       "4     9663\n",
       "1     6990\n",
       "3     4427\n",
       "2     2293\n",
       "dtype: int64"
      ]
     },
     "execution_count": 10,
     "metadata": {},
     "output_type": "execute_result"
    }
   ],
   "source": [
    "review_data.value_counts('rating')"
   ]
  },
  {
   "cell_type": "code",
   "execution_count": 11,
   "metadata": {},
   "outputs": [],
   "source": [
    "review_data['rating_class'] = review_data['rating'].apply(lambda x: 1 if x>3 else 0 if x==3 else -1)"
   ]
  },
  {
   "cell_type": "code",
   "execution_count": 12,
   "metadata": {},
   "outputs": [
    {
     "data": {
      "text/plain": [
       " 1    64024\n",
       "-1     9283\n",
       " 0     4427\n",
       "Name: rating_class, dtype: int64"
      ]
     },
     "execution_count": 12,
     "metadata": {},
     "output_type": "execute_result"
    }
   ],
   "source": [
    "review_data['rating_class'].value_counts()"
   ]
  },
  {
   "cell_type": "code",
   "execution_count": 13,
   "metadata": {},
   "outputs": [
    {
     "data": {
      "text/html": [
       "<div>\n",
       "<style scoped>\n",
       "    .dataframe tbody tr th:only-of-type {\n",
       "        vertical-align: middle;\n",
       "    }\n",
       "\n",
       "    .dataframe tbody tr th {\n",
       "        vertical-align: top;\n",
       "    }\n",
       "\n",
       "    .dataframe thead th {\n",
       "        text-align: right;\n",
       "    }\n",
       "</style>\n",
       "<table border=\"1\" class=\"dataframe\">\n",
       "  <thead>\n",
       "    <tr style=\"text-align: right;\">\n",
       "      <th></th>\n",
       "      <th>content</th>\n",
       "      <th>class</th>\n",
       "    </tr>\n",
       "  </thead>\n",
       "  <tbody>\n",
       "    <tr>\n",
       "      <th>0</th>\n",
       "      <td>Mình vừa nhận được hàng, máy chạy tốt, pin sạc...</td>\n",
       "      <td>1</td>\n",
       "    </tr>\n",
       "    <tr>\n",
       "      <th>1</th>\n",
       "      <td>giao hàng đúng thời. điện thoại giao đúng mẫu....</td>\n",
       "      <td>1</td>\n",
       "    </tr>\n",
       "    <tr>\n",
       "      <th>2</th>\n",
       "      <td>giao hàng nhanh. đóng gói rất OK. mỗi tội tiếc...</td>\n",
       "      <td>1</td>\n",
       "    </tr>\n",
       "    <tr>\n",
       "      <th>3</th>\n",
       "      <td>Dùng siêu thích máy phiên bản 2022 và cùng năm...</td>\n",
       "      <td>1</td>\n",
       "    </tr>\n",
       "    <tr>\n",
       "      <th>4</th>\n",
       "      <td>cho tiki trading shop 5 sao!shop uy tín! giao ...</td>\n",
       "      <td>1</td>\n",
       "    </tr>\n",
       "    <tr>\n",
       "      <th>...</th>\n",
       "      <td>...</td>\n",
       "      <td>...</td>\n",
       "    </tr>\n",
       "    <tr>\n",
       "      <th>41460</th>\n",
       "      <td>cực kỳ hài lòng</td>\n",
       "      <td>1</td>\n",
       "    </tr>\n",
       "    <tr>\n",
       "      <th>41461</th>\n",
       "      <td>Sạc pin chỉ full 88%, nhờ shop tư vấn</td>\n",
       "      <td>-1</td>\n",
       "    </tr>\n",
       "    <tr>\n",
       "      <th>41462</th>\n",
       "      <td>nhìn rất ok.</td>\n",
       "      <td>1</td>\n",
       "    </tr>\n",
       "    <tr>\n",
       "      <th>41463</th>\n",
       "      <td>Giao hang nhah hang dung ok</td>\n",
       "      <td>1</td>\n",
       "    </tr>\n",
       "    <tr>\n",
       "      <th>41464</th>\n",
       "      <td>Giao hàng hơi chậm, quá thời gian dự kiến</td>\n",
       "      <td>1</td>\n",
       "    </tr>\n",
       "  </tbody>\n",
       "</table>\n",
       "<p>77734 rows × 2 columns</p>\n",
       "</div>"
      ],
      "text/plain": [
       "                                                 content  class\n",
       "0      Mình vừa nhận được hàng, máy chạy tốt, pin sạc...      1\n",
       "1      giao hàng đúng thời. điện thoại giao đúng mẫu....      1\n",
       "2      giao hàng nhanh. đóng gói rất OK. mỗi tội tiếc...      1\n",
       "3      Dùng siêu thích máy phiên bản 2022 và cùng năm...      1\n",
       "4      cho tiki trading shop 5 sao!shop uy tín! giao ...      1\n",
       "...                                                  ...    ...\n",
       "41460                                    cực kỳ hài lòng      1\n",
       "41461              Sạc pin chỉ full 88%, nhờ shop tư vấn     -1\n",
       "41462                                       nhìn rất ok.      1\n",
       "41463                        Giao hang nhah hang dung ok      1\n",
       "41464          Giao hàng hơi chậm, quá thời gian dự kiến      1\n",
       "\n",
       "[77734 rows x 2 columns]"
      ]
     },
     "execution_count": 13,
     "metadata": {},
     "output_type": "execute_result"
    }
   ],
   "source": [
    "rating_data = review_data[['content','rating_class']]\n",
    "rating_data = rating_data.rename(columns={'rating_class':\"class\"})\n",
    "rating_data"
   ]
  },
  {
   "cell_type": "code",
   "execution_count": 14,
   "metadata": {},
   "outputs": [],
   "source": [
    "data_train, data_test  = train_test_split(rating_data, test_size=0.2)"
   ]
  },
  {
   "cell_type": "code",
   "execution_count": 15,
   "metadata": {},
   "outputs": [
    {
     "data": {
      "text/plain": [
       "class\n",
       " 1    51175\n",
       "-1     7440\n",
       " 0     3572\n",
       "dtype: int64"
      ]
     },
     "execution_count": 15,
     "metadata": {},
     "output_type": "execute_result"
    }
   ],
   "source": [
    "data_train.value_counts(\"class\")"
   ]
  },
  {
   "cell_type": "code",
   "execution_count": 16,
   "metadata": {},
   "outputs": [
    {
     "data": {
      "text/plain": [
       "class\n",
       " 1    12849\n",
       "-1     1843\n",
       " 0      855\n",
       "dtype: int64"
      ]
     },
     "execution_count": 16,
     "metadata": {},
     "output_type": "execute_result"
    }
   ],
   "source": [
    "data_test.value_counts(\"class\")"
   ]
  },
  {
   "cell_type": "code",
   "execution_count": 19,
   "metadata": {},
   "outputs": [],
   "source": [
    "data_train.to_csv('data_train.csv', index=False)\n",
    "data_test.to_csv('data_test.csv', index=False)"
   ]
  },
  {
   "cell_type": "markdown",
   "metadata": {
    "tags": []
   },
   "source": [
    "## DATA PREPARATION"
   ]
  },
  {
   "cell_type": "code",
   "execution_count": 2,
   "metadata": {},
   "outputs": [],
   "source": [
    "data_train = pd.read_csv('data_train.csv');\n",
    "data_test = pd.read_csv('data_test.csv');"
   ]
  },
  {
   "cell_type": "code",
   "execution_count": 3,
   "metadata": {},
   "outputs": [],
   "source": [
    "\n",
    "data_train_1 = data_train[data_train['class'] == 1]\n",
    "data_train_0 = data_train[data_train['class'] == 0]\n",
    "data_train_n1 = data_train[data_train['class'] == -1]\n",
    "\n",
    "data_train_1 = resample(data_train_1, replace=False, n_samples=3000, random_state=1)\n",
    "data_train_0 = resample(data_train_0, replace=False, n_samples=3000, random_state=2)\n",
    "data_train_n1 = resample(data_train_n1, replace=False, n_samples=3000, random_state=3)\n",
    "\n",
    "data_train = pd.concat([data_train_1, data_train_0, data_train_n1])"
   ]
  },
  {
   "cell_type": "code",
   "execution_count": 4,
   "metadata": {},
   "outputs": [
    {
     "data": {
      "text/plain": [
       "class\n",
       "-1    3000\n",
       " 0    3000\n",
       " 1    3000\n",
       "dtype: int64"
      ]
     },
     "execution_count": 4,
     "metadata": {},
     "output_type": "execute_result"
    }
   ],
   "source": [
    "data_train.value_counts('class')"
   ]
  },
  {
   "cell_type": "code",
   "execution_count": 5,
   "metadata": {},
   "outputs": [],
   "source": [
    "labels = data_train.iloc[:,1].values\n",
    "reviews = data_train.iloc[:,0].values\n",
    "encoded_labels = []\n",
    "for label in labels:\n",
    "    if label == -1:\n",
    "        encoded_labels.append([1,0,0])\n",
    "    elif label ==0:\n",
    "        encoded_labels.append([0,1,0])\n",
    "    else:\n",
    "        encoded_labels.append([0,0,1])\n",
    "\n",
    "encoded_labels = np.array(encoded_labels)"
   ]
  },
  {
   "cell_type": "code",
   "execution_count": 6,
   "metadata": {},
   "outputs": [
    {
     "name": "stdout",
     "output_type": "stream",
     "text": [
      "Khá hài lòng\n",
      "Khá hài lòng\n"
     ]
    }
   ],
   "source": [
    "reviews_processed = []\n",
    "unlabeld_processed = []\n",
    "for review in reviews:\n",
    "    review_cool_one = ''.join([char for char in review if char not in digits])\n",
    "    reviews_processed.append(review_cool_one)\n",
    "    \n",
    "print(reviews[0])\n",
    "print(reviews_processed[0])"
   ]
  },
  {
   "cell_type": "code",
   "execution_count": 7,
   "metadata": {},
   "outputs": [
    {
     "name": "stdout",
     "output_type": "stream",
     "text": [
      "['khá', 'hài_lòng']\n"
     ]
    }
   ],
   "source": [
    "word_reviews = []\n",
    "all_words = []\n",
    "for review in reviews_processed:\n",
    "    review = ViTokenizer.tokenize(review.lower())\n",
    "    word_reviews.append(review.split())\n",
    "\n",
    "print(word_reviews[0])"
   ]
  },
  {
   "cell_type": "code",
   "execution_count": 8,
   "metadata": {},
   "outputs": [],
   "source": [
    "EMBEDDING_DIM = 400 #how big is each word vector\n",
    "MAX_VOCAB_SIZE = 10000 #how many unique words to use\n",
    "MAX_SEQUENCE_LENGTH = 300 #max number of words in a comment to use"
   ]
  },
  {
   "cell_type": "code",
   "execution_count": 9,
   "metadata": {},
   "outputs": [],
   "source": [
    "tokenizer = Tokenizer(num_words = MAX_VOCAB_SIZE, lower = True, char_level = False)\n",
    "tokenizer.fit_on_texts(word_reviews)\n",
    "sequences_train = tokenizer.texts_to_sequences(word_reviews)\n",
    "word_index = tokenizer.word_index"
   ]
  },
  {
   "cell_type": "code",
   "execution_count": 10,
   "metadata": {},
   "outputs": [],
   "source": [
    "data = pad_sequences(sequences_train, maxlen = MAX_SEQUENCE_LENGTH)\n",
    "labels = encoded_labels"
   ]
  },
  {
   "cell_type": "code",
   "execution_count": 11,
   "metadata": {},
   "outputs": [],
   "source": [
    "sub_data = data[:2000]\n",
    "sub_labels = labels[:2000]"
   ]
  },
  {
   "cell_type": "code",
   "execution_count": 12,
   "metadata": {},
   "outputs": [
    {
     "data": {
      "text/plain": [
       "(2000, 300)"
      ]
     },
     "execution_count": 12,
     "metadata": {},
     "output_type": "execute_result"
    }
   ],
   "source": [
    "sub_data.shape"
   ]
  },
  {
   "cell_type": "code",
   "execution_count": 13,
   "metadata": {},
   "outputs": [
    {
     "name": "stdout",
     "output_type": "stream",
     "text": [
      "Shape of X train and X validation tensor (9000, 300)\n",
      "Shape of label train and validation tensor (9000, 3)\n"
     ]
    }
   ],
   "source": [
    "print('Shape of X train and X validation tensor', data.shape)\n",
    "print('Shape of label train and validation tensor', labels.shape)"
   ]
  },
  {
   "cell_type": "code",
   "execution_count": 14,
   "metadata": {},
   "outputs": [
    {
     "data": {
      "text/plain": [
       "array([[0., 0., 0., ..., 0., 0., 0.],\n",
       "       [0., 0., 0., ..., 0., 0., 0.],\n",
       "       [0., 0., 0., ..., 0., 0., 0.],\n",
       "       ...,\n",
       "       [0., 0., 0., ..., 0., 0., 0.],\n",
       "       [0., 0., 0., ..., 0., 0., 0.],\n",
       "       [0., 0., 0., ..., 0., 0., 0.]])"
      ]
     },
     "execution_count": 14,
     "metadata": {},
     "output_type": "execute_result"
    }
   ],
   "source": [
    "vocabulary_size = min(len(word_index) +1, MAX_VOCAB_SIZE)\n",
    "embedding_matrix = np.zeros((vocabulary_size, EMBEDDING_DIM))\n",
    "embedding_matrix"
   ]
  },
  {
   "cell_type": "markdown",
   "metadata": {
    "jp-MarkdownHeadingCollapsed": true,
    "tags": []
   },
   "source": [
    "## Test data preparation"
   ]
  },
  {
   "cell_type": "code",
   "execution_count": 15,
   "metadata": {},
   "outputs": [],
   "source": [
    "# data_test.value_counts('class')\n",
    "\n",
    "data_test = pd.read_csv('data_test.csv');"
   ]
  },
  {
   "cell_type": "code",
   "execution_count": 16,
   "metadata": {},
   "outputs": [],
   "source": [
    "# data_test_1 = data_test[data_test['class'] == 1]\n",
    "# data_test_0 = data_test[data_test['class'] == 0]\n",
    "# data_test_n1 = data_test[data_test['class'] == -1]\n",
    "\n",
    "# data_test_1 = resample(data_test_1, replace=False, n_samples=1000, random_state=1)\n",
    "# data_test_0 = resample(data_test_0, replace=False, n_samples=855, random_state=2)\n",
    "# data_test_n1 = resample(data_test_n1, replace=False, n_samples=1000, random_state=3)\n",
    "\n",
    "# data_test = pd.concat([data_test_1, data_test_0, data_test_n1])"
   ]
  },
  {
   "cell_type": "code",
   "execution_count": 17,
   "metadata": {},
   "outputs": [],
   "source": [
    "labels_test = data_test.iloc[:, 1].values\n",
    "reviews_test = data_test.iloc[:, 0].values\n",
    "encoded_labels_test = []\n",
    "for label_test in labels_test:\n",
    "    if label_test == -1:\n",
    "        encoded_labels_test.append([1,0,0])\n",
    "    elif label_test ==0:\n",
    "        encoded_labels_test.append([0,1,0])\n",
    "    else:\n",
    "        encoded_labels_test.append([0,0,1])\n",
    "        \n",
    "encoded_labels_test = np.array(encoded_labels_test)"
   ]
  },
  {
   "cell_type": "code",
   "execution_count": 18,
   "metadata": {},
   "outputs": [],
   "source": [
    "reviews_processed_test = []\n",
    "unlabeled_processed_test = []\n",
    "for review_test in reviews_test:\n",
    "    review_cool_one = ''.join([char for char in review_test if char not in digits])\n",
    "    reviews_processed_test.append(review_cool_one)"
   ]
  },
  {
   "cell_type": "code",
   "execution_count": 19,
   "metadata": {},
   "outputs": [],
   "source": [
    "word_reviews_test = []\n",
    "all_words = []\n",
    "for review_test in reviews_processed_test:\n",
    "    review_test = ViTokenizer.tokenize(review_test.lower())\n",
    "    word_reviews_test.append(review_test.split())"
   ]
  },
  {
   "cell_type": "code",
   "execution_count": 20,
   "metadata": {},
   "outputs": [],
   "source": [
    "sequences_test = tokenizer.texts_to_sequences(word_reviews_test)\n",
    "data_test = pad_sequences(sequences_test, maxlen = MAX_SEQUENCE_LENGTH)\n",
    "labels_test = encoded_labels_test"
   ]
  },
  {
   "cell_type": "code",
   "execution_count": 21,
   "metadata": {},
   "outputs": [
    {
     "name": "stdout",
     "output_type": "stream",
     "text": [
      "Shape of X train and X validation tencor:  (15547, 300)\n",
      "Shape of label train and X validation tencor:  (15547, 3)\n"
     ]
    }
   ],
   "source": [
    "print('Shape of X train and X validation tencor: ', data_test.shape)\n",
    "print('Shape of label train and X validation tencor: ', labels_test.shape)"
   ]
  },
  {
   "cell_type": "code",
   "execution_count": 22,
   "metadata": {},
   "outputs": [],
   "source": [
    "sub_data_test = data_test[:500]\n",
    "sub_labels_test = labels_test[:500]"
   ]
  },
  {
   "cell_type": "markdown",
   "metadata": {
    "tags": []
   },
   "source": [
    "## LSTM"
   ]
  },
  {
   "cell_type": "code",
   "execution_count": 23,
   "metadata": {},
   "outputs": [],
   "source": [
    "model_LSTM = Sequential()\n",
    "model_LSTM.add(Embedding(MAX_VOCAB_SIZE, EMBEDDING_DIM, input_length=MAX_SEQUENCE_LENGTH))\n",
    "model_LSTM.add(LSTM(128, dropout = 0.1, return_sequences = False))\n",
    "model_LSTM.add(Dense(10, activation='relu'))\n",
    "model_LSTM.add(Dense(3, activation='softmax'))\n",
    "model_LSTM.compile(loss='categorical_crossentropy', optimizer='adam', metrics=['acc'])"
   ]
  },
  {
   "cell_type": "code",
   "execution_count": 24,
   "metadata": {
    "tags": []
   },
   "outputs": [
    {
     "name": "stdout",
     "output_type": "stream",
     "text": [
      "Model: \"sequential\"\n",
      "_________________________________________________________________\n",
      " Layer (type)                Output Shape              Param #   \n",
      "=================================================================\n",
      " embedding (Embedding)       (None, 300, 400)          4000000   \n",
      "                                                                 \n",
      " lstm (LSTM)                 (None, 128)               270848    \n",
      "                                                                 \n",
      " dense (Dense)               (None, 10)                1290      \n",
      "                                                                 \n",
      " dense_1 (Dense)             (None, 3)                 33        \n",
      "                                                                 \n",
      "=================================================================\n",
      "Total params: 4,272,171\n",
      "Trainable params: 4,272,171\n",
      "Non-trainable params: 0\n",
      "_________________________________________________________________\n"
     ]
    }
   ],
   "source": [
    "model_LSTM.summary()"
   ]
  },
  {
   "cell_type": "code",
   "execution_count": 25,
   "metadata": {},
   "outputs": [],
   "source": [
    "early_stopping = EarlyStopping(monitor = 'loss', min_delta = 0.1, patience = 4, verbose = 1)\n",
    "callbacks_list = [early_stopping]"
   ]
  },
  {
   "cell_type": "code",
   "execution_count": 26,
   "metadata": {
    "tags": []
   },
   "outputs": [
    {
     "name": "stdout",
     "output_type": "stream",
     "text": [
      "Epoch 1/100\n",
      "36/36 [==============================] - 127s 3s/step - loss: 0.9682 - acc: 0.5081 - val_loss: 0.6125 - val_acc: 0.7621\n",
      "Epoch 2/100\n",
      "36/36 [==============================] - 120s 3s/step - loss: 0.6835 - acc: 0.6936 - val_loss: 0.6821 - val_acc: 0.7445\n",
      "Epoch 3/100\n",
      "36/36 [==============================] - 126s 4s/step - loss: 0.5414 - acc: 0.7790 - val_loss: 0.5669 - val_acc: 0.7803\n",
      "Epoch 4/100\n",
      "36/36 [==============================] - 121s 3s/step - loss: 0.4419 - acc: 0.8312 - val_loss: 0.6620 - val_acc: 0.7438\n",
      "Epoch 5/100\n",
      "36/36 [==============================] - 121s 3s/step - loss: 0.3604 - acc: 0.8703 - val_loss: 0.7023 - val_acc: 0.7565\n",
      "Epoch 6/100\n",
      "36/36 [==============================] - 119s 3s/step - loss: 0.3140 - acc: 0.8871 - val_loss: 0.6356 - val_acc: 0.7878\n",
      "Epoch 7/100\n",
      "36/36 [==============================] - 128s 4s/step - loss: 0.2805 - acc: 0.8981 - val_loss: 0.8488 - val_acc: 0.7230\n",
      "Epoch 8/100\n",
      "36/36 [==============================] - 136s 4s/step - loss: 0.2407 - acc: 0.9188 - val_loss: 0.9860 - val_acc: 0.7042\n",
      "Epoch 9/100\n",
      "36/36 [==============================] - 147s 4s/step - loss: 0.2128 - acc: 0.9303 - val_loss: 0.8966 - val_acc: 0.7335\n",
      "Epoch 10/100\n",
      "36/36 [==============================] - 158s 4s/step - loss: 0.1842 - acc: 0.9393 - val_loss: 0.9064 - val_acc: 0.7530\n",
      "Epoch 11/100\n",
      "36/36 [==============================] - 137s 4s/step - loss: 0.1729 - acc: 0.9423 - val_loss: 0.7326 - val_acc: 0.8003\n",
      "Epoch 12/100\n",
      "36/36 [==============================] - 129s 4s/step - loss: 0.1878 - acc: 0.9356 - val_loss: 0.9216 - val_acc: 0.7659\n",
      "Epoch 12: early stopping\n",
      "CPU times: total: 2h 1min 1s\n",
      "Wall time: 26min 8s\n"
     ]
    }
   ],
   "source": [
    "%%time\n",
    "history = model_LSTM.fit(data, labels, epochs=100, batch_size=256, callbacks=callbacks_list, verbose = 1,shuffle = True, validation_data=[data_test, labels_test])"
   ]
  },
  {
   "cell_type": "code",
   "execution_count": 27,
   "metadata": {},
   "outputs": [
    {
     "data": {
      "image/png": "[encoded data removed]",
      "text/plain": [
       "<IPython.core.display.Image object>"
      ]
     },
     "execution_count": 27,
     "metadata": {},
     "output_type": "execute_result"
    }
   ],
   "source": [
    "tf.keras.utils.plot_model(model_LSTM, to_file='model_LSTM.png', show_shapes=True, show_layer_activations=True)"
   ]
  },
  {
   "cell_type": "code",
   "execution_count": 28,
   "metadata": {},
   "outputs": [
    {
     "name": "stdout",
     "output_type": "stream",
     "text": [
      "486/486 [==============================] - 61s 125ms/step - loss: 0.9216 - acc: 0.7659\n",
      "loss: 0.92\n",
      "acc: 76.59%\n"
     ]
    }
   ],
   "source": [
    "score = model_LSTM.evaluate(data_test, labels_test)\n",
    "\n",
    "print(\"%s: %.2f\" %(model_LSTM.metrics_names[0], score[0]))\n",
    "print(\"%s: %.2f%%\" %(model_LSTM.metrics_names[1], score[1]*100))"
   ]
  },
  {
   "cell_type": "code",
   "execution_count": 29,
   "metadata": {
    "tags": []
   },
   "outputs": [
    {
     "data": {
      "image/png": "[encoded data removed]",
      "text/plain": [
       "<Figure size 720x288 with 2 Axes>"
      ]
     },
     "metadata": {
      "needs_background": "light"
     },
     "output_type": "display_data"
    }
   ],
   "source": [
    "def plot_loss_accuracy(history):\n",
    "    fig, axs = plt.subplots(1,2, figsize = (10, 4))\n",
    "    hist = history.history\n",
    "    for ax, metric in zip(axs, [\"loss\", \"acc\"]):\n",
    "        ax.plot(hist[metric])\n",
    "        ax.legend([metric])\n",
    "        ax.set_title(metric)\n",
    "    plt.style.use('default')\n",
    "    \n",
    "plot_loss_accuracy(history)"
   ]
  },
  {
   "cell_type": "code",
   "execution_count": 73,
   "metadata": {},
   "outputs": [
    {
     "name": "stdout",
     "output_type": "stream",
     "text": [
      "1/1 [==============================] - 0s 380ms/step\n",
      "Vấn đề lớn nhất là nó dày quá a~ to, không thon gọn tinh tế như những mẫu khác, màu trắng nữa, dễ dơ. Còn lại thì okie nha.\n",
      "Tích cực\n",
      "Bình thường\n"
     ]
    }
   ],
   "source": [
    "prediction = model_LSTM.predict(data_test[:10])\n",
    "\n",
    "labels_text = ['Tiêu cực', 'Bình thường', 'Tích cực']\n",
    "num=1\n",
    "print(reviews_test[num])\n",
    "print(labels_text[np.argmax(labels_test[num])])\n",
    "print(labels_text[np.argmax(prediction[num])])"
   ]
  },
  {
   "cell_type": "code",
   "execution_count": 31,
   "metadata": {
    "tags": []
   },
   "outputs": [
    {
     "name": "stdout",
     "output_type": "stream",
     "text": [
      "486/486 [==============================] - 58s 120ms/step\n"
     ]
    }
   ],
   "source": [
    "preds = model_LSTM.predict(data_test)\n"
   ]
  },
  {
   "cell_type": "code",
   "execution_count": 32,
   "metadata": {},
   "outputs": [],
   "source": [
    "test_class = np.argmax(labels_test, axis = 1)\n",
    "preds_class = np.argmax(preds, axis = 1)\n"
   ]
  },
  {
   "cell_type": "code",
   "execution_count": 33,
   "metadata": {},
   "outputs": [
    {
     "data": {
      "text/plain": [
       "array([0.64505597, 0.25397696, 0.86891192])"
      ]
     },
     "execution_count": 33,
     "metadata": {},
     "output_type": "execute_result"
    }
   ],
   "source": [
    "f1_score(test_class, preds_class, average=None)"
   ]
  },
  {
   "cell_type": "markdown",
   "metadata": {
    "jp-MarkdownHeadingCollapsed": true,
    "tags": []
   },
   "source": [
    "## LSTM Attention"
   ]
  },
  {
   "cell_type": "code",
   "execution_count": 36,
   "metadata": {},
   "outputs": [],
   "source": [
    "sequence_length = sub_data.shape[1]\n",
    "drop = 0.1\n",
    "\n",
    "inputs = Input(shape = (sequence_length,))\n",
    "embedding = Embedding(vocabulary_size, EMBEDDING_DIM, weights = [embedding_matrix])(inputs)\n",
    "bilstm = LSTM(128, return_sequences = True)(embedding)\n",
    "attention_layer = attention()(bilstm)\n",
    "output = Dense(units = 3, activation = 'softmax')(attention_layer)\n",
    "\n",
    "model_lstm_att = Model(inputs, output)"
   ]
  },
  {
   "cell_type": "code",
   "execution_count": 37,
   "metadata": {},
   "outputs": [],
   "source": [
    "# Retrieve the config\n",
    "config = model_lstm_att.get_config()\n",
    "\n",
    "# At loading time, register the custom objects with a `custom_object_scope`:\n",
    "custom_objects = {\"attention\": attention}\n",
    "with keras.utils.custom_object_scope(custom_objects):\n",
    "    model_lstm_att = keras.Model.from_config(config)\n",
    "    \n",
    "model_lstm_att.compile(loss='categorical_crossentropy', optimizer='adam', metrics=['acc'])"
   ]
  },
  {
   "cell_type": "code",
   "execution_count": null,
   "metadata": {},
   "outputs": [],
   "source": [
    "tf.keras.utils.plot_model(model_lstm_att, to_file='model_lstm_att.png', show_shapes=True, show_layer_activations=True)"
   ]
  },
  {
   "cell_type": "code",
   "execution_count": 38,
   "metadata": {},
   "outputs": [
    {
     "name": "stdout",
     "output_type": "stream",
     "text": [
      "Epoch 1/100\n",
      "36/36 [==============================] - 130s 4s/step - loss: 1.0979 - acc: 0.3586 - val_loss: 1.0635 - val_acc: 0.7398\n",
      "Epoch 2/100\n",
      "36/36 [==============================] - 137s 4s/step - loss: 1.0237 - acc: 0.4569 - val_loss: 0.8212 - val_acc: 0.7372\n",
      "Epoch 3/100\n",
      "36/36 [==============================] - 132s 4s/step - loss: 0.8493 - acc: 0.6068 - val_loss: 0.8054 - val_acc: 0.7348\n",
      "Epoch 4/100\n",
      "36/36 [==============================] - 138s 4s/step - loss: 0.7271 - acc: 0.6813 - val_loss: 0.7597 - val_acc: 0.7387\n",
      "Epoch 5/100\n",
      "36/36 [==============================] - 137s 4s/step - loss: 0.6410 - acc: 0.7371 - val_loss: 0.5797 - val_acc: 0.8169\n",
      "Epoch 6/100\n",
      "36/36 [==============================] - 148s 4s/step - loss: 0.5606 - acc: 0.7849 - val_loss: 0.6642 - val_acc: 0.7892\n",
      "Epoch 7/100\n",
      "36/36 [==============================] - 143s 4s/step - loss: 0.4955 - acc: 0.8170 - val_loss: 0.6508 - val_acc: 0.8114\n",
      "Epoch 8/100\n",
      "36/36 [==============================] - 135s 4s/step - loss: 0.4523 - acc: 0.8316 - val_loss: 0.7457 - val_acc: 0.7834\n",
      "Epoch 9/100\n",
      "36/36 [==============================] - 132s 4s/step - loss: 0.4024 - acc: 0.8548 - val_loss: 0.7771 - val_acc: 0.7791\n",
      "Epoch 10/100\n",
      "36/36 [==============================] - 137s 4s/step - loss: 0.3843 - acc: 0.8656 - val_loss: 0.8072 - val_acc: 0.7818\n",
      "Epoch 11/100\n",
      "36/36 [==============================] - 128s 4s/step - loss: 0.3474 - acc: 0.8774 - val_loss: 0.7153 - val_acc: 0.8050\n",
      "Epoch 12/100\n",
      "36/36 [==============================] - 126s 4s/step - loss: 0.3184 - acc: 0.8884 - val_loss: 0.8656 - val_acc: 0.7816\n",
      "Epoch 13/100\n",
      "36/36 [==============================] - 125s 4s/step - loss: 0.2875 - acc: 0.9012 - val_loss: 0.8662 - val_acc: 0.7817\n",
      "Epoch 14/100\n",
      "36/36 [==============================] - 126s 4s/step - loss: 0.2778 - acc: 0.9037 - val_loss: 0.9902 - val_acc: 0.7672\n",
      "Epoch 15/100\n",
      "36/36 [==============================] - 120s 3s/step - loss: 0.2710 - acc: 0.9070 - val_loss: 0.9784 - val_acc: 0.7723\n",
      "Epoch 15: early stopping\n",
      "CPU times: total: 2h 24min 54s\n",
      "Wall time: 33min 13s\n"
     ]
    },
    {
     "data": {
      "text/plain": [
       "<keras.callbacks.History at 0x19998c6c9d0>"
      ]
     },
     "execution_count": 38,
     "metadata": {},
     "output_type": "execute_result"
    }
   ],
   "source": [
    "%%time\n",
    "model_lstm_att.fit(data, labels,epochs = 100, batch_size = 256, callbacks = callbacks_list, verbose = 1,shuffle = True, validation_data=[data_test, labels_test])"
   ]
  },
  {
   "cell_type": "code",
   "execution_count": 39,
   "metadata": {},
   "outputs": [
    {
     "name": "stdout",
     "output_type": "stream",
     "text": [
      "486/486 [==============================] - 60s 123ms/step - loss: 0.9784 - acc: 0.7723\n",
      "loss: 0.98\n",
      "acc: 77.23%\n"
     ]
    }
   ],
   "source": [
    "score = model_lstm_att.evaluate(data_test, labels_test)\n",
    "\n",
    "print(\"%s: %.2f\" %(model_lstm_att.metrics_names[0], score[0]))\n",
    "print(\"%s: %.2f%%\" %(model_lstm_att.metrics_names[1], score[1]*100))"
   ]
  },
  {
   "cell_type": "code",
   "execution_count": 40,
   "metadata": {},
   "outputs": [
    {
     "name": "stdout",
     "output_type": "stream",
     "text": [
      "1/1 [==============================] - 1s 519ms/step\n",
      "Hàng chính hãng, tuy nhiên giao hàng vẫn ko đúng hẹn\n",
      "Tích cực\n",
      "Tích cực\n"
     ]
    }
   ],
   "source": [
    "prediction = model_lstm_att.predict(data_test[:10])\n",
    "\n",
    "labels_text = ['Tiêu cực', 'Bình thường', 'Tích cực']\n",
    "num=2\n",
    "print(reviews_test[num])\n",
    "print(labels_text[np.argmax(labels_test[num])])\n",
    "print(labels_text[np.argmax(prediction[num])])"
   ]
  },
  {
   "cell_type": "code",
   "execution_count": 41,
   "metadata": {},
   "outputs": [
    {
     "name": "stdout",
     "output_type": "stream",
     "text": [
      "486/486 [==============================] - 60s 123ms/step\n"
     ]
    },
    {
     "data": {
      "text/plain": [
       "array([0.64652724, 0.26484254, 0.87737183])"
      ]
     },
     "execution_count": 41,
     "metadata": {},
     "output_type": "execute_result"
    }
   ],
   "source": [
    "preds = model_lstm_att.predict(data_test)\n",
    "preds_class = np.argmax(preds, axis = 1)\n",
    "f1_score(test_class, preds_class, average=None)"
   ]
  },
  {
   "cell_type": "markdown",
   "metadata": {
    "jp-MarkdownHeadingCollapsed": true,
    "tags": []
   },
   "source": [
    "## Bi-LSTM"
   ]
  },
  {
   "cell_type": "code",
   "execution_count": 42,
   "metadata": {},
   "outputs": [],
   "source": [
    "model_Bi_LSTM = Sequential()\n",
    "model_Bi_LSTM.add(Embedding(MAX_VOCAB_SIZE, EMBEDDING_DIM, input_length=MAX_SEQUENCE_LENGTH))\n",
    "model_Bi_LSTM.add(Bidirectional(LSTM(128, dropout = 0.1, return_sequences = False)))\n",
    "model_Bi_LSTM.add(Dense(64, activation='relu'))\n",
    "model_Bi_LSTM.add(Dense(3, activation='sigmoid'))\n",
    "model_Bi_LSTM.compile(loss='categorical_crossentropy', optimizer='adam', metrics=['acc'])"
   ]
  },
  {
   "cell_type": "code",
   "execution_count": 43,
   "metadata": {},
   "outputs": [
    {
     "name": "stdout",
     "output_type": "stream",
     "text": [
      "Model: \"sequential_1\"\n",
      "_________________________________________________________________\n",
      " Layer (type)                Output Shape              Param #   \n",
      "=================================================================\n",
      " embedding_3 (Embedding)     (None, 300, 400)          4000000   \n",
      "                                                                 \n",
      " bidirectional (Bidirectiona  (None, 256)              541696    \n",
      " l)                                                              \n",
      "                                                                 \n",
      " dense_3 (Dense)             (None, 64)                16448     \n",
      "                                                                 \n",
      " dense_4 (Dense)             (None, 3)                 195       \n",
      "                                                                 \n",
      "=================================================================\n",
      "Total params: 4,558,339\n",
      "Trainable params: 4,558,339\n",
      "Non-trainable params: 0\n",
      "_________________________________________________________________\n"
     ]
    }
   ],
   "source": [
    "model_Bi_LSTM.summary()"
   ]
  },
  {
   "cell_type": "code",
   "execution_count": 44,
   "metadata": {
    "tags": []
   },
   "outputs": [
    {
     "name": "stdout",
     "output_type": "stream",
     "text": [
      "Epoch 1/100\n",
      "36/36 [==============================] - 317s 9s/step - loss: 0.9265 - acc: 0.5251 - val_loss: 0.4843 - val_acc: 0.8081\n",
      "Epoch 2/100\n",
      "36/36 [==============================] - 347s 10s/step - loss: 0.6607 - acc: 0.7036 - val_loss: 0.5981 - val_acc: 0.7576\n",
      "Epoch 3/100\n",
      "36/36 [==============================] - 385s 11s/step - loss: 0.5222 - acc: 0.7856 - val_loss: 0.6416 - val_acc: 0.7731\n",
      "Epoch 4/100\n",
      "36/36 [==============================] - 427s 12s/step - loss: 0.4185 - acc: 0.8367 - val_loss: 0.6161 - val_acc: 0.7674\n",
      "Epoch 5/100\n",
      "36/36 [==============================] - 603s 17s/step - loss: 0.3623 - acc: 0.8678 - val_loss: 0.7433 - val_acc: 0.7471\n",
      "Epoch 6/100\n",
      "36/36 [==============================] - 575s 16s/step - loss: 0.3007 - acc: 0.8903 - val_loss: 0.7832 - val_acc: 0.7520\n",
      "Epoch 7/100\n",
      "36/36 [==============================] - 569s 16s/step - loss: 0.2572 - acc: 0.9072 - val_loss: 0.9626 - val_acc: 0.7229\n",
      "Epoch 8/100\n",
      "36/36 [==============================] - 579s 16s/step - loss: 0.2333 - acc: 0.9189 - val_loss: 0.8895 - val_acc: 0.7455\n",
      "Epoch 9/100\n",
      "36/36 [==============================] - 596s 17s/step - loss: 0.2091 - acc: 0.9274 - val_loss: 1.0017 - val_acc: 0.7320\n",
      "Epoch 10/100\n",
      "36/36 [==============================] - 617s 17s/step - loss: 0.1719 - acc: 0.9431 - val_loss: 0.9807 - val_acc: 0.7433\n",
      "Epoch 11/100\n",
      "36/36 [==============================] - 575s 16s/step - loss: 0.1540 - acc: 0.9486 - val_loss: 1.0090 - val_acc: 0.7475\n",
      "Epoch 12/100\n",
      "36/36 [==============================] - 576s 16s/step - loss: 0.1367 - acc: 0.9547 - val_loss: 1.1089 - val_acc: 0.7538\n",
      "Epoch 13/100\n",
      "36/36 [==============================] - 429s 12s/step - loss: 0.1598 - acc: 0.9442 - val_loss: 1.1479 - val_acc: 0.7215\n",
      "Epoch 14/100\n",
      "36/36 [==============================] - 338s 9s/step - loss: 0.1396 - acc: 0.9520 - val_loss: 1.1798 - val_acc: 0.7387\n",
      "Epoch 14: early stopping\n",
      "CPU times: total: 6h 57s\n",
      "Wall time: 1h 55min 32s\n"
     ]
    }
   ],
   "source": [
    "%%time\n",
    "history = model_Bi_LSTM.fit(data, labels, epochs=100, batch_size=256, callbacks=callbacks_list, verbose = 1,shuffle = True, validation_data=[data_test, labels_test])"
   ]
  },
  {
   "cell_type": "code",
   "execution_count": 45,
   "metadata": {},
   "outputs": [
    {
     "data": {
      "image/png": "[encoded data removed]",
      "text/plain": [
       "<IPython.core.display.Image object>"
      ]
     },
     "execution_count": 45,
     "metadata": {},
     "output_type": "execute_result"
    }
   ],
   "source": [
    "tf.keras.utils.plot_model(model_Bi_LSTM, to_file='model_Bi_LSTM.png', show_shapes=True, show_layer_activations=True)"
   ]
  },
  {
   "cell_type": "code",
   "execution_count": 46,
   "metadata": {},
   "outputs": [
    {
     "name": "stdout",
     "output_type": "stream",
     "text": [
      "486/486 [==============================] - 153s 315ms/step - loss: 1.1798 - acc: 0.7387\n",
      "loss: 1.18\n",
      "acc: 73.87%\n"
     ]
    }
   ],
   "source": [
    "score = model_Bi_LSTM.evaluate(data_test, labels_test)\n",
    "\n",
    "print(\"%s: %.2f\" %(model_Bi_LSTM.metrics_names[0], score[0]))\n",
    "print(\"%s: %.2f%%\" %(model_Bi_LSTM.metrics_names[1], score[1]*100))"
   ]
  },
  {
   "cell_type": "code",
   "execution_count": 47,
   "metadata": {},
   "outputs": [
    {
     "name": "stdout",
     "output_type": "stream",
     "text": [
      "486/486 [==============================] - 148s 302ms/step\n"
     ]
    },
    {
     "data": {
      "text/plain": [
       "array([0.62596948, 0.23955172, 0.85210835])"
      ]
     },
     "execution_count": 47,
     "metadata": {},
     "output_type": "execute_result"
    }
   ],
   "source": [
    "preds = model_Bi_LSTM.predict(data_test)\n",
    "preds_class = np.argmax(preds, axis = 1)\n",
    "f1_score(test_class, preds_class, average=None)"
   ]
  },
  {
   "cell_type": "markdown",
   "metadata": {
    "jp-MarkdownHeadingCollapsed": true,
    "tags": []
   },
   "source": [
    "## Bi LSTM Attention"
   ]
  },
  {
   "cell_type": "code",
   "execution_count": 35,
   "metadata": {
    "tags": []
   },
   "outputs": [],
   "source": [
    "# Add attention layer to the deep learning network\n",
    "class attention(Layer):\n",
    "    def __init__(self,**kwargs):\n",
    "        super(attention,self).__init__(**kwargs)\n",
    " \n",
    "    def build(self,input_shape):\n",
    "        self.W=self.add_weight(name='attention_weight', shape=(input_shape[-1],1), \n",
    "                               initializer='random_normal', trainable=True)\n",
    "        self.b=self.add_weight(name='attention_bias', shape=(input_shape[1],1), \n",
    "                               initializer='zeros', trainable=True)        \n",
    "        super(attention, self).build(input_shape)\n",
    " \n",
    "    def call(self,x):\n",
    "        # Alignment scores. Pass them through tanh function\n",
    "        e = K.tanh(K.dot(x,self.W)+self.b)\n",
    "        # Remove dimension of size 1\n",
    "        e = K.squeeze(e, axis=-1)   \n",
    "        # Compute the weights\n",
    "        alpha = K.softmax(e)\n",
    "        # Reshape to tensorFlow format\n",
    "        alpha = K.expand_dims(alpha, axis=-1)\n",
    "        # Compute the context vector\n",
    "        context = x * alpha\n",
    "        context = K.sum(context, axis=1)\n",
    "        return context"
   ]
  },
  {
   "cell_type": "code",
   "execution_count": 48,
   "metadata": {
    "tags": []
   },
   "outputs": [],
   "source": [
    "sequence_length = sub_data.shape[1]\n",
    "drop = 0.1\n",
    "\n",
    "inputs = Input(shape = (sequence_length,))\n",
    "embedding = Embedding(vocabulary_size, EMBEDDING_DIM, weights = [embedding_matrix])(inputs)\n",
    "bilstm = Bidirectional(LSTM(128, return_sequences = True))(embedding)\n",
    "attention_layer = attention()(bilstm)\n",
    "output = Dense(units = 3, activation = 'softmax')(attention_layer)\n",
    "\n",
    "model_bi_lstm_att = Model(inputs, output)"
   ]
  },
  {
   "cell_type": "code",
   "execution_count": 49,
   "metadata": {},
   "outputs": [],
   "source": [
    "# Retrieve the config\n",
    "config = model_bi_lstm_att.get_config()\n",
    "\n",
    "# At loading time, register the custom objects with a `custom_object_scope`:\n",
    "custom_objects = {\"attention\": attention}\n",
    "with keras.utils.custom_object_scope(custom_objects):\n",
    "    new_model_bi_lstm_att = keras.Model.from_config(config)\n",
    "    \n",
    "new_model_bi_lstm_att.compile(loss='categorical_crossentropy', optimizer='adam', metrics=['acc'])"
   ]
  },
  {
   "cell_type": "code",
   "execution_count": 50,
   "metadata": {},
   "outputs": [
    {
     "data": {
      "image/png": "[encoded data removed]",
      "text/plain": [
       "<IPython.core.display.Image object>"
      ]
     },
     "execution_count": 50,
     "metadata": {},
     "output_type": "execute_result"
    }
   ],
   "source": [
    "tf.keras.utils.plot_model(new_model_bi_lstm_att, to_file='model_bi_lstm_att.png', show_shapes=True, show_layer_activations=True)"
   ]
  },
  {
   "cell_type": "code",
   "execution_count": 51,
   "metadata": {
    "tags": []
   },
   "outputs": [
    {
     "name": "stdout",
     "output_type": "stream",
     "text": [
      "Epoch 1/100\n",
      "36/36 [==============================] - 307s 8s/step - loss: 1.0874 - acc: 0.3766 - val_loss: 1.0012 - val_acc: 0.7262\n",
      "Epoch 2/100\n",
      "36/36 [==============================] - 320s 9s/step - loss: 0.9514 - acc: 0.5288 - val_loss: 0.7931 - val_acc: 0.7430\n",
      "Epoch 3/100\n",
      "36/36 [==============================] - 319s 9s/step - loss: 0.7478 - acc: 0.6567 - val_loss: 0.6083 - val_acc: 0.7906\n",
      "Epoch 4/100\n",
      "36/36 [==============================] - 323s 9s/step - loss: 0.6351 - acc: 0.7292 - val_loss: 0.4237 - val_acc: 0.8306\n",
      "Epoch 5/100\n",
      "36/36 [==============================] - 318s 9s/step - loss: 0.5862 - acc: 0.7596 - val_loss: 0.5194 - val_acc: 0.8045\n",
      "Epoch 6/100\n",
      "36/36 [==============================] - 317s 9s/step - loss: 0.4939 - acc: 0.8076 - val_loss: 0.7120 - val_acc: 0.7768\n",
      "Epoch 7/100\n",
      "36/36 [==============================] - 321s 9s/step - loss: 0.4299 - acc: 0.8416 - val_loss: 0.5712 - val_acc: 0.8031\n",
      "Epoch 8/100\n",
      "36/36 [==============================] - 323s 9s/step - loss: 0.3768 - acc: 0.8654 - val_loss: 0.5607 - val_acc: 0.8098\n",
      "Epoch 9/100\n",
      "36/36 [==============================] - 332s 9s/step - loss: 0.3370 - acc: 0.8824 - val_loss: 0.6214 - val_acc: 0.7942\n",
      "Epoch 10/100\n",
      "36/36 [==============================] - 442s 12s/step - loss: 0.2975 - acc: 0.9003 - val_loss: 0.7930 - val_acc: 0.7874\n",
      "Epoch 11/100\n",
      "36/36 [==============================] - 61307s 1751s/step - loss: 0.2688 - acc: 0.9126 - val_loss: 0.7054 - val_acc: 0.7933\n",
      "Epoch 12/100\n",
      "36/36 [==============================] - 357s 10s/step - loss: 0.2474 - acc: 0.9210 - val_loss: 1.1020 - val_acc: 0.7431\n",
      "Epoch 13/100\n",
      "36/36 [==============================] - 321s 9s/step - loss: 0.2192 - acc: 0.9312 - val_loss: 0.8181 - val_acc: 0.7621\n",
      "Epoch 14/100\n",
      "36/36 [==============================] - 329s 9s/step - loss: 0.2082 - acc: 0.9348 - val_loss: 0.8319 - val_acc: 0.7817\n",
      "Epoch 15/100\n",
      "36/36 [==============================] - 348s 10s/step - loss: 0.1851 - acc: 0.9430 - val_loss: 0.9621 - val_acc: 0.7649\n",
      "Epoch 15: early stopping\n",
      "CPU times: total: 5h 26min 24s\n",
      "Wall time: 18h 19min 42s\n"
     ]
    },
    {
     "data": {
      "text/plain": [
       "<keras.callbacks.History at 0x19999e05eb0>"
      ]
     },
     "execution_count": 51,
     "metadata": {},
     "output_type": "execute_result"
    }
   ],
   "source": [
    "%%time\n",
    "new_model_bi_lstm_att.fit(data, labels,epochs = 100, batch_size = 256, callbacks = callbacks_list, verbose = 1,shuffle = True, validation_data=[data_test, labels_test])"
   ]
  },
  {
   "cell_type": "code",
   "execution_count": 52,
   "metadata": {},
   "outputs": [
    {
     "name": "stdout",
     "output_type": "stream",
     "text": [
      "486/486 [==============================] - 180s 371ms/step - loss: 0.9621 - acc: 0.7649\n",
      "loss: 0.96\n",
      "acc: 76.49%\n"
     ]
    }
   ],
   "source": [
    "score = new_model_bi_lstm_att.evaluate(data_test, labels_test)\n",
    "\n",
    "print(\"%s: %.2f\" %(new_model_bi_lstm_att.metrics_names[0], score[0]))\n",
    "print(\"%s: %.2f%%\" %(new_model_bi_lstm_att.metrics_names[1], score[1]*100))"
   ]
  },
  {
   "cell_type": "code",
   "execution_count": 53,
   "metadata": {},
   "outputs": [
    {
     "name": "stdout",
     "output_type": "stream",
     "text": [
      "1/1 [==============================] - 1s 1s/step\n",
      "Hàng chính hãng, tuy nhiên giao hàng vẫn ko đúng hẹn\n",
      "Tích cực\n",
      "Tích cực\n"
     ]
    }
   ],
   "source": [
    "prediction = new_model_bi_lstm_att.predict(data_test[:10])\n",
    "\n",
    "labels_text = ['Tiêu cực', 'Bình thường', 'Tích cực']\n",
    "num=2\n",
    "print(reviews_test[num])\n",
    "print(labels_text[np.argmax(labels_test[num])])\n",
    "print(labels_text[np.argmax(prediction[num])])"
   ]
  },
  {
   "cell_type": "code",
   "execution_count": 54,
   "metadata": {},
   "outputs": [
    {
     "name": "stdout",
     "output_type": "stream",
     "text": [
      "486/486 [==============================] - 190s 391ms/step\n"
     ]
    },
    {
     "data": {
      "text/plain": [
       "array([0.6455317 , 0.25960061, 0.87067552])"
      ]
     },
     "execution_count": 54,
     "metadata": {},
     "output_type": "execute_result"
    }
   ],
   "source": [
    "preds = new_model_bi_lstm_att.predict(data_test)\n",
    "preds_class = np.argmax(preds, axis = 1)\n",
    "f1_score(test_class, preds_class, average=None)"
   ]
  },
  {
   "cell_type": "markdown",
   "metadata": {
    "jp-MarkdownHeadingCollapsed": true,
    "tags": []
   },
   "source": [
    "## CNN"
   ]
  },
  {
   "cell_type": "code",
   "execution_count": 55,
   "metadata": {},
   "outputs": [
    {
     "name": "stdout",
     "output_type": "stream",
     "text": [
      "Model: \"sequential_2\"\n",
      "_________________________________________________________________\n",
      " Layer (type)                Output Shape              Param #   \n",
      "=================================================================\n",
      " embedding_5 (Embedding)     (None, 300, 400)          4000000   \n",
      "                                                                 \n",
      " dropout (Dropout)           (None, 300, 400)          0         \n",
      "                                                                 \n",
      " conv1d (Conv1D)             (None, 300, 32)           38432     \n",
      "                                                                 \n",
      " max_pooling1d (MaxPooling1D  (None, 150, 32)          0         \n",
      " )                                                               \n",
      "                                                                 \n",
      " dropout_1 (Dropout)         (None, 150, 32)           0         \n",
      "                                                                 \n",
      " flatten (Flatten)           (None, 4800)              0         \n",
      "                                                                 \n",
      " dense_6 (Dense)             (None, 3)                 14403     \n",
      "                                                                 \n",
      "=================================================================\n",
      "Total params: 4,052,835\n",
      "Trainable params: 4,052,835\n",
      "Non-trainable params: 0\n",
      "_________________________________________________________________\n"
     ]
    }
   ],
   "source": [
    "\n",
    "model_CNN = Sequential()\n",
    "model_CNN.add(Embedding(MAX_VOCAB_SIZE, EMBEDDING_DIM, input_length=MAX_SEQUENCE_LENGTH))\n",
    "model_CNN.add(Dropout(0.1))\n",
    "model_CNN.add(Conv1D(filters=32, kernel_size=3, padding=\"same\", activation=\"relu\"))\n",
    "model_CNN.add(MaxPooling1D())\n",
    "model_CNN.add(Dropout(0.1))\n",
    "model_CNN.add(Flatten())\n",
    "model_CNN.add(Dense(units = 3, activation = 'softmax'))\n",
    "\n",
    "model_CNN.compile(loss = 'categorical_crossentropy', optimizer = 'adam', metrics = ['accuracy'])\n",
    "model_CNN. summary()\n"
   ]
  },
  {
   "cell_type": "code",
   "execution_count": 56,
   "metadata": {
    "tags": []
   },
   "outputs": [
    {
     "data": {
      "image/png": "[encoded data removed]",
      "text/plain": [
       "<IPython.core.display.Image object>"
      ]
     },
     "execution_count": 56,
     "metadata": {},
     "output_type": "execute_result"
    }
   ],
   "source": [
    "tf.keras.utils.plot_model(model_CNN, to_file='model_CNN.png', show_shapes=True, show_layer_activations=True)"
   ]
  },
  {
   "cell_type": "code",
   "execution_count": 57,
   "metadata": {
    "tags": []
   },
   "outputs": [
    {
     "name": "stdout",
     "output_type": "stream",
     "text": [
      "Epoch 1/100\n",
      "36/36 [==============================] - 35s 957ms/step - loss: 1.0468 - accuracy: 0.4391 - val_loss: 0.8970 - val_accuracy: 0.7212\n",
      "Epoch 2/100\n",
      "36/36 [==============================] - 33s 916ms/step - loss: 0.8039 - accuracy: 0.6266 - val_loss: 0.7105 - val_accuracy: 0.7276\n",
      "Epoch 3/100\n",
      "36/36 [==============================] - 35s 966ms/step - loss: 0.6225 - accuracy: 0.7303 - val_loss: 0.6266 - val_accuracy: 0.7749\n",
      "Epoch 4/100\n",
      "36/36 [==============================] - 34s 961ms/step - loss: 0.5045 - accuracy: 0.8027 - val_loss: 0.6044 - val_accuracy: 0.7880\n",
      "Epoch 5/100\n",
      "36/36 [==============================] - 38s 1s/step - loss: 0.4131 - accuracy: 0.8498 - val_loss: 0.6018 - val_accuracy: 0.7932\n",
      "Epoch 6/100\n",
      "36/36 [==============================] - 38s 1s/step - loss: 0.3355 - accuracy: 0.8816 - val_loss: 0.6325 - val_accuracy: 0.7934\n",
      "Epoch 7/100\n",
      "36/36 [==============================] - 34s 954ms/step - loss: 0.2834 - accuracy: 0.9068 - val_loss: 0.6677 - val_accuracy: 0.7897\n",
      "Epoch 8/100\n",
      "36/36 [==============================] - 33s 927ms/step - loss: 0.2362 - accuracy: 0.9217 - val_loss: 0.7015 - val_accuracy: 0.7870\n",
      "Epoch 9/100\n",
      "36/36 [==============================] - 33s 924ms/step - loss: 0.2014 - accuracy: 0.9349 - val_loss: 0.8571 - val_accuracy: 0.7539\n",
      "Epoch 10/100\n",
      "36/36 [==============================] - 34s 939ms/step - loss: 0.1705 - accuracy: 0.9494 - val_loss: 0.8319 - val_accuracy: 0.7715\n",
      "Epoch 11/100\n",
      "36/36 [==============================] - 33s 925ms/step - loss: 0.1456 - accuracy: 0.9569 - val_loss: 0.8537 - val_accuracy: 0.7762\n",
      "Epoch 12/100\n",
      "36/36 [==============================] - 33s 924ms/step - loss: 0.1284 - accuracy: 0.9616 - val_loss: 0.9960 - val_accuracy: 0.7479\n",
      "Epoch 13/100\n",
      "36/36 [==============================] - 34s 935ms/step - loss: 0.1065 - accuracy: 0.9697 - val_loss: 1.0194 - val_accuracy: 0.7607\n",
      "Epoch 13: early stopping\n",
      "CPU times: total: 44min 4s\n",
      "Wall time: 7min 27s\n"
     ]
    },
    {
     "data": {
      "text/plain": [
       "<keras.callbacks.History at 0x19998437dc0>"
      ]
     },
     "execution_count": 57,
     "metadata": {},
     "output_type": "execute_result"
    }
   ],
   "source": [
    "%%time\n",
    "model_CNN.fit(data, labels,epochs = 100, batch_size = 256, callbacks = callbacks_list, verbose = 1,shuffle = True, validation_data=[data_test, labels_test])"
   ]
  },
  {
   "cell_type": "code",
   "execution_count": 58,
   "metadata": {},
   "outputs": [
    {
     "name": "stdout",
     "output_type": "stream",
     "text": [
      "486/486 [==============================] - 6s 12ms/step - loss: 1.0194 - accuracy: 0.7607\n",
      "loss: 1.02\n",
      "accuracy: 76.07%\n"
     ]
    }
   ],
   "source": [
    "score = model_CNN.evaluate(data_test, labels_test)\n",
    "\n",
    "print(\"%s: %.2f\" %(model_CNN.metrics_names[0], score[0]))\n",
    "print(\"%s: %.2f%%\" %(model_CNN.metrics_names[1], score[1]*100))"
   ]
  },
  {
   "cell_type": "code",
   "execution_count": 59,
   "metadata": {},
   "outputs": [
    {
     "name": "stdout",
     "output_type": "stream",
     "text": [
      "1/1 [==============================] - 0s 64ms/step\n",
      "Hàng chính hãng, tuy nhiên giao hàng vẫn ko đúng hẹn\n",
      "Tích cực\n",
      "Tích cực\n"
     ]
    }
   ],
   "source": [
    "prediction = model_CNN.predict(data_test[:10])\n",
    "\n",
    "labels_text = ['Tiêu cực', 'Bình thường', 'Tích cực']\n",
    "num=2\n",
    "print(reviews_test[num])\n",
    "print(labels_text[np.argmax(labels_test[num])])\n",
    "print(labels_text[np.argmax(prediction[num])])"
   ]
  },
  {
   "cell_type": "code",
   "execution_count": 60,
   "metadata": {},
   "outputs": [
    {
     "name": "stdout",
     "output_type": "stream",
     "text": [
      "486/486 [==============================] - 6s 12ms/step\n"
     ]
    },
    {
     "data": {
      "text/plain": [
       "array([0.64894902, 0.26484018, 0.86568461])"
      ]
     },
     "execution_count": 60,
     "metadata": {},
     "output_type": "execute_result"
    }
   ],
   "source": [
    "preds = model_CNN.predict(data_test)\n",
    "preds_class = np.argmax(preds, axis = 1)\n",
    "f1_score(test_class, preds_class, average=None)"
   ]
  },
  {
   "cell_type": "markdown",
   "metadata": {
    "jp-MarkdownHeadingCollapsed": true,
    "tags": []
   },
   "source": [
    "## CNN valid padding"
   ]
  },
  {
   "cell_type": "code",
   "execution_count": 61,
   "metadata": {},
   "outputs": [],
   "source": [
    "\n",
    "model_CNN_valid = Sequential()\n",
    "model_CNN_valid.add(Embedding(MAX_VOCAB_SIZE, EMBEDDING_DIM, input_length=MAX_SEQUENCE_LENGTH))\n",
    "model_CNN_valid.add(Dropout(0.1))\n",
    "model_CNN_valid.add(Conv1D(filters=32, kernel_size=3, padding=\"valid\", activation=\"relu\"))\n",
    "model_CNN_valid.add(MaxPooling1D())\n",
    "model_CNN_valid.add(Dropout(0.1))\n",
    "model_CNN_valid.add(Flatten())\n",
    "model_CNN_valid.add(Dense(units = 3, activation = 'softmax'))\n",
    "\n",
    "model_CNN_valid.compile(loss = 'categorical_crossentropy', optimizer = 'adam', metrics = ['accuracy'])\n"
   ]
  },
  {
   "cell_type": "code",
   "execution_count": 62,
   "metadata": {},
   "outputs": [
    {
     "name": "stdout",
     "output_type": "stream",
     "text": [
      "Epoch 1/100\n",
      "36/36 [==============================] - 35s 945ms/step - loss: 1.0536 - accuracy: 0.4202 - val_loss: 0.9992 - val_accuracy: 0.6080\n",
      "Epoch 2/100\n",
      "36/36 [==============================] - 34s 958ms/step - loss: 0.8361 - accuracy: 0.6124 - val_loss: 0.6770 - val_accuracy: 0.7880\n",
      "Epoch 3/100\n",
      "36/36 [==============================] - 39s 1s/step - loss: 0.6258 - accuracy: 0.7304 - val_loss: 0.6122 - val_accuracy: 0.7789\n",
      "Epoch 4/100\n",
      "36/36 [==============================] - 35s 967ms/step - loss: 0.4885 - accuracy: 0.8069 - val_loss: 0.6240 - val_accuracy: 0.7777\n",
      "Epoch 5/100\n",
      "36/36 [==============================] - 33s 915ms/step - loss: 0.3975 - accuracy: 0.8511 - val_loss: 0.6014 - val_accuracy: 0.7896\n",
      "Epoch 6/100\n",
      "36/36 [==============================] - 42s 1s/step - loss: 0.3270 - accuracy: 0.8847 - val_loss: 0.6370 - val_accuracy: 0.7951\n",
      "Epoch 7/100\n",
      "36/36 [==============================] - 42s 1s/step - loss: 0.2728 - accuracy: 0.9109 - val_loss: 0.7505 - val_accuracy: 0.7605\n",
      "Epoch 8/100\n",
      "36/36 [==============================] - 37s 1s/step - loss: 0.2287 - accuracy: 0.9250 - val_loss: 0.7872 - val_accuracy: 0.7652\n",
      "Epoch 9/100\n",
      "36/36 [==============================] - 35s 981ms/step - loss: 0.1920 - accuracy: 0.9402 - val_loss: 0.7529 - val_accuracy: 0.7806\n",
      "Epoch 10/100\n",
      "36/36 [==============================] - 33s 910ms/step - loss: 0.1639 - accuracy: 0.9498 - val_loss: 0.8767 - val_accuracy: 0.7524\n",
      "Epoch 11/100\n",
      "36/36 [==============================] - 32s 897ms/step - loss: 0.1424 - accuracy: 0.9599 - val_loss: 0.7906 - val_accuracy: 0.7844\n",
      "Epoch 12/100\n",
      "36/36 [==============================] - 33s 913ms/step - loss: 0.1204 - accuracy: 0.9656 - val_loss: 1.0022 - val_accuracy: 0.7441\n",
      "Epoch 13/100\n",
      "36/36 [==============================] - 33s 911ms/step - loss: 0.1059 - accuracy: 0.9703 - val_loss: 1.0466 - val_accuracy: 0.7385\n",
      "Epoch 13: early stopping\n",
      "CPU times: total: 44min 6s\n",
      "Wall time: 7min 42s\n"
     ]
    },
    {
     "data": {
      "text/plain": [
       "<keras.callbacks.History at 0x1999897d520>"
      ]
     },
     "execution_count": 62,
     "metadata": {},
     "output_type": "execute_result"
    }
   ],
   "source": [
    "%%time\n",
    "model_CNN_valid.fit(data, labels,epochs = 100, batch_size = 256, callbacks = callbacks_list, verbose = 1,shuffle = True, validation_data=[data_test, labels_test])"
   ]
  },
  {
   "cell_type": "code",
   "execution_count": 63,
   "metadata": {},
   "outputs": [
    {
     "name": "stdout",
     "output_type": "stream",
     "text": [
      "486/486 [==============================] - 7s 14ms/step - loss: 1.0466 - accuracy: 0.7385\n",
      "loss: 1.05\n",
      "accuracy: 73.85%\n"
     ]
    }
   ],
   "source": [
    "score = model_CNN_valid.evaluate(data_test, labels_test)\n",
    "\n",
    "print(\"%s: %.2f\" %(model_CNN_valid.metrics_names[0], score[0]))\n",
    "print(\"%s: %.2f%%\" %(model_CNN_valid.metrics_names[1], score[1]*100))"
   ]
  },
  {
   "cell_type": "markdown",
   "metadata": {
    "jp-MarkdownHeadingCollapsed": true,
    "tags": []
   },
   "source": [
    "## CNN causal padding"
   ]
  },
  {
   "cell_type": "code",
   "execution_count": 64,
   "metadata": {},
   "outputs": [],
   "source": [
    "\n",
    "model_CNN_causal = Sequential()\n",
    "model_CNN_causal.add(Embedding(MAX_VOCAB_SIZE, EMBEDDING_DIM, input_length=MAX_SEQUENCE_LENGTH))\n",
    "model_CNN_causal.add(Dropout(0.1))\n",
    "model_CNN_causal.add(Conv1D(filters=32, kernel_size=3, padding=\"causal\", activation=\"relu\"))\n",
    "model_CNN_causal.add(MaxPooling1D())\n",
    "model_CNN_causal.add(Dropout(0.1))\n",
    "model_CNN_causal.add(Flatten())\n",
    "model_CNN_causal.add(Dense(units = 3, activation = 'softmax'))\n",
    "\n",
    "model_CNN_causal.compile(loss = 'categorical_crossentropy', optimizer = 'adam', metrics = ['accuracy'])\n"
   ]
  },
  {
   "cell_type": "code",
   "execution_count": 65,
   "metadata": {},
   "outputs": [
    {
     "name": "stdout",
     "output_type": "stream",
     "text": [
      "Epoch 1/100\n",
      "36/36 [==============================] - 47s 1s/step - loss: 1.0583 - accuracy: 0.4246 - val_loss: 0.9548 - val_accuracy: 0.6489\n",
      "Epoch 2/100\n",
      "36/36 [==============================] - 43s 1s/step - loss: 0.8352 - accuracy: 0.6090 - val_loss: 0.7048 - val_accuracy: 0.7457\n",
      "Epoch 3/100\n",
      "36/36 [==============================] - 39s 1s/step - loss: 0.6283 - accuracy: 0.7376 - val_loss: 0.6127 - val_accuracy: 0.7850\n",
      "Epoch 4/100\n",
      "36/36 [==============================] - 39s 1s/step - loss: 0.4958 - accuracy: 0.8053 - val_loss: 0.5813 - val_accuracy: 0.8007\n",
      "Epoch 5/100\n",
      "36/36 [==============================] - 40s 1s/step - loss: 0.4017 - accuracy: 0.8470 - val_loss: 0.6506 - val_accuracy: 0.7792\n",
      "Epoch 6/100\n",
      "36/36 [==============================] - 42s 1s/step - loss: 0.3283 - accuracy: 0.8844 - val_loss: 0.6503 - val_accuracy: 0.7893\n",
      "Epoch 7/100\n",
      "36/36 [==============================] - 44s 1s/step - loss: 0.2694 - accuracy: 0.9067 - val_loss: 0.7953 - val_accuracy: 0.7531\n",
      "Epoch 8/100\n",
      "36/36 [==============================] - 38s 1s/step - loss: 0.2265 - accuracy: 0.9253 - val_loss: 0.7724 - val_accuracy: 0.7629\n",
      "Epoch 9/100\n",
      "36/36 [==============================] - 39s 1s/step - loss: 0.1875 - accuracy: 0.9416 - val_loss: 0.7428 - val_accuracy: 0.7819\n",
      "Epoch 10/100\n",
      "36/36 [==============================] - 38s 1s/step - loss: 0.1600 - accuracy: 0.9506 - val_loss: 0.7907 - val_accuracy: 0.7780\n",
      "Epoch 11/100\n",
      "36/36 [==============================] - 38s 1s/step - loss: 0.1395 - accuracy: 0.9566 - val_loss: 0.8953 - val_accuracy: 0.7562\n",
      "Epoch 12/100\n",
      "36/36 [==============================] - 38s 1s/step - loss: 0.1180 - accuracy: 0.9659 - val_loss: 1.0005 - val_accuracy: 0.7470\n",
      "Epoch 13/100\n",
      "36/36 [==============================] - 38s 1s/step - loss: 0.0988 - accuracy: 0.9727 - val_loss: 0.9880 - val_accuracy: 0.7600\n",
      "Epoch 14/100\n",
      "36/36 [==============================] - 39s 1s/step - loss: 0.0873 - accuracy: 0.9750 - val_loss: 1.0939 - val_accuracy: 0.7455\n",
      "Epoch 15/100\n",
      "36/36 [==============================] - 38s 1s/step - loss: 0.0772 - accuracy: 0.9784 - val_loss: 1.0423 - val_accuracy: 0.7616\n",
      "Epoch 16/100\n",
      "36/36 [==============================] - 38s 1s/step - loss: 0.0690 - accuracy: 0.9811 - val_loss: 1.2753 - val_accuracy: 0.7302\n",
      "Epoch 16: early stopping\n",
      "CPU times: total: 1h 2min\n",
      "Wall time: 10min 39s\n"
     ]
    },
    {
     "data": {
      "text/plain": [
       "<keras.callbacks.History at 0x19996efcee0>"
      ]
     },
     "execution_count": 65,
     "metadata": {},
     "output_type": "execute_result"
    }
   ],
   "source": [
    "%%time\n",
    "model_CNN_causal.fit(data, labels,epochs = 100, batch_size = 256, callbacks = callbacks_list, verbose = 1,shuffle = True, validation_data=[data_test, labels_test])"
   ]
  },
  {
   "cell_type": "code",
   "execution_count": null,
   "metadata": {},
   "outputs": [
    {
     "name": "stdout",
     "output_type": "stream",
     "text": [
      "486/486 [==============================] - 8s 17ms/step - loss: 1.2753 - accuracy: 0.7302\n",
      "loss: 1.28\n",
      "accuracy: 73.02%\n"
     ]
    }
   ],
   "source": [
    "score = model_CNN_causal.evaluate(data_test, labels_test)\n",
    "\n",
    "print(\"%s: %.2f\" %(model_CNN_causal.metrics_names[0], score[0]))\n",
    "print(\"%s: %.2f%%\" %(model_CNN_causal.metrics_names[1], score[1]*100))"
   ]
  },
  {
   "cell_type": "markdown",
   "metadata": {
    "jp-MarkdownHeadingCollapsed": true,
    "tags": []
   },
   "source": [
    "## CNN + LSTM tuần tự"
   ]
  },
  {
   "cell_type": "code",
   "execution_count": null,
   "metadata": {
    "tags": []
   },
   "outputs": [
    {
     "name": "stdout",
     "output_type": "stream",
     "text": [
      "Model: \"sequential_5\"\n",
      "_________________________________________________________________\n",
      " Layer (type)                Output Shape              Param #   \n",
      "=================================================================\n",
      " embedding_8 (Embedding)     (None, 300, 400)          4000000   \n",
      "                                                                 \n",
      " dropout_6 (Dropout)         (None, 300, 400)          0         \n",
      "                                                                 \n",
      " conv1d_3 (Conv1D)           (None, 300, 32)           38432     \n",
      "                                                                 \n",
      " max_pooling1d_3 (MaxPooling  (None, 150, 32)          0         \n",
      " 1D)                                                             \n",
      "                                                                 \n",
      " dropout_7 (Dropout)         (None, 150, 32)           0         \n",
      "                                                                 \n",
      " lstm_5 (LSTM)               (None, 150, 32)           8320      \n",
      "                                                                 \n",
      " flatten_3 (Flatten)         (None, 4800)              0         \n",
      "                                                                 \n",
      " dense_9 (Dense)             (None, 3)                 14403     \n",
      "                                                                 \n",
      "=================================================================\n",
      "Total params: 4,061,155\n",
      "Trainable params: 4,061,155\n",
      "Non-trainable params: 0\n",
      "_________________________________________________________________\n"
     ]
    }
   ],
   "source": [
    "model_CNN_LSTM = Sequential()\n",
    "model_CNN_LSTM.add(Embedding(MAX_VOCAB_SIZE, EMBEDDING_DIM, input_length=MAX_SEQUENCE_LENGTH))\n",
    "model_CNN_LSTM.add(Dropout(0.1))\n",
    "model_CNN_LSTM.add(Conv1D(filters=32, kernel_size=3, padding=\"same\", activation=\"relu\"))\n",
    "model_CNN_LSTM.add(MaxPooling1D())\n",
    "model_CNN_LSTM.add(Dropout(0.1))\n",
    "model_CNN_LSTM.add(LSTM(units=32,  dropout=drop, return_sequences = True))\n",
    "model_CNN_LSTM.add(Flatten())\n",
    "model_CNN_LSTM.add(Dense(units = 3, activation = 'softmax'))\n",
    "\n",
    "adam = Adam(learning_rate = 0.001, beta_1 = 0.9, beta_2 = 0.999, epsilon = 1e-08, decay = 0.0)\n",
    "model_CNN_LSTM.compile(loss = 'categorical_crossentropy', optimizer = adam, metrics = ['accuracy'])\n",
    "model_CNN_LSTM. summary()"
   ]
  },
  {
   "cell_type": "code",
   "execution_count": null,
   "metadata": {
    "tags": []
   },
   "outputs": [
    {
     "data": {
      "image/png": "[encoded data removed]",
      "text/plain": [
       "<IPython.core.display.Image object>"
      ]
     },
     "execution_count": 68,
     "metadata": {},
     "output_type": "execute_result"
    }
   ],
   "source": [
    "tf.keras.utils.plot_model(model_CNN_LSTM, to_file='model_CNN_LSTM.png', show_shapes=True, show_layer_activations=True)"
   ]
  },
  {
   "cell_type": "code",
   "execution_count": null,
   "metadata": {
    "tags": []
   },
   "outputs": [
    {
     "name": "stdout",
     "output_type": "stream",
     "text": [
      "Epoch 1/100\n",
      "36/36 [==============================] - 46s 1s/step - loss: 1.0359 - accuracy: 0.4412 - val_loss: 0.8670 - val_accuracy: 0.7254\n",
      "Epoch 2/100\n",
      "36/36 [==============================] - 42s 1s/step - loss: 0.7898 - accuracy: 0.6222 - val_loss: 0.6025 - val_accuracy: 0.8092\n",
      "Epoch 3/100\n",
      "36/36 [==============================] - 43s 1s/step - loss: 0.6288 - accuracy: 0.7251 - val_loss: 0.6684 - val_accuracy: 0.7782\n",
      "Epoch 4/100\n",
      "36/36 [==============================] - 46s 1s/step - loss: 0.5158 - accuracy: 0.7869 - val_loss: 0.6839 - val_accuracy: 0.7838\n",
      "Epoch 5/100\n",
      "36/36 [==============================] - 43s 1s/step - loss: 0.4277 - accuracy: 0.8379 - val_loss: 0.6321 - val_accuracy: 0.8018\n",
      "Epoch 6/100\n",
      "36/36 [==============================] - 43s 1s/step - loss: 0.3613 - accuracy: 0.8653 - val_loss: 0.7252 - val_accuracy: 0.7951\n",
      "Epoch 7/100\n",
      "36/36 [==============================] - 47s 1s/step - loss: 0.3062 - accuracy: 0.8890 - val_loss: 0.8969 - val_accuracy: 0.7672\n",
      "Epoch 8/100\n",
      "36/36 [==============================] - 43s 1s/step - loss: 0.2637 - accuracy: 0.9062 - val_loss: 0.9315 - val_accuracy: 0.7783\n",
      "Epoch 9/100\n",
      "36/36 [==============================] - 42s 1s/step - loss: 0.2266 - accuracy: 0.9152 - val_loss: 0.9394 - val_accuracy: 0.7786\n",
      "Epoch 10/100\n",
      "36/36 [==============================] - 46s 1s/step - loss: 0.2083 - accuracy: 0.9286 - val_loss: 1.0317 - val_accuracy: 0.7690\n",
      "Epoch 11/100\n",
      "36/36 [==============================] - 46s 1s/step - loss: 0.1875 - accuracy: 0.9337 - val_loss: 1.2761 - val_accuracy: 0.7289\n",
      "Epoch 12/100\n",
      "36/36 [==============================] - 42s 1s/step - loss: 0.1651 - accuracy: 0.9447 - val_loss: 1.2384 - val_accuracy: 0.7502\n",
      "Epoch 13/100\n",
      "36/36 [==============================] - 42s 1s/step - loss: 0.1520 - accuracy: 0.9493 - val_loss: 1.3027 - val_accuracy: 0.7473\n",
      "Epoch 13: early stopping\n",
      "CPU times: total: 51min 27s\n",
      "Wall time: 9min 29s\n"
     ]
    },
    {
     "data": {
      "text/plain": [
       "<keras.callbacks.History at 0x199d3d8bc70>"
      ]
     },
     "execution_count": 69,
     "metadata": {},
     "output_type": "execute_result"
    }
   ],
   "source": [
    "%%time\n",
    "model_CNN_LSTM.fit(data, labels,epochs = 100, batch_size = 256, callbacks = callbacks_list, verbose = 1,shuffle = True, validation_data=[data_test, labels_test])"
   ]
  },
  {
   "cell_type": "code",
   "execution_count": null,
   "metadata": {},
   "outputs": [
    {
     "name": "stdout",
     "output_type": "stream",
     "text": [
      "486/486 [==============================] - 11s 22ms/step - loss: 1.3027 - accuracy: 0.7473\n",
      "loss: 1.30\n",
      "accuracy: 74.73%\n"
     ]
    }
   ],
   "source": [
    "score = model_CNN_LSTM.evaluate(data_test, labels_test)\n",
    "\n",
    "print(\"%s: %.2f\" %(model_CNN_LSTM.metrics_names[0], score[0]))\n",
    "print(\"%s: %.2f%%\" %(model_CNN_LSTM.metrics_names[1], score[1]*100))"
   ]
  },
  {
   "cell_type": "code",
   "execution_count": null,
   "metadata": {},
   "outputs": [
    {
     "name": "stdout",
     "output_type": "stream",
     "text": [
      "1/1 [==============================] - 0s 460ms/step\n",
      "Hàng chính hãng, tuy nhiên giao hàng vẫn ko đúng hẹn\n",
      "Tích cực\n",
      "Tích cực\n"
     ]
    }
   ],
   "source": [
    "prediction = model_CNN_LSTM.predict(data_test[:10])\n",
    "\n",
    "labels_text = ['Tiêu cực', 'Bình thường', 'Tích cực']\n",
    "num=2\n",
    "print(reviews_test[num])\n",
    "print(labels_text[np.argmax(labels_test[num])])\n",
    "print(labels_text[np.argmax(prediction[num])])"
   ]
  },
  {
   "cell_type": "code",
   "execution_count": null,
   "metadata": {},
   "outputs": [
    {
     "name": "stdout",
     "output_type": "stream",
     "text": [
      "486/486 [==============================] - 11s 22ms/step\n"
     ]
    },
    {
     "data": {
      "text/plain": [
       "array([0.65401385, 0.25728044, 0.85688009])"
      ]
     },
     "execution_count": 72,
     "metadata": {},
     "output_type": "execute_result"
    }
   ],
   "source": [
    "preds = model_CNN_LSTM.predict(data_test)\n",
    "preds_class = np.argmax(preds, axis = 1)\n",
    "f1_score(test_class, preds_class, average=None)"
   ]
  },
  {
   "cell_type": "code",
   "execution_count": null,
   "metadata": {},
   "outputs": [],
   "source": []
  }
 ],
 "metadata": {
  "kernelspec": {
   "display_name": "Python 3 (ipykernel)",
   "language": "python",
   "name": "python3"
  },
  "language_info": {
   "codemirror_mode": {
    "name": "ipython",
    "version": 3
   },
   "file_extension": ".py",
   "mimetype": "text/x-python",
   "name": "python",
   "nbconvert_exporter": "python",
   "pygments_lexer": "ipython3",
   "version": "3.9.12"
  }
 },
 "nbformat": 4,
 "nbformat_minor": 4
}
