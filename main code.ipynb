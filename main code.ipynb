{
 "cells": [
  {
   "cell_type": "markdown",
   "metadata": {},
   "source": [
    "## SET UP"
   ]
  },
  {
   "cell_type": "code",
   "execution_count": 206,
   "metadata": {},
   "outputs": [],
   "source": [
    "import tensorflow as tf\n",
    "import pandas as pd\n",
    "import numpy as np\n",
    "from string import digits\n",
    "from collections import Counter\n",
    "from pyvi import ViTokenizer\n",
    "from gensim.models.word2vec import Word2Vec\n",
    "from keras.utils.np_utils import to_categorical\n",
    "from sklearn.model_selection import train_test_split\n",
    "from sklearn.metrics import f1_score\n",
    "import re\n",
    "import matplotlib.pyplot as plt\n",
    "from keras.preprocessing.text import Tokenizer\n",
    "from keras_preprocessing.sequence import pad_sequences\n",
    "from tensorflow.keras.utils import to_categorical\n",
    "from sklearn.utils import resample\n",
    "from tensorflow.keras import Sequential\n",
    "from tensorflow.keras.layers import Embedding, Dense, Dropout, LSTM, Flatten, Bidirectional, Layer, Reshape, Input, Permute, Attention\n",
    "from tensorflow.keras.layers import Conv1D, GlobalMaxPooling1D, MaxPooling1D, LayerNormalization, TimeDistributed\n",
    "from tensorflow.keras.callbacks import EarlyStopping\n",
    "from tensorflow.keras.layers import Concatenate\n",
    "from keras import regularizers\n",
    "from keras.models import Model\n",
    "import keras\n",
    "from tensorflow.keras.optimizers import Adam\n",
    "from keras import backend as K\n",
    "%matplotlib inline"
   ]
  },
  {
   "cell_type": "markdown",
   "metadata": {
    "jp-MarkdownHeadingCollapsed": true,
    "tags": []
   },
   "source": [
    "## DATA AGGREGATION"
   ]
  },
  {
   "cell_type": "code",
   "execution_count": 3,
   "metadata": {},
   "outputs": [
    {
     "ename": "NameError",
     "evalue": "name 'pd' is not defined",
     "output_type": "error",
     "traceback": [
      "\u001b[1;31m---------------------------------------------------------------------------\u001b[0m",
      "\u001b[1;31mNameError\u001b[0m                                 Traceback (most recent call last)",
      "Input \u001b[1;32mIn [3]\u001b[0m, in \u001b[0;36m<cell line: 1>\u001b[1;34m()\u001b[0m\n\u001b[1;32m----> 1\u001b[0m review_dtmtb \u001b[38;5;241m=\u001b[39m \u001b[43mpd\u001b[49m\u001b[38;5;241m.\u001b[39mread_csv(\u001b[38;5;124m'\u001b[39m\u001b[38;5;124mreviewData_dtmtb.csv\u001b[39m\u001b[38;5;124m'\u001b[39m)\n\u001b[0;32m      2\u001b[0m review_dtdl \u001b[38;5;241m=\u001b[39m pd\u001b[38;5;241m.\u001b[39mread_csv(\u001b[38;5;124m'\u001b[39m\u001b[38;5;124mreviewData_dtdl.csv\u001b[39m\u001b[38;5;124m'\u001b[39m)\n\u001b[0;32m      3\u001b[0m review_tbkts_pks \u001b[38;5;241m=\u001b[39m pd\u001b[38;5;241m.\u001b[39mread_csv(\u001b[38;5;124m'\u001b[39m\u001b[38;5;124mreviewData_tbkts_pks.csv\u001b[39m\u001b[38;5;124m'\u001b[39m)\n",
      "\u001b[1;31mNameError\u001b[0m: name 'pd' is not defined"
     ]
    }
   ],
   "source": [
    "review_dtmtb = pd.read_csv('reviewData_dtmtb.csv')\n",
    "review_dtdl = pd.read_csv('reviewData_dtdl.csv')\n",
    "review_tbkts_pks = pd.read_csv('reviewData_tbkts_pks.csv')"
   ]
  },
  {
   "cell_type": "code",
   "execution_count": 4,
   "metadata": {},
   "outputs": [],
   "source": [
    "review_data = pd.concat([review_dtmtb, review_dtdl, review_tbkts_pks])"
   ]
  },
  {
   "cell_type": "code",
   "execution_count": 4,
   "metadata": {},
   "outputs": [
    {
     "data": {
      "text/html": [
       "<div>\n",
       "<style scoped>\n",
       "    .dataframe tbody tr th:only-of-type {\n",
       "        vertical-align: middle;\n",
       "    }\n",
       "\n",
       "    .dataframe tbody tr th {\n",
       "        vertical-align: top;\n",
       "    }\n",
       "\n",
       "    .dataframe thead th {\n",
       "        text-align: right;\n",
       "    }\n",
       "</style>\n",
       "<table border=\"1\" class=\"dataframe\">\n",
       "  <thead>\n",
       "    <tr style=\"text-align: right;\">\n",
       "      <th></th>\n",
       "      <th>id</th>\n",
       "      <th>title</th>\n",
       "      <th>content</th>\n",
       "      <th>thank_count</th>\n",
       "      <th>customer_id</th>\n",
       "      <th>rating</th>\n",
       "      <th>created_at</th>\n",
       "      <th>customer_name</th>\n",
       "      <th>purchased_at</th>\n",
       "    </tr>\n",
       "  </thead>\n",
       "  <tbody>\n",
       "    <tr>\n",
       "      <th>0</th>\n",
       "      <td>17206712</td>\n",
       "      <td>Cực kì hài lòng</td>\n",
       "      <td>Mình vừa nhận được hàng, máy chạy tốt, pin sạc...</td>\n",
       "      <td>0</td>\n",
       "      <td>20468199</td>\n",
       "      <td>5</td>\n",
       "      <td>1658815564</td>\n",
       "      <td>NaN</td>\n",
       "      <td>NaN</td>\n",
       "    </tr>\n",
       "    <tr>\n",
       "      <th>1</th>\n",
       "      <td>17022830</td>\n",
       "      <td>Cực kì hài lòng</td>\n",
       "      <td>giao hàng đúng thời. điện thoại giao đúng mẫu....</td>\n",
       "      <td>3</td>\n",
       "      <td>21886251</td>\n",
       "      <td>5</td>\n",
       "      <td>1657513127</td>\n",
       "      <td>NaN</td>\n",
       "      <td>NaN</td>\n",
       "    </tr>\n",
       "    <tr>\n",
       "      <th>2</th>\n",
       "      <td>16990209</td>\n",
       "      <td>Cực kì hài lòng</td>\n",
       "      <td>giao hàng nhanh. đóng gói rất OK. mỗi tội tiếc...</td>\n",
       "      <td>5</td>\n",
       "      <td>14674088</td>\n",
       "      <td>5</td>\n",
       "      <td>1657279289</td>\n",
       "      <td>NaN</td>\n",
       "      <td>NaN</td>\n",
       "    </tr>\n",
       "    <tr>\n",
       "      <th>3</th>\n",
       "      <td>16618308</td>\n",
       "      <td>Cực kì hài lòng</td>\n",
       "      <td>Dùng siêu thích máy phiên bản 2022 và cùng năm...</td>\n",
       "      <td>1</td>\n",
       "      <td>14923716</td>\n",
       "      <td>5</td>\n",
       "      <td>1654645068</td>\n",
       "      <td>NaN</td>\n",
       "      <td>NaN</td>\n",
       "    </tr>\n",
       "    <tr>\n",
       "      <th>4</th>\n",
       "      <td>17056290</td>\n",
       "      <td>Cực kì hài lòng</td>\n",
       "      <td>cho tiki trading shop 5 sao!shop uy tín! giao ...</td>\n",
       "      <td>0</td>\n",
       "      <td>7966673</td>\n",
       "      <td>5</td>\n",
       "      <td>1657721825</td>\n",
       "      <td>NaN</td>\n",
       "      <td>NaN</td>\n",
       "    </tr>\n",
       "  </tbody>\n",
       "</table>\n",
       "</div>"
      ],
      "text/plain": [
       "         id            title  \\\n",
       "0  17206712  Cực kì hài lòng   \n",
       "1  17022830  Cực kì hài lòng   \n",
       "2  16990209  Cực kì hài lòng   \n",
       "3  16618308  Cực kì hài lòng   \n",
       "4  17056290  Cực kì hài lòng   \n",
       "\n",
       "                                             content  thank_count  \\\n",
       "0  Mình vừa nhận được hàng, máy chạy tốt, pin sạc...            0   \n",
       "1  giao hàng đúng thời. điện thoại giao đúng mẫu....            3   \n",
       "2  giao hàng nhanh. đóng gói rất OK. mỗi tội tiếc...            5   \n",
       "3  Dùng siêu thích máy phiên bản 2022 và cùng năm...            1   \n",
       "4  cho tiki trading shop 5 sao!shop uy tín! giao ...            0   \n",
       "\n",
       "   customer_id  rating  created_at  customer_name  purchased_at  \n",
       "0     20468199       5  1658815564            NaN           NaN  \n",
       "1     21886251       5  1657513127            NaN           NaN  \n",
       "2     14674088       5  1657279289            NaN           NaN  \n",
       "3     14923716       5  1654645068            NaN           NaN  \n",
       "4      7966673       5  1657721825            NaN           NaN  "
      ]
     },
     "execution_count": 4,
     "metadata": {},
     "output_type": "execute_result"
    }
   ],
   "source": [
    "review_data.head()"
   ]
  },
  {
   "cell_type": "code",
   "execution_count": 5,
   "metadata": {},
   "outputs": [
    {
     "data": {
      "text/plain": [
       "rating\n",
       "5    92711\n",
       "4    15936\n",
       "1     7053\n",
       "3     4882\n",
       "2     2319\n",
       "dtype: int64"
      ]
     },
     "execution_count": 5,
     "metadata": {},
     "output_type": "execute_result"
    }
   ],
   "source": [
    "review_data.value_counts('rating')"
   ]
  },
  {
   "cell_type": "code",
   "execution_count": 6,
   "metadata": {},
   "outputs": [
    {
     "data": {
      "text/plain": [
       "45167"
      ]
     },
     "execution_count": 6,
     "metadata": {},
     "output_type": "execute_result"
    }
   ],
   "source": [
    "review_data['content'].isna().sum()"
   ]
  },
  {
   "cell_type": "code",
   "execution_count": 7,
   "metadata": {},
   "outputs": [],
   "source": [
    "review_data.dropna(subset=['content'], inplace=True)"
   ]
  },
  {
   "cell_type": "code",
   "execution_count": 8,
   "metadata": {},
   "outputs": [
    {
     "data": {
      "text/plain": [
       "0"
      ]
     },
     "execution_count": 8,
     "metadata": {},
     "output_type": "execute_result"
    }
   ],
   "source": [
    "review_data['content'].isna().sum()"
   ]
  },
  {
   "cell_type": "code",
   "execution_count": 9,
   "metadata": {},
   "outputs": [
    {
     "data": {
      "text/plain": [
       "title\n",
       "Cực kì hài lòng                                      16757\n",
       "Hài lòng                                              2057\n",
       "Rất không hài lòng                                     570\n",
       "Bình thường                                            400\n",
       "Không hài lòng                                         193\n",
       "                                                     ...  \n",
       "The perfect device to read on the go                     1\n",
       "Thích                                                   1\n",
       "Thông tin hàng không đúng                                1\n",
       "Thất vọng về service giao 2h và hình thức đổi/hủy        1\n",
       "10/10 về dịch vụ và sản phẩm                             1\n",
       "Length: 480, dtype: int64"
      ]
     },
     "execution_count": 9,
     "metadata": {},
     "output_type": "execute_result"
    }
   ],
   "source": [
    "review_dtmtb.value_counts('title')"
   ]
  },
  {
   "cell_type": "code",
   "execution_count": 10,
   "metadata": {},
   "outputs": [
    {
     "data": {
      "text/plain": [
       "rating\n",
       "5    54361\n",
       "4     9663\n",
       "1     6990\n",
       "3     4427\n",
       "2     2293\n",
       "dtype: int64"
      ]
     },
     "execution_count": 10,
     "metadata": {},
     "output_type": "execute_result"
    }
   ],
   "source": [
    "review_data.value_counts('rating')"
   ]
  },
  {
   "cell_type": "code",
   "execution_count": 11,
   "metadata": {},
   "outputs": [],
   "source": [
    "review_data['rating_class'] = review_data['rating'].apply(lambda x: 1 if x>3 else 0 if x==3 else -1)"
   ]
  },
  {
   "cell_type": "code",
   "execution_count": 12,
   "metadata": {},
   "outputs": [
    {
     "data": {
      "text/plain": [
       " 1    64024\n",
       "-1     9283\n",
       " 0     4427\n",
       "Name: rating_class, dtype: int64"
      ]
     },
     "execution_count": 12,
     "metadata": {},
     "output_type": "execute_result"
    }
   ],
   "source": [
    "review_data['rating_class'].value_counts()"
   ]
  },
  {
   "cell_type": "code",
   "execution_count": 13,
   "metadata": {},
   "outputs": [
    {
     "data": {
      "text/html": [
       "<div>\n",
       "<style scoped>\n",
       "    .dataframe tbody tr th:only-of-type {\n",
       "        vertical-align: middle;\n",
       "    }\n",
       "\n",
       "    .dataframe tbody tr th {\n",
       "        vertical-align: top;\n",
       "    }\n",
       "\n",
       "    .dataframe thead th {\n",
       "        text-align: right;\n",
       "    }\n",
       "</style>\n",
       "<table border=\"1\" class=\"dataframe\">\n",
       "  <thead>\n",
       "    <tr style=\"text-align: right;\">\n",
       "      <th></th>\n",
       "      <th>content</th>\n",
       "      <th>class</th>\n",
       "    </tr>\n",
       "  </thead>\n",
       "  <tbody>\n",
       "    <tr>\n",
       "      <th>0</th>\n",
       "      <td>Mình vừa nhận được hàng, máy chạy tốt, pin sạc...</td>\n",
       "      <td>1</td>\n",
       "    </tr>\n",
       "    <tr>\n",
       "      <th>1</th>\n",
       "      <td>giao hàng đúng thời. điện thoại giao đúng mẫu....</td>\n",
       "      <td>1</td>\n",
       "    </tr>\n",
       "    <tr>\n",
       "      <th>2</th>\n",
       "      <td>giao hàng nhanh. đóng gói rất OK. mỗi tội tiếc...</td>\n",
       "      <td>1</td>\n",
       "    </tr>\n",
       "    <tr>\n",
       "      <th>3</th>\n",
       "      <td>Dùng siêu thích máy phiên bản 2022 và cùng năm...</td>\n",
       "      <td>1</td>\n",
       "    </tr>\n",
       "    <tr>\n",
       "      <th>4</th>\n",
       "      <td>cho tiki trading shop 5 sao!shop uy tín! giao ...</td>\n",
       "      <td>1</td>\n",
       "    </tr>\n",
       "    <tr>\n",
       "      <th>...</th>\n",
       "      <td>...</td>\n",
       "      <td>...</td>\n",
       "    </tr>\n",
       "    <tr>\n",
       "      <th>41460</th>\n",
       "      <td>cực kỳ hài lòng</td>\n",
       "      <td>1</td>\n",
       "    </tr>\n",
       "    <tr>\n",
       "      <th>41461</th>\n",
       "      <td>Sạc pin chỉ full 88%, nhờ shop tư vấn</td>\n",
       "      <td>-1</td>\n",
       "    </tr>\n",
       "    <tr>\n",
       "      <th>41462</th>\n",
       "      <td>nhìn rất ok.</td>\n",
       "      <td>1</td>\n",
       "    </tr>\n",
       "    <tr>\n",
       "      <th>41463</th>\n",
       "      <td>Giao hang nhah hang dung ok</td>\n",
       "      <td>1</td>\n",
       "    </tr>\n",
       "    <tr>\n",
       "      <th>41464</th>\n",
       "      <td>Giao hàng hơi chậm, quá thời gian dự kiến</td>\n",
       "      <td>1</td>\n",
       "    </tr>\n",
       "  </tbody>\n",
       "</table>\n",
       "<p>77734 rows × 2 columns</p>\n",
       "</div>"
      ],
      "text/plain": [
       "                                                 content  class\n",
       "0      Mình vừa nhận được hàng, máy chạy tốt, pin sạc...      1\n",
       "1      giao hàng đúng thời. điện thoại giao đúng mẫu....      1\n",
       "2      giao hàng nhanh. đóng gói rất OK. mỗi tội tiếc...      1\n",
       "3      Dùng siêu thích máy phiên bản 2022 và cùng năm...      1\n",
       "4      cho tiki trading shop 5 sao!shop uy tín! giao ...      1\n",
       "...                                                  ...    ...\n",
       "41460                                    cực kỳ hài lòng      1\n",
       "41461              Sạc pin chỉ full 88%, nhờ shop tư vấn     -1\n",
       "41462                                       nhìn rất ok.      1\n",
       "41463                        Giao hang nhah hang dung ok      1\n",
       "41464          Giao hàng hơi chậm, quá thời gian dự kiến      1\n",
       "\n",
       "[77734 rows x 2 columns]"
      ]
     },
     "execution_count": 13,
     "metadata": {},
     "output_type": "execute_result"
    }
   ],
   "source": [
    "rating_data = review_data[['content','rating_class']]\n",
    "rating_data = rating_data.rename(columns={'rating_class':\"class\"})\n",
    "rating_data"
   ]
  },
  {
   "cell_type": "code",
   "execution_count": 14,
   "metadata": {},
   "outputs": [],
   "source": [
    "data_train, data_test  = train_test_split(rating_data, test_size=0.2)"
   ]
  },
  {
   "cell_type": "code",
   "execution_count": 15,
   "metadata": {},
   "outputs": [
    {
     "data": {
      "text/plain": [
       "class\n",
       " 1    51175\n",
       "-1     7440\n",
       " 0     3572\n",
       "dtype: int64"
      ]
     },
     "execution_count": 15,
     "metadata": {},
     "output_type": "execute_result"
    }
   ],
   "source": [
    "data_train.value_counts(\"class\")"
   ]
  },
  {
   "cell_type": "code",
   "execution_count": 16,
   "metadata": {},
   "outputs": [
    {
     "data": {
      "text/plain": [
       "class\n",
       " 1    12849\n",
       "-1     1843\n",
       " 0      855\n",
       "dtype: int64"
      ]
     },
     "execution_count": 16,
     "metadata": {},
     "output_type": "execute_result"
    }
   ],
   "source": [
    "data_test.value_counts(\"class\")"
   ]
  },
  {
   "cell_type": "code",
   "execution_count": 19,
   "metadata": {},
   "outputs": [],
   "source": [
    "data_train.to_csv('data_train.csv', index=False)\n",
    "data_test.to_csv('data_test.csv', index=False)"
   ]
  },
  {
   "cell_type": "markdown",
   "metadata": {
    "jp-MarkdownHeadingCollapsed": true,
    "tags": []
   },
   "source": [
    "## DATA PREPARATION"
   ]
  },
  {
   "cell_type": "code",
   "execution_count": 156,
   "metadata": {},
   "outputs": [],
   "source": [
    "data_train = pd.read_csv('data_train.csv');\n",
    "data_test = pd.read_csv('data_test.csv');"
   ]
  },
  {
   "cell_type": "code",
   "execution_count": 157,
   "metadata": {},
   "outputs": [],
   "source": [
    "\n",
    "data_train_1 = data_train[data_train['class'] == 1]\n",
    "data_train_0 = data_train[data_train['class'] == 0]\n",
    "data_train_n1 = data_train[data_train['class'] == -1]\n",
    "\n",
    "data_train_1 = resample(data_train_1, replace=False, n_samples=3000, random_state=1)\n",
    "data_train_0 = resample(data_train_0, replace=False, n_samples=3000, random_state=2)\n",
    "data_train_n1 = resample(data_train_n1, replace=False, n_samples=3000, random_state=3)\n",
    "\n",
    "data_train = pd.concat([data_train_1, data_train_0, data_train_n1])"
   ]
  },
  {
   "cell_type": "code",
   "execution_count": 158,
   "metadata": {},
   "outputs": [
    {
     "data": {
      "text/plain": [
       "class\n",
       "-1    3000\n",
       " 0    3000\n",
       " 1    3000\n",
       "dtype: int64"
      ]
     },
     "execution_count": 158,
     "metadata": {},
     "output_type": "execute_result"
    }
   ],
   "source": [
    "data_train.value_counts('class')"
   ]
  },
  {
   "cell_type": "code",
   "execution_count": 159,
   "metadata": {},
   "outputs": [],
   "source": [
    "labels = data_train.iloc[:,1].values\n",
    "reviews = data_train.iloc[:,0].values\n",
    "encoded_labels = []\n",
    "for label in labels:\n",
    "    if label == -1:\n",
    "        encoded_labels.append([1,0,0])\n",
    "    elif label ==0:\n",
    "        encoded_labels.append([0,1,0])\n",
    "    else:\n",
    "        encoded_labels.append([0,0,1])\n",
    "\n",
    "encoded_labels = np.array(encoded_labels)"
   ]
  },
  {
   "cell_type": "code",
   "execution_count": 160,
   "metadata": {},
   "outputs": [
    {
     "name": "stdout",
     "output_type": "stream",
     "text": [
      "Khá hài lòng\n",
      "Khá hài lòng\n"
     ]
    }
   ],
   "source": [
    "reviews_processed = []\n",
    "unlabeld_processed = []\n",
    "for review in reviews:\n",
    "    review_cool_one = ''.join([char for char in review if char not in digits])\n",
    "    reviews_processed.append(review_cool_one)\n",
    "    \n",
    "print(reviews[0])\n",
    "print(reviews_processed[0])"
   ]
  },
  {
   "cell_type": "code",
   "execution_count": 161,
   "metadata": {},
   "outputs": [
    {
     "name": "stdout",
     "output_type": "stream",
     "text": [
      "['khá', 'hài_lòng']\n"
     ]
    }
   ],
   "source": [
    "word_reviews = []\n",
    "all_words = []\n",
    "for review in reviews_processed:\n",
    "    review = ViTokenizer.tokenize(review.lower())\n",
    "    word_reviews.append(review.split())\n",
    "\n",
    "print(word_reviews[0])"
   ]
  },
  {
   "cell_type": "code",
   "execution_count": 130,
   "metadata": {},
   "outputs": [],
   "source": [
    "EMBEDDING_DIM = 400 #how big is each word vector\n",
    "MAX_VOCAB_SIZE = 10000 #how many unique words to use\n",
    "MAX_SEQUENCE_LENGTH = 300 #max number of words in a comment to use"
   ]
  },
  {
   "cell_type": "code",
   "execution_count": 162,
   "metadata": {},
   "outputs": [],
   "source": [
    "tokenizer = Tokenizer(num_words = MAX_VOCAB_SIZE, lower = True, char_level = False)\n",
    "tokenizer.fit_on_texts(word_reviews)\n",
    "sequences_train = tokenizer.texts_to_sequences(word_reviews)\n",
    "word_index = tokenizer.word_index"
   ]
  },
  {
   "cell_type": "code",
   "execution_count": 163,
   "metadata": {},
   "outputs": [],
   "source": [
    "data = pad_sequences(sequences_train, maxlen = MAX_SEQUENCE_LENGTH)\n",
    "labels = encoded_labels"
   ]
  },
  {
   "cell_type": "code",
   "execution_count": 164,
   "metadata": {},
   "outputs": [],
   "source": [
    "sub_data = data[:2000]\n",
    "sub_labels = labels[:2000]"
   ]
  },
  {
   "cell_type": "code",
   "execution_count": 165,
   "metadata": {},
   "outputs": [
    {
     "data": {
      "text/plain": [
       "(2000, 300)"
      ]
     },
     "execution_count": 165,
     "metadata": {},
     "output_type": "execute_result"
    }
   ],
   "source": [
    "sub_data.shape"
   ]
  },
  {
   "cell_type": "code",
   "execution_count": 166,
   "metadata": {},
   "outputs": [
    {
     "name": "stdout",
     "output_type": "stream",
     "text": [
      "Shape of X train and X validation tensor (9000, 300)\n",
      "Shape of label train and validation tensor (9000, 3)\n"
     ]
    }
   ],
   "source": [
    "print('Shape of X train and X validation tensor', data.shape)\n",
    "print('Shape of label train and validation tensor', labels.shape)"
   ]
  },
  {
   "cell_type": "code",
   "execution_count": 167,
   "metadata": {},
   "outputs": [
    {
     "data": {
      "text/plain": [
       "array([[0., 0., 0., ..., 0., 0., 0.],\n",
       "       [0., 0., 0., ..., 0., 0., 0.],\n",
       "       [0., 0., 0., ..., 0., 0., 0.],\n",
       "       ...,\n",
       "       [0., 0., 0., ..., 0., 0., 0.],\n",
       "       [0., 0., 0., ..., 0., 0., 0.],\n",
       "       [0., 0., 0., ..., 0., 0., 0.]])"
      ]
     },
     "execution_count": 167,
     "metadata": {},
     "output_type": "execute_result"
    }
   ],
   "source": [
    "vocabulary_size = min(len(word_index) +1, MAX_VOCAB_SIZE)\n",
    "embedding_matrix = np.zeros((vocabulary_size, EMBEDDING_DIM))\n",
    "embedding_matrix"
   ]
  },
  {
   "cell_type": "markdown",
   "metadata": {
    "jp-MarkdownHeadingCollapsed": true,
    "tags": []
   },
   "source": [
    "## Test data preparation"
   ]
  },
  {
   "cell_type": "code",
   "execution_count": 176,
   "metadata": {},
   "outputs": [],
   "source": [
    "# data_test.value_counts('class')\n",
    "\n",
    "data_test = pd.read_csv('data_test.csv');"
   ]
  },
  {
   "cell_type": "code",
   "execution_count": 168,
   "metadata": {},
   "outputs": [],
   "source": [
    "# data_test_1 = data_test[data_test['class'] == 1]\n",
    "# data_test_0 = data_test[data_test['class'] == 0]\n",
    "# data_test_n1 = data_test[data_test['class'] == -1]\n",
    "\n",
    "# data_test_1 = resample(data_test_1, replace=False, n_samples=1000, random_state=1)\n",
    "# data_test_0 = resample(data_test_0, replace=False, n_samples=855, random_state=2)\n",
    "# data_test_n1 = resample(data_test_n1, replace=False, n_samples=1000, random_state=3)\n",
    "\n",
    "# data_test = pd.concat([data_test_1, data_test_0, data_test_n1])"
   ]
  },
  {
   "cell_type": "code",
   "execution_count": 177,
   "metadata": {},
   "outputs": [],
   "source": [
    "labels_test = data_test.iloc[:, 1].values\n",
    "reviews_test = data_test.iloc[:, 0].values\n",
    "encoded_labels_test = []\n",
    "for label_test in labels_test:\n",
    "    if label_test == -1:\n",
    "        encoded_labels_test.append([1,0,0])\n",
    "    elif label_test ==0:\n",
    "        encoded_labels_test.append([0,1,0])\n",
    "    else:\n",
    "        encoded_labels_test.append([0,0,1])\n",
    "        \n",
    "encoded_labels_test = np.array(encoded_labels_test)"
   ]
  },
  {
   "cell_type": "code",
   "execution_count": 178,
   "metadata": {},
   "outputs": [],
   "source": [
    "reviews_processed_test = []\n",
    "unlabeled_processed_test = []\n",
    "for review_test in reviews_test:\n",
    "    review_cool_one = ''.join([char for char in review_test if char not in digits])\n",
    "    reviews_processed_test.append(review_cool_one)"
   ]
  },
  {
   "cell_type": "code",
   "execution_count": 179,
   "metadata": {},
   "outputs": [],
   "source": [
    "word_reviews_test = []\n",
    "all_words = []\n",
    "for review_test in reviews_processed_test:\n",
    "    review_test = ViTokenizer.tokenize(review_test.lower())\n",
    "    word_reviews_test.append(review_test.split())"
   ]
  },
  {
   "cell_type": "code",
   "execution_count": 180,
   "metadata": {},
   "outputs": [],
   "source": [
    "sequences_test = tokenizer.texts_to_sequences(word_reviews_test)\n",
    "data_test = pad_sequences(sequences_test, maxlen = MAX_SEQUENCE_LENGTH)\n",
    "labels_test = encoded_labels_test"
   ]
  },
  {
   "cell_type": "code",
   "execution_count": 181,
   "metadata": {},
   "outputs": [
    {
     "name": "stdout",
     "output_type": "stream",
     "text": [
      "Shape of X train and X validation tencor:  (15547, 300)\n",
      "Shape of label train and X validation tencor:  (15547, 3)\n"
     ]
    }
   ],
   "source": [
    "print('Shape of X train and X validation tencor: ', data_test.shape)\n",
    "print('Shape of label train and X validation tencor: ', labels_test.shape)"
   ]
  },
  {
   "cell_type": "code",
   "execution_count": 182,
   "metadata": {},
   "outputs": [],
   "source": [
    "sub_data_test = data_test[:500]\n",
    "sub_labels_test = labels_test[:500]"
   ]
  },
  {
   "cell_type": "markdown",
   "metadata": {
    "jp-MarkdownHeadingCollapsed": true,
    "tags": []
   },
   "source": [
    "## LSTM"
   ]
  },
  {
   "cell_type": "code",
   "execution_count": 29,
   "metadata": {},
   "outputs": [],
   "source": [
    "model_LSTM = Sequential()\n",
    "model_LSTM.add(Embedding(MAX_VOCAB_SIZE, EMBEDDING_DIM, input_length=MAX_SEQUENCE_LENGTH))\n",
    "model_LSTM.add(LSTM(128, dropout = 0.1, return_sequences = False))\n",
    "model_LSTM.add(Dense(10, activation='relu'))\n",
    "model_LSTM.add(Dense(3, activation='softmax'))\n",
    "model_LSTM.compile(loss='categorical_crossentropy', optimizer='adam', metrics=['acc'])"
   ]
  },
  {
   "cell_type": "code",
   "execution_count": 30,
   "metadata": {
    "tags": []
   },
   "outputs": [
    {
     "name": "stdout",
     "output_type": "stream",
     "text": [
      "Model: \"sequential\"\n",
      "_________________________________________________________________\n",
      " Layer (type)                Output Shape              Param #   \n",
      "=================================================================\n",
      " embedding (Embedding)       (None, 300, 400)          4000000   \n",
      "                                                                 \n",
      " lstm (LSTM)                 (None, 128)               270848    \n",
      "                                                                 \n",
      " dense (Dense)               (None, 10)                1290      \n",
      "                                                                 \n",
      " dense_1 (Dense)             (None, 3)                 33        \n",
      "                                                                 \n",
      "=================================================================\n",
      "Total params: 4,272,171\n",
      "Trainable params: 4,272,171\n",
      "Non-trainable params: 0\n",
      "_________________________________________________________________\n"
     ]
    }
   ],
   "source": [
    "model_LSTM.summary()"
   ]
  },
  {
   "cell_type": "code",
   "execution_count": 31,
   "metadata": {},
   "outputs": [],
   "source": [
    "early_stopping = EarlyStopping(monitor = 'loss', min_delta = 0.1, patience = 4, verbose = 1)\n",
    "callbacks_list = [early_stopping]"
   ]
  },
  {
   "cell_type": "code",
   "execution_count": 39,
   "metadata": {
    "tags": []
   },
   "outputs": [
    {
     "name": "stdout",
     "output_type": "stream",
     "text": [
      "Epoch 1/100\n",
      "36/36 [==============================] - 131s 4s/step - loss: 2.2331 - acc: 0.3319 - val_loss: 1.0832 - val_acc: 0.4776\n",
      "Epoch 2/100\n",
      "36/36 [==============================] - 134s 4s/step - loss: 1.0637 - acc: 0.4927 - val_loss: 0.9467 - val_acc: 0.4589\n",
      "Epoch 3/100\n",
      "36/36 [==============================] - 141s 4s/step - loss: 0.8998 - acc: 0.5987 - val_loss: 0.8042 - val_acc: 0.4989\n",
      "Epoch 4/100\n",
      "36/36 [==============================] - 133s 4s/step - loss: 0.7116 - acc: 0.6828 - val_loss: 0.6785 - val_acc: 0.6943\n",
      "Epoch 5/100\n",
      "36/36 [==============================] - 152s 4s/step - loss: 0.5761 - acc: 0.7738 - val_loss: 0.7188 - val_acc: 0.7051\n",
      "Epoch 6/100\n",
      "36/36 [==============================] - 137s 4s/step - loss: 0.4702 - acc: 0.8250 - val_loss: 0.7256 - val_acc: 0.7158\n",
      "Epoch 7/100\n",
      "36/36 [==============================] - 156s 4s/step - loss: 0.3986 - acc: 0.8606 - val_loss: 0.6189 - val_acc: 0.7807\n",
      "Epoch 8/100\n",
      "36/36 [==============================] - 142s 4s/step - loss: 0.3412 - acc: 0.8850 - val_loss: 0.7595 - val_acc: 0.7370\n",
      "Epoch 9/100\n",
      "36/36 [==============================] - 131s 4s/step - loss: 0.3086 - acc: 0.8984 - val_loss: 0.6363 - val_acc: 0.7946\n",
      "Epoch 10/100\n",
      "36/36 [==============================] - 135s 4s/step - loss: 0.2743 - acc: 0.9128 - val_loss: 0.6921 - val_acc: 0.8076\n",
      "Epoch 11/100\n",
      "36/36 [==============================] - 142s 4s/step - loss: 0.2479 - acc: 0.9254 - val_loss: 0.8230 - val_acc: 0.7562\n",
      "Epoch 12/100\n",
      "36/36 [==============================] - 147s 4s/step - loss: 0.2162 - acc: 0.9362 - val_loss: 0.8709 - val_acc: 0.7612\n",
      "Epoch 13/100\n",
      "36/36 [==============================] - 139s 4s/step - loss: 0.1927 - acc: 0.9449 - val_loss: 0.8708 - val_acc: 0.7623\n",
      "Epoch 14/100\n",
      "36/36 [==============================] - 128s 4s/step - loss: 0.1789 - acc: 0.9502 - val_loss: 0.8087 - val_acc: 0.7752\n",
      "Epoch 15/100\n",
      "36/36 [==============================] - 147s 4s/step - loss: 0.1954 - acc: 0.9388 - val_loss: 0.9578 - val_acc: 0.7520\n",
      "Epoch 16/100\n",
      "36/36 [==============================] - 140s 4s/step - loss: 0.1685 - acc: 0.9514 - val_loss: 0.9940 - val_acc: 0.7448\n",
      "Epoch 16: early stopping\n",
      "CPU times: total: 2h 40min 57s\n",
      "Wall time: 37min 13s\n"
     ]
    }
   ],
   "source": [
    "%%time\n",
    "history = model_LSTM.fit(data, labels, epochs=100, batch_size=256, callbacks=callbacks_list, verbose = 1,shuffle = True, validation_data=[data_test, labels_test])"
   ]
  },
  {
   "cell_type": "code",
   "execution_count": 161,
   "metadata": {},
   "outputs": [
    {
     "data": {
      "image/png": "[encoded data removed]",
      "text/plain": [
       "<IPython.core.display.Image object>"
      ]
     },
     "execution_count": 161,
     "metadata": {},
     "output_type": "execute_result"
    }
   ],
   "source": [
    "tf.keras.utils.plot_model(model_LSTM, to_file='model_LSTM.png', show_shapes=True, show_layer_activations=True)"
   ]
  },
  {
   "cell_type": "code",
   "execution_count": 164,
   "metadata": {},
   "outputs": [
    {
     "name": "stdout",
     "output_type": "stream",
     "text": [
      "486/486 [==============================] - 96s 197ms/step - loss: 2.4346 - acc: 0.8265\n",
      "loss: 2.43\n",
      "acc: 82.65%\n"
     ]
    }
   ],
   "source": [
    "score = model_LSTM.evaluate(data_test, labels_test)\n",
    "\n",
    "print(\"%s: %.2f\" %(model_LSTM.metrics_names[0], score[0]))\n",
    "print(\"%s: %.2f%%\" %(model_LSTM.metrics_names[1], score[1]*100))"
   ]
  },
  {
   "cell_type": "code",
   "execution_count": 46,
   "metadata": {
    "collapsed": true,
    "jupyter": {
     "outputs_hidden": true
    },
    "tags": []
   },
   "outputs": [
    {
     "data": {
      "image/png": "[encoded data removed]",
      "text/plain": [
       "<Figure size 720x288 with 2 Axes>"
      ]
     },
     "metadata": {
      "needs_background": "light"
     },
     "output_type": "display_data"
    }
   ],
   "source": [
    "def plot_loss_accuracy(history):\n",
    "    fig, axs = plt.subplots(1,2, figsize = (10, 4))\n",
    "    hist = history.history\n",
    "    for ax, metric in zip(axs, [\"loss\", \"acc\"]):\n",
    "        ax.plot(hist[metric])\n",
    "        ax.legend([metric])\n",
    "        ax.set_title(metric)\n",
    "    plt.style.use('default')\n",
    "    \n",
    "plot_loss_accuracy(history)"
   ]
  },
  {
   "cell_type": "code",
   "execution_count": 185,
   "metadata": {},
   "outputs": [
    {
     "name": "stdout",
     "output_type": "stream",
     "text": [
      "1/1 [==============================] - 0s 99ms/step\n",
      "Vấn đề lớn nhất là nó dày quá a~ to, không thon gọn tinh tế như những mẫu khác, màu trắng nữa, dễ dơ. Còn lại thì okie nha.\n",
      "Tích cực\n",
      "Bình thường\n"
     ]
    }
   ],
   "source": [
    "prediction = model_LSTM.predict(data_test[:10])\n",
    "\n",
    "labels_text = ['Tiêu cực', 'Bình thường', 'Tích cực']\n",
    "num=1\n",
    "print(reviews_test[num])\n",
    "print(labels_text[np.argmax(labels_test[num])])\n",
    "print(labels_text[np.argmax(prediction[num])])"
   ]
  },
  {
   "cell_type": "code",
   "execution_count": 195,
   "metadata": {
    "tags": []
   },
   "outputs": [
    {
     "name": "stdout",
     "output_type": "stream",
     "text": [
      "486/486 [==============================] - 107s 220ms/step\n"
     ]
    }
   ],
   "source": [
    "preds = model_LSTM.predict(data_test)\n"
   ]
  },
  {
   "cell_type": "code",
   "execution_count": 196,
   "metadata": {},
   "outputs": [],
   "source": [
    "test_class = np.argmax(labels_test, axis = 1)\n",
    "preds_class = np.argmax(preds, axis = 1)\n"
   ]
  },
  {
   "cell_type": "code",
   "execution_count": 198,
   "metadata": {},
   "outputs": [
    {
     "data": {
      "text/plain": [
       "array([0.62747909, 0.2400984 , 0.85606724])"
      ]
     },
     "execution_count": 198,
     "metadata": {},
     "output_type": "execute_result"
    }
   ],
   "source": [
    "f1_score(test_class, preds_class, average=None)"
   ]
  },
  {
   "cell_type": "markdown",
   "metadata": {
    "tags": []
   },
   "source": [
    "## LSTM Attention"
   ]
  },
  {
   "cell_type": "code",
   "execution_count": 254,
   "metadata": {},
   "outputs": [],
   "source": [
    "sequence_length = sub_data.shape[1]\n",
    "drop = 0.1\n",
    "\n",
    "inputs = Input(shape = (sequence_length,))\n",
    "embedding = Embedding(vocabulary_size, EMBEDDING_DIM, weights = [embedding_matrix])(inputs)\n",
    "bilstm = LSTM(128, return_sequences = True)(embedding)\n",
    "attention_layer = attention()(bilstm)\n",
    "output = Dense(units = 3, activation = 'softmax')(attention_layer)\n",
    "\n",
    "model_lstm_att = Model(inputs, output)"
   ]
  },
  {
   "cell_type": "code",
   "execution_count": 255,
   "metadata": {},
   "outputs": [],
   "source": [
    "# Retrieve the config\n",
    "config = model_lstm_att.get_config()\n",
    "\n",
    "# At loading time, register the custom objects with a `custom_object_scope`:\n",
    "custom_objects = {\"attention\": attention}\n",
    "with keras.utils.custom_object_scope(custom_objects):\n",
    "    model_lstm_att = keras.Model.from_config(config)\n",
    "    \n",
    "model_lstm_att.compile(loss='categorical_crossentropy', optimizer='adam', metrics=['acc'])"
   ]
  },
  {
   "cell_type": "code",
   "execution_count": 257,
   "metadata": {},
   "outputs": [
    {
     "data": {
      "image/png": "[encoded data removed]",
      "text/plain": [
       "<IPython.core.display.Image object>"
      ]
     },
     "execution_count": 257,
     "metadata": {},
     "output_type": "execute_result"
    }
   ],
   "source": [
    "tf.keras.utils.plot_model(model_lstm_att, to_file='model_lstm_att.png', show_shapes=True, show_layer_activations=True)"
   ]
  },
  {
   "cell_type": "code",
   "execution_count": 258,
   "metadata": {},
   "outputs": [
    {
     "name": "stdout",
     "output_type": "stream",
     "text": [
      "Epoch 1/100\n",
      "36/36 [==============================] - 172s 5s/step - loss: 1.0972 - acc: 0.3598 - val_loss: 1.0944 - val_acc: 0.5125\n",
      "Epoch 2/100\n",
      "36/36 [==============================] - 174s 5s/step - loss: 1.0061 - acc: 0.4914 - val_loss: 0.8570 - val_acc: 0.7064\n",
      "Epoch 3/100\n",
      "36/36 [==============================] - 191s 5s/step - loss: 0.8375 - acc: 0.6138 - val_loss: 0.6873 - val_acc: 0.7911\n",
      "Epoch 4/100\n",
      "36/36 [==============================] - 184s 5s/step - loss: 0.7237 - acc: 0.6800 - val_loss: 0.6855 - val_acc: 0.7815\n",
      "Epoch 5/100\n",
      "36/36 [==============================] - 183s 5s/step - loss: 0.6274 - acc: 0.7456 - val_loss: 0.7643 - val_acc: 0.7764\n",
      "Epoch 6/100\n",
      "36/36 [==============================] - 149s 4s/step - loss: 0.5591 - acc: 0.7842 - val_loss: 0.6757 - val_acc: 0.7672\n",
      "Epoch 7/100\n",
      "36/36 [==============================] - 148s 4s/step - loss: 0.5055 - acc: 0.8077 - val_loss: 0.6282 - val_acc: 0.8160\n",
      "Epoch 8/100\n",
      "36/36 [==============================] - 147s 4s/step - loss: 0.4537 - acc: 0.8358 - val_loss: 0.6328 - val_acc: 0.8040\n",
      "Epoch 9/100\n",
      "36/36 [==============================] - 149s 4s/step - loss: 0.4087 - acc: 0.8526 - val_loss: 0.6476 - val_acc: 0.8090\n",
      "Epoch 10/100\n",
      "36/36 [==============================] - 148s 4s/step - loss: 0.3710 - acc: 0.8697 - val_loss: 0.7814 - val_acc: 0.7725\n",
      "Epoch 11/100\n",
      "36/36 [==============================] - 154s 4s/step - loss: 0.3519 - acc: 0.8802 - val_loss: 0.9000 - val_acc: 0.7500\n",
      "Epoch 12/100\n",
      "36/36 [==============================] - 166s 5s/step - loss: 0.3268 - acc: 0.8866 - val_loss: 0.7837 - val_acc: 0.7953\n",
      "Epoch 13/100\n",
      "36/36 [==============================] - 160s 4s/step - loss: 0.2987 - acc: 0.8986 - val_loss: 0.8891 - val_acc: 0.7848\n",
      "Epoch 14/100\n",
      "36/36 [==============================] - 155s 4s/step - loss: 0.2872 - acc: 0.9006 - val_loss: 0.9957 - val_acc: 0.7388\n",
      "Epoch 15/100\n",
      "36/36 [==============================] - 153s 4s/step - loss: 0.2860 - acc: 0.8986 - val_loss: 0.9007 - val_acc: 0.7849\n",
      "Epoch 15: early stopping\n",
      "CPU times: total: 2h 30min 37s\n",
      "Wall time: 40min 32s\n"
     ]
    },
    {
     "data": {
      "text/plain": [
       "<keras.callbacks.History at 0x1eac3fc5220>"
      ]
     },
     "execution_count": 258,
     "metadata": {},
     "output_type": "execute_result"
    }
   ],
   "source": [
    "%%time\n",
    "model_lstm_att.fit(data, labels,epochs = 100, batch_size = 256, callbacks = callbacks_list, verbose = 1,shuffle = True, validation_data=[data_test, labels_test])"
   ]
  },
  {
   "cell_type": "code",
   "execution_count": 261,
   "metadata": {},
   "outputs": [
    {
     "name": "stdout",
     "output_type": "stream",
     "text": [
      "486/486 [==============================] - 70s 144ms/step - loss: 0.9007 - acc: 0.7849\n",
      "loss: 0.90\n",
      "acc: 78.49%\n"
     ]
    }
   ],
   "source": [
    "score = model_lstm_att.evaluate(data_test, labels_test)\n",
    "\n",
    "print(\"%s: %.2f\" %(model_lstm_att.metrics_names[0], score[0]))\n",
    "print(\"%s: %.2f%%\" %(model_lstm_att.metrics_names[1], score[1]*100))"
   ]
  },
  {
   "cell_type": "code",
   "execution_count": 262,
   "metadata": {},
   "outputs": [
    {
     "name": "stdout",
     "output_type": "stream",
     "text": [
      "1/1 [==============================] - 1s 924ms/step\n",
      "Hàng chính hãng, tuy nhiên giao hàng vẫn ko đúng hẹn\n",
      "Tích cực\n",
      "Tiêu cực\n"
     ]
    }
   ],
   "source": [
    "prediction = model_lstm_att.predict(data_test[:10])\n",
    "\n",
    "labels_text = ['Tiêu cực', 'Bình thường', 'Tích cực']\n",
    "num=2\n",
    "print(reviews_test[num])\n",
    "print(labels_text[np.argmax(labels_test[num])])\n",
    "print(labels_text[np.argmax(prediction[num])])"
   ]
  },
  {
   "cell_type": "code",
   "execution_count": 263,
   "metadata": {},
   "outputs": [
    {
     "name": "stdout",
     "output_type": "stream",
     "text": [
      "486/486 [==============================] - 68s 139ms/step\n"
     ]
    },
    {
     "data": {
      "text/plain": [
       "array([0.64424514, 0.28298172, 0.88476089])"
      ]
     },
     "execution_count": 263,
     "metadata": {},
     "output_type": "execute_result"
    }
   ],
   "source": [
    "preds = model_lstm_att.predict(data_test)\n",
    "preds_class = np.argmax(preds, axis = 1)\n",
    "f1_score(test_class, preds_class, average=None)"
   ]
  },
  {
   "cell_type": "markdown",
   "metadata": {
    "jp-MarkdownHeadingCollapsed": true,
    "tags": []
   },
   "source": [
    "## Bi-LSTM"
   ]
  },
  {
   "cell_type": "code",
   "execution_count": 187,
   "metadata": {},
   "outputs": [],
   "source": [
    "model_Bi_LSTM = Sequential()\n",
    "model_Bi_LSTM.add(Embedding(MAX_VOCAB_SIZE, EMBEDDING_DIM, input_length=MAX_SEQUENCE_LENGTH))\n",
    "model_Bi_LSTM.add(Bidirectional(LSTM(128, dropout = 0.1, return_sequences = False)))\n",
    "model_Bi_LSTM.add(Dense(64, activation='relu'))\n",
    "model_Bi_LSTM.add(Dense(3, activation='sigmoid'))\n",
    "model_Bi_LSTM.compile(loss='categorical_crossentropy', optimizer='adam', metrics=['acc'])"
   ]
  },
  {
   "cell_type": "code",
   "execution_count": 188,
   "metadata": {},
   "outputs": [
    {
     "name": "stdout",
     "output_type": "stream",
     "text": [
      "Model: \"sequential_2\"\n",
      "_________________________________________________________________\n",
      " Layer (type)                Output Shape              Param #   \n",
      "=================================================================\n",
      " embedding_5 (Embedding)     (None, 300, 400)          4000000   \n",
      "                                                                 \n",
      " bidirectional_3 (Bidirectio  (None, 256)              541696    \n",
      " nal)                                                            \n",
      "                                                                 \n",
      " dense_8 (Dense)             (None, 64)                16448     \n",
      "                                                                 \n",
      " dense_9 (Dense)             (None, 3)                 195       \n",
      "                                                                 \n",
      "=================================================================\n",
      "Total params: 4,558,339\n",
      "Trainable params: 4,558,339\n",
      "Non-trainable params: 0\n",
      "_________________________________________________________________\n"
     ]
    }
   ],
   "source": [
    "model_Bi_LSTM.summary()"
   ]
  },
  {
   "cell_type": "code",
   "execution_count": 199,
   "metadata": {
    "tags": []
   },
   "outputs": [
    {
     "name": "stdout",
     "output_type": "stream",
     "text": [
      "Epoch 1/100\n",
      "36/36 [==============================] - 335s 9s/step - loss: 0.8399 - acc: 0.5850 - val_loss: 0.5543 - val_acc: 0.7998\n",
      "Epoch 2/100\n",
      "36/36 [==============================] - 330s 9s/step - loss: 0.5923 - acc: 0.7459 - val_loss: 0.5317 - val_acc: 0.8037\n",
      "Epoch 3/100\n",
      "36/36 [==============================] - 340s 9s/step - loss: 0.4601 - acc: 0.8170 - val_loss: 0.5849 - val_acc: 0.7870\n",
      "Epoch 4/100\n",
      "36/36 [==============================] - 343s 10s/step - loss: 0.3772 - acc: 0.8556 - val_loss: 0.6343 - val_acc: 0.7756\n",
      "Epoch 5/100\n",
      "36/36 [==============================] - 348s 10s/step - loss: 0.3178 - acc: 0.8850 - val_loss: 0.7194 - val_acc: 0.7669\n",
      "Epoch 6/100\n",
      "36/36 [==============================] - 350s 10s/step - loss: 0.2761 - acc: 0.9024 - val_loss: 0.7456 - val_acc: 0.7733\n",
      "Epoch 7/100\n",
      "36/36 [==============================] - 420s 12s/step - loss: 0.2515 - acc: 0.9100 - val_loss: 0.7639 - val_acc: 0.7714\n",
      "Epoch 8/100\n",
      "36/36 [==============================] - 436s 12s/step - loss: 0.2129 - acc: 0.9273 - val_loss: 0.8504 - val_acc: 0.7557\n",
      "Epoch 9/100\n",
      "36/36 [==============================] - 477s 13s/step - loss: 0.1848 - acc: 0.9360 - val_loss: 0.9381 - val_acc: 0.7502\n",
      "Epoch 10/100\n",
      "36/36 [==============================] - 593s 16s/step - loss: 0.1707 - acc: 0.9412 - val_loss: 0.9291 - val_acc: 0.7511\n",
      "Epoch 11/100\n",
      "36/36 [==============================] - 585s 16s/step - loss: 0.1522 - acc: 0.9482 - val_loss: 0.9991 - val_acc: 0.7486\n",
      "Epoch 12/100\n",
      "36/36 [==============================] - 565s 16s/step - loss: 0.1407 - acc: 0.9522 - val_loss: 1.1715 - val_acc: 0.7198\n",
      "Epoch 12: early stopping\n",
      "CPU times: total: 4h 41min 31s\n",
      "Wall time: 1h 25min 21s\n"
     ]
    }
   ],
   "source": [
    "%%time\n",
    "history = model_Bi_LSTM.fit(data, labels, epochs=100, batch_size=256, callbacks=callbacks_list, verbose = 1,shuffle = True, validation_data=[data_test, labels_test])"
   ]
  },
  {
   "cell_type": "code",
   "execution_count": 190,
   "metadata": {},
   "outputs": [
    {
     "data": {
      "image/png": "[encoded data removed]",
      "text/plain": [
       "<IPython.core.display.Image object>"
      ]
     },
     "execution_count": 190,
     "metadata": {},
     "output_type": "execute_result"
    }
   ],
   "source": [
    "tf.keras.utils.plot_model(model_Bi_LSTM, to_file='model_Bi_LSTM.png', show_shapes=True, show_layer_activations=True)"
   ]
  },
  {
   "cell_type": "code",
   "execution_count": 200,
   "metadata": {},
   "outputs": [
    {
     "name": "stdout",
     "output_type": "stream",
     "text": [
      "486/486 [==============================] - 385s 792ms/step - loss: 1.1715 - acc: 0.7198\n",
      "loss: 1.17\n",
      "acc: 71.98%\n"
     ]
    }
   ],
   "source": [
    "score = model_Bi_LSTM.evaluate(data_test, labels_test)\n",
    "\n",
    "print(\"%s: %.2f\" %(model_Bi_LSTM.metrics_names[0], score[0]))\n",
    "print(\"%s: %.2f%%\" %(model_Bi_LSTM.metrics_names[1], score[1]*100))"
   ]
  },
  {
   "cell_type": "code",
   "execution_count": 201,
   "metadata": {},
   "outputs": [
    {
     "name": "stdout",
     "output_type": "stream",
     "text": [
      "486/486 [==============================] - 303s 619ms/step\n"
     ]
    },
    {
     "data": {
      "text/plain": [
       "array([0.61026226, 0.23172988, 0.83547018])"
      ]
     },
     "execution_count": 201,
     "metadata": {},
     "output_type": "execute_result"
    }
   ],
   "source": [
    "preds = model_Bi_LSTM.predict(data_test)\n",
    "preds_class = np.argmax(preds, axis = 1)\n",
    "f1_score(test_class, preds_class, average=None)"
   ]
  },
  {
   "cell_type": "markdown",
   "metadata": {
    "jp-MarkdownHeadingCollapsed": true,
    "tags": []
   },
   "source": [
    "## Bi LSTM Attention"
   ]
  },
  {
   "cell_type": "code",
   "execution_count": 220,
   "metadata": {
    "tags": []
   },
   "outputs": [],
   "source": [
    "# Add attention layer to the deep learning network\n",
    "class attention(Layer):\n",
    "    def __init__(self,**kwargs):\n",
    "        super(attention,self).__init__(**kwargs)\n",
    " \n",
    "    def build(self,input_shape):\n",
    "        self.W=self.add_weight(name='attention_weight', shape=(input_shape[-1],1), \n",
    "                               initializer='random_normal', trainable=True)\n",
    "        self.b=self.add_weight(name='attention_bias', shape=(input_shape[1],1), \n",
    "                               initializer='zeros', trainable=True)        \n",
    "        super(attention, self).build(input_shape)\n",
    " \n",
    "    def call(self,x):\n",
    "        # Alignment scores. Pass them through tanh function\n",
    "        e = K.tanh(K.dot(x,self.W)+self.b)\n",
    "        # Remove dimension of size 1\n",
    "        e = K.squeeze(e, axis=-1)   \n",
    "        # Compute the weights\n",
    "        alpha = K.softmax(e)\n",
    "        # Reshape to tensorFlow format\n",
    "        alpha = K.expand_dims(alpha, axis=-1)\n",
    "        # Compute the context vector\n",
    "        context = x * alpha\n",
    "        context = K.sum(context, axis=1)\n",
    "        return context"
   ]
  },
  {
   "cell_type": "code",
   "execution_count": 221,
   "metadata": {
    "tags": []
   },
   "outputs": [],
   "source": [
    "sequence_length = sub_data.shape[1]\n",
    "drop = 0.1\n",
    "\n",
    "inputs = Input(shape = (sequence_length,))\n",
    "embedding = Embedding(vocabulary_size, EMBEDDING_DIM, weights = [embedding_matrix])(inputs)\n",
    "bilstm = Bidirectional(LSTM(128, return_sequences = True))(embedding)\n",
    "attention_layer = attention()(bilstm)\n",
    "output = Dense(units = 3, activation = 'softmax')(attention_layer)\n",
    "\n",
    "model_bi_lstm_att = Model(inputs, output)"
   ]
  },
  {
   "cell_type": "code",
   "execution_count": 222,
   "metadata": {},
   "outputs": [],
   "source": [
    "# Retrieve the config\n",
    "config = model_bi_lstm_att.get_config()\n",
    "\n",
    "# At loading time, register the custom objects with a `custom_object_scope`:\n",
    "custom_objects = {\"attention\": attention}\n",
    "with keras.utils.custom_object_scope(custom_objects):\n",
    "    new_model_bi_lstm_att = keras.Model.from_config(config)\n",
    "    \n",
    "new_model_bi_lstm_att.compile(loss='categorical_crossentropy', optimizer='adam', metrics=['acc'])"
   ]
  },
  {
   "cell_type": "code",
   "execution_count": 223,
   "metadata": {},
   "outputs": [
    {
     "data": {
      "image/png": "[encoded data removed]",
      "text/plain": [
       "<IPython.core.display.Image object>"
      ]
     },
     "execution_count": 223,
     "metadata": {},
     "output_type": "execute_result"
    }
   ],
   "source": [
    "tf.keras.utils.plot_model(new_model_bi_lstm_att, to_file='model_bi_lstm_att.png', show_shapes=True, show_layer_activations=True)"
   ]
  },
  {
   "cell_type": "code",
   "execution_count": 224,
   "metadata": {
    "tags": []
   },
   "outputs": [
    {
     "name": "stdout",
     "output_type": "stream",
     "text": [
      "Epoch 1/100\n",
      "36/36 [==============================] - 326s 9s/step - loss: 1.0886 - acc: 0.3762 - val_loss: 0.8060 - val_acc: 0.8003\n",
      "Epoch 2/100\n",
      "36/36 [==============================] - 326s 9s/step - loss: 0.9792 - acc: 0.5051 - val_loss: 0.8456 - val_acc: 0.7323\n",
      "Epoch 3/100\n",
      "36/36 [==============================] - 353s 10s/step - loss: 0.7933 - acc: 0.6330 - val_loss: 0.5841 - val_acc: 0.7884\n",
      "Epoch 4/100\n",
      "36/36 [==============================] - 397s 11s/step - loss: 0.6704 - acc: 0.7079 - val_loss: 0.6305 - val_acc: 0.7474\n",
      "Epoch 5/100\n",
      "36/36 [==============================] - 371s 10s/step - loss: 0.5763 - acc: 0.7678 - val_loss: 0.6740 - val_acc: 0.7479\n",
      "Epoch 6/100\n",
      "36/36 [==============================] - 372s 10s/step - loss: 0.5015 - acc: 0.8089 - val_loss: 0.6256 - val_acc: 0.7698\n",
      "Epoch 7/100\n",
      "36/36 [==============================] - 417s 12s/step - loss: 0.4519 - acc: 0.8337 - val_loss: 0.6790 - val_acc: 0.7625\n",
      "Epoch 8/100\n",
      "36/36 [==============================] - 400s 11s/step - loss: 0.3955 - acc: 0.8596 - val_loss: 0.6361 - val_acc: 0.7964\n",
      "Epoch 9/100\n",
      "36/36 [==============================] - 394s 11s/step - loss: 0.3557 - acc: 0.8783 - val_loss: 0.6686 - val_acc: 0.7792\n",
      "Epoch 10/100\n",
      "36/36 [==============================] - 392s 11s/step - loss: 0.3191 - acc: 0.8956 - val_loss: 0.7013 - val_acc: 0.7809\n",
      "Epoch 11/100\n",
      "36/36 [==============================] - 390s 11s/step - loss: 0.2921 - acc: 0.9078 - val_loss: 0.6595 - val_acc: 0.7922\n",
      "Epoch 12/100\n",
      "36/36 [==============================] - 392s 11s/step - loss: 0.2750 - acc: 0.9163 - val_loss: 0.7698 - val_acc: 0.7860\n",
      "Epoch 13/100\n",
      "36/36 [==============================] - 378s 11s/step - loss: 0.2412 - acc: 0.9270 - val_loss: 0.8649 - val_acc: 0.7391\n",
      "Epoch 14/100\n",
      "36/36 [==============================] - 386s 11s/step - loss: 0.2460 - acc: 0.9200 - val_loss: 0.7821 - val_acc: 0.7873\n",
      "Epoch 15/100\n",
      "36/36 [==============================] - 393s 11s/step - loss: 0.2080 - acc: 0.9390 - val_loss: 0.7839 - val_acc: 0.7757\n",
      "Epoch 15: early stopping\n",
      "CPU times: total: 5h 30min 32s\n",
      "Wall time: 1h 34min 48s\n"
     ]
    },
    {
     "data": {
      "text/plain": [
       "<keras.callbacks.History at 0x1ea87673b50>"
      ]
     },
     "execution_count": 224,
     "metadata": {},
     "output_type": "execute_result"
    }
   ],
   "source": [
    "%%time\n",
    "new_model_bi_lstm_att.fit(data, labels,epochs = 100, batch_size = 256, callbacks = callbacks_list, verbose = 1,shuffle = True, validation_data=[data_test, labels_test])"
   ]
  },
  {
   "cell_type": "code",
   "execution_count": 226,
   "metadata": {},
   "outputs": [
    {
     "name": "stdout",
     "output_type": "stream",
     "text": [
      "486/486 [==============================] - 201s 412ms/step - loss: 0.7839 - acc: 0.7757\n",
      "loss: 0.78\n",
      "acc: 77.57%\n"
     ]
    }
   ],
   "source": [
    "score = new_model_bi_lstm_att.evaluate(data_test, labels_test)\n",
    "\n",
    "print(\"%s: %.2f\" %(new_model_bi_lstm_att.metrics_names[0], score[0]))\n",
    "print(\"%s: %.2f%%\" %(new_model_bi_lstm_att.metrics_names[1], score[1]*100))"
   ]
  },
  {
   "cell_type": "code",
   "execution_count": 227,
   "metadata": {},
   "outputs": [
    {
     "name": "stdout",
     "output_type": "stream",
     "text": [
      "1/1 [==============================] - 2s 2s/step\n",
      "Hàng chính hãng, tuy nhiên giao hàng vẫn ko đúng hẹn\n",
      "Tích cực\n",
      "Tích cực\n"
     ]
    }
   ],
   "source": [
    "prediction = new_model_bi_lstm_att.predict(data_test[:10])\n",
    "\n",
    "labels_text = ['Tiêu cực', 'Bình thường', 'Tích cực']\n",
    "num=2\n",
    "print(reviews_test[num])\n",
    "print(labels_text[np.argmax(labels_test[num])])\n",
    "print(labels_text[np.argmax(prediction[num])])"
   ]
  },
  {
   "cell_type": "code",
   "execution_count": 228,
   "metadata": {},
   "outputs": [
    {
     "name": "stdout",
     "output_type": "stream",
     "text": [
      "486/486 [==============================] - 212s 436ms/step\n"
     ]
    },
    {
     "data": {
      "text/plain": [
       "array([0.64355135, 0.27173913, 0.8803313 ])"
      ]
     },
     "execution_count": 228,
     "metadata": {},
     "output_type": "execute_result"
    }
   ],
   "source": [
    "preds = new_model_bi_lstm_att.predict(data_test)\n",
    "preds_class = np.argmax(preds, axis = 1)\n",
    "f1_score(test_class, preds_class, average=None)"
   ]
  },
  {
   "cell_type": "markdown",
   "metadata": {
    "jp-MarkdownHeadingCollapsed": true,
    "tags": []
   },
   "source": [
    "## CNN"
   ]
  },
  {
   "cell_type": "code",
   "execution_count": 229,
   "metadata": {},
   "outputs": [
    {
     "name": "stdout",
     "output_type": "stream",
     "text": [
      "Model: \"sequential_3\"\n",
      "_________________________________________________________________\n",
      " Layer (type)                Output Shape              Param #   \n",
      "=================================================================\n",
      " embedding_9 (Embedding)     (None, 300, 400)          4000000   \n",
      "                                                                 \n",
      " dropout_4 (Dropout)         (None, 300, 400)          0         \n",
      "                                                                 \n",
      " conv1d_4 (Conv1D)           (None, 300, 32)           38432     \n",
      "                                                                 \n",
      " max_pooling1d_8 (MaxPooling  (None, 150, 32)          0         \n",
      " 1D)                                                             \n",
      "                                                                 \n",
      " dropout_5 (Dropout)         (None, 150, 32)           0         \n",
      "                                                                 \n",
      " flatten (Flatten)           (None, 4800)              0         \n",
      "                                                                 \n",
      " dense_13 (Dense)            (None, 3)                 14403     \n",
      "                                                                 \n",
      "=================================================================\n",
      "Total params: 4,052,835\n",
      "Trainable params: 4,052,835\n",
      "Non-trainable params: 0\n",
      "_________________________________________________________________\n"
     ]
    }
   ],
   "source": [
    "\n",
    "model_CNN = Sequential()\n",
    "model_CNN.add(Embedding(MAX_VOCAB_SIZE, EMBEDDING_DIM, input_length=MAX_SEQUENCE_LENGTH))\n",
    "model_CNN.add(Dropout(0.1))\n",
    "model_CNN.add(Conv1D(filters=32, kernel_size=3, padding=\"same\", activation=\"relu\"))\n",
    "model_CNN.add(MaxPooling1D())\n",
    "model_CNN.add(Dropout(0.1))\n",
    "model_CNN.add(Flatten())\n",
    "model_CNN.add(Dense(units = 3, activation = 'softmax'))\n",
    "\n",
    "model_CNN.compile(loss = 'categorical_crossentropy', optimizer = 'adam', metrics = ['accuracy'])\n",
    "model_CNN. summary()\n"
   ]
  },
  {
   "cell_type": "code",
   "execution_count": 230,
   "metadata": {
    "tags": []
   },
   "outputs": [
    {
     "data": {
      "image/png": "[encoded data removed]",
      "text/plain": [
       "<IPython.core.display.Image object>"
      ]
     },
     "execution_count": 230,
     "metadata": {},
     "output_type": "execute_result"
    }
   ],
   "source": [
    "tf.keras.utils.plot_model(model_CNN, to_file='model_CNN.png', show_shapes=True, show_layer_activations=True)"
   ]
  },
  {
   "cell_type": "code",
   "execution_count": 231,
   "metadata": {
    "tags": []
   },
   "outputs": [
    {
     "name": "stdout",
     "output_type": "stream",
     "text": [
      "Epoch 1/100\n",
      "36/36 [==============================] - 39s 1s/step - loss: 1.0435 - accuracy: 0.4386 - val_loss: 0.7957 - val_accuracy: 0.7430\n",
      "Epoch 2/100\n",
      "36/36 [==============================] - 37s 1s/step - loss: 0.8056 - accuracy: 0.6240 - val_loss: 0.7928 - val_accuracy: 0.7404\n",
      "Epoch 3/100\n",
      "36/36 [==============================] - 37s 1s/step - loss: 0.6362 - accuracy: 0.7262 - val_loss: 0.6583 - val_accuracy: 0.7660\n",
      "Epoch 4/100\n",
      "36/36 [==============================] - 40s 1s/step - loss: 0.5097 - accuracy: 0.8004 - val_loss: 0.6086 - val_accuracy: 0.7844\n",
      "Epoch 5/100\n",
      "36/36 [==============================] - 44s 1s/step - loss: 0.4121 - accuracy: 0.8514 - val_loss: 0.6604 - val_accuracy: 0.7740\n",
      "Epoch 6/100\n",
      "36/36 [==============================] - 37s 1s/step - loss: 0.3378 - accuracy: 0.8807 - val_loss: 0.7459 - val_accuracy: 0.7619\n",
      "Epoch 7/100\n",
      "36/36 [==============================] - 38s 1s/step - loss: 0.2765 - accuracy: 0.9076 - val_loss: 0.5907 - val_accuracy: 0.8111\n",
      "Epoch 8/100\n",
      "36/36 [==============================] - 39s 1s/step - loss: 0.2316 - accuracy: 0.9239 - val_loss: 0.8374 - val_accuracy: 0.7526\n",
      "Epoch 9/100\n",
      "36/36 [==============================] - 37s 1s/step - loss: 0.1946 - accuracy: 0.9406 - val_loss: 0.8491 - val_accuracy: 0.7603\n",
      "Epoch 10/100\n",
      "36/36 [==============================] - 37s 1s/step - loss: 0.1650 - accuracy: 0.9506 - val_loss: 0.9400 - val_accuracy: 0.7479\n",
      "Epoch 11/100\n",
      "36/36 [==============================] - 37s 1s/step - loss: 0.1457 - accuracy: 0.9557 - val_loss: 0.8186 - val_accuracy: 0.7787\n",
      "Epoch 12/100\n",
      "36/36 [==============================] - 36s 1s/step - loss: 0.1229 - accuracy: 0.9641 - val_loss: 0.9439 - val_accuracy: 0.7585\n",
      "Epoch 13/100\n",
      "36/36 [==============================] - 39s 1s/step - loss: 0.1061 - accuracy: 0.9694 - val_loss: 0.9760 - val_accuracy: 0.7556\n",
      "Epoch 14/100\n",
      "36/36 [==============================] - 36s 1s/step - loss: 0.0951 - accuracy: 0.9741 - val_loss: 0.9044 - val_accuracy: 0.7765\n",
      "Epoch 15/100\n",
      "36/36 [==============================] - 42s 1s/step - loss: 0.0827 - accuracy: 0.9768 - val_loss: 1.0956 - val_accuracy: 0.7445\n",
      "Epoch 16/100\n",
      "36/36 [==============================] - 42s 1s/step - loss: 0.0752 - accuracy: 0.9791 - val_loss: 1.0872 - val_accuracy: 0.7508\n",
      "Epoch 16: early stopping\n",
      "CPU times: total: 54min 21s\n",
      "Wall time: 10min 17s\n"
     ]
    },
    {
     "data": {
      "text/plain": [
       "<keras.callbacks.History at 0x1eacc75f280>"
      ]
     },
     "execution_count": 231,
     "metadata": {},
     "output_type": "execute_result"
    }
   ],
   "source": [
    "%%time\n",
    "model_CNN.fit(data, labels,epochs = 100, batch_size = 256, callbacks = callbacks_list, verbose = 1,shuffle = True, validation_data=[data_test, labels_test])"
   ]
  },
  {
   "cell_type": "code",
   "execution_count": 232,
   "metadata": {},
   "outputs": [
    {
     "name": "stdout",
     "output_type": "stream",
     "text": [
      "486/486 [==============================] - 10s 21ms/step - loss: 1.0872 - accuracy: 0.7508\n",
      "loss: 1.09\n",
      "accuracy: 75.08%\n"
     ]
    }
   ],
   "source": [
    "score = model_CNN.evaluate(data_test, labels_test)\n",
    "\n",
    "print(\"%s: %.2f\" %(model_CNN.metrics_names[0], score[0]))\n",
    "print(\"%s: %.2f%%\" %(model_CNN.metrics_names[1], score[1]*100))"
   ]
  },
  {
   "cell_type": "code",
   "execution_count": 233,
   "metadata": {},
   "outputs": [
    {
     "name": "stdout",
     "output_type": "stream",
     "text": [
      "1/1 [==============================] - 0s 349ms/step\n",
      "Hàng chính hãng, tuy nhiên giao hàng vẫn ko đúng hẹn\n",
      "Tích cực\n",
      "Tích cực\n"
     ]
    }
   ],
   "source": [
    "prediction = model_CNN.predict(data_test[:10])\n",
    "\n",
    "labels_text = ['Tiêu cực', 'Bình thường', 'Tích cực']\n",
    "num=2\n",
    "print(reviews_test[num])\n",
    "print(labels_text[np.argmax(labels_test[num])])\n",
    "print(labels_text[np.argmax(prediction[num])])"
   ]
  },
  {
   "cell_type": "code",
   "execution_count": 234,
   "metadata": {},
   "outputs": [
    {
     "name": "stdout",
     "output_type": "stream",
     "text": [
      "486/486 [==============================] - 13s 26ms/step\n"
     ]
    },
    {
     "data": {
      "text/plain": [
       "array([0.62978072, 0.2531767 , 0.86161471])"
      ]
     },
     "execution_count": 234,
     "metadata": {},
     "output_type": "execute_result"
    }
   ],
   "source": [
    "preds = model_CNN.predict(data_test)\n",
    "preds_class = np.argmax(preds, axis = 1)\n",
    "f1_score(test_class, preds_class, average=None)"
   ]
  },
  {
   "cell_type": "markdown",
   "metadata": {
    "jp-MarkdownHeadingCollapsed": true,
    "tags": []
   },
   "source": [
    "## CNN valid padding"
   ]
  },
  {
   "cell_type": "code",
   "execution_count": 112,
   "metadata": {},
   "outputs": [],
   "source": [
    "\n",
    "model_CNN_valid = Sequential()\n",
    "model_CNN_valid.add(Embedding(MAX_VOCAB_SIZE, EMBEDDING_DIM, input_length=MAX_SEQUENCE_LENGTH))\n",
    "model_CNN_valid.add(Dropout(0.1))\n",
    "model_CNN_valid.add(Conv1D(filters=32, kernel_size=3, padding=\"valid\", activation=\"relu\"))\n",
    "model_CNN_valid.add(MaxPooling1D())\n",
    "model_CNN_valid.add(Dropout(0.1))\n",
    "model_CNN_valid.add(Flatten())\n",
    "model_CNN_valid.add(Dense(units = 3, activation = 'softmax'))\n",
    "\n",
    "model_CNN_valid.compile(loss = 'categorical_crossentropy', optimizer = 'adam', metrics = ['accuracy'])\n"
   ]
  },
  {
   "cell_type": "code",
   "execution_count": 113,
   "metadata": {},
   "outputs": [
    {
     "name": "stdout",
     "output_type": "stream",
     "text": [
      "Epoch 1/100\n",
      "36/36 [==============================] - 35s 943ms/step - loss: 1.0596 - accuracy: 0.4272 - val_loss: 0.8884 - val_accuracy: 0.7389\n",
      "Epoch 2/100\n",
      "36/36 [==============================] - 32s 897ms/step - loss: 0.8440 - accuracy: 0.6039 - val_loss: 0.5586 - val_accuracy: 0.8108\n",
      "Epoch 3/100\n",
      "36/36 [==============================] - 32s 882ms/step - loss: 0.6619 - accuracy: 0.7069 - val_loss: 0.6597 - val_accuracy: 0.7650\n",
      "Epoch 4/100\n",
      "36/36 [==============================] - 32s 880ms/step - loss: 0.5316 - accuracy: 0.7838 - val_loss: 0.5935 - val_accuracy: 0.7969\n",
      "Epoch 5/100\n",
      "36/36 [==============================] - 33s 910ms/step - loss: 0.4271 - accuracy: 0.8417 - val_loss: 0.6381 - val_accuracy: 0.7922\n",
      "Epoch 6/100\n",
      "36/36 [==============================] - 32s 887ms/step - loss: 0.3505 - accuracy: 0.8750 - val_loss: 0.6835 - val_accuracy: 0.7706\n",
      "Epoch 7/100\n",
      "36/36 [==============================] - 33s 929ms/step - loss: 0.2804 - accuracy: 0.9069 - val_loss: 0.6622 - val_accuracy: 0.7885\n",
      "Epoch 8/100\n",
      "36/36 [==============================] - 34s 958ms/step - loss: 0.2316 - accuracy: 0.9249 - val_loss: 0.8161 - val_accuracy: 0.7515\n",
      "Epoch 9/100\n",
      "36/36 [==============================] - 33s 909ms/step - loss: 0.1917 - accuracy: 0.9408 - val_loss: 0.8978 - val_accuracy: 0.7330\n",
      "Epoch 10/100\n",
      "36/36 [==============================] - 32s 890ms/step - loss: 0.1629 - accuracy: 0.9484 - val_loss: 0.9843 - val_accuracy: 0.7346\n",
      "Epoch 11/100\n",
      "36/36 [==============================] - 32s 888ms/step - loss: 0.1369 - accuracy: 0.9591 - val_loss: 0.9008 - val_accuracy: 0.7567\n",
      "Epoch 12/100\n",
      "36/36 [==============================] - 35s 973ms/step - loss: 0.1123 - accuracy: 0.9692 - val_loss: 0.7896 - val_accuracy: 0.7855\n",
      "Epoch 13/100\n",
      "36/36 [==============================] - 34s 937ms/step - loss: 0.0966 - accuracy: 0.9737 - val_loss: 0.9622 - val_accuracy: 0.7600\n",
      "Epoch 14/100\n",
      "36/36 [==============================] - 35s 986ms/step - loss: 0.0840 - accuracy: 0.9773 - val_loss: 1.0723 - val_accuracy: 0.7428\n",
      "Epoch 14: early stopping\n"
     ]
    },
    {
     "data": {
      "text/plain": [
       "<keras.callbacks.History at 0x1da862e6a60>"
      ]
     },
     "execution_count": 113,
     "metadata": {},
     "output_type": "execute_result"
    }
   ],
   "source": [
    "%%time\n",
    "model_CNN_valid.fit(data, labels,epochs = 100, batch_size = 256, callbacks = callbacks_list, verbose = 1,shuffle = True, validation_data=[data_test, labels_test])"
   ]
  },
  {
   "cell_type": "code",
   "execution_count": 114,
   "metadata": {},
   "outputs": [
    {
     "name": "stdout",
     "output_type": "stream",
     "text": [
      "486/486 [==============================] - 6s 12ms/step - loss: 1.0723 - accuracy: 0.7428\n",
      "loss: 1.07\n",
      "accuracy: 74.28%\n"
     ]
    }
   ],
   "source": [
    "score = model_CNN_valid.evaluate(data_test, labels_test)\n",
    "\n",
    "print(\"%s: %.2f\" %(model_CNN_valid.metrics_names[0], score[0]))\n",
    "print(\"%s: %.2f%%\" %(model_CNN_valid.metrics_names[1], score[1]*100))"
   ]
  },
  {
   "cell_type": "markdown",
   "metadata": {
    "jp-MarkdownHeadingCollapsed": true,
    "tags": []
   },
   "source": [
    "## CNN causal padding"
   ]
  },
  {
   "cell_type": "code",
   "execution_count": 115,
   "metadata": {},
   "outputs": [],
   "source": [
    "\n",
    "model_CNN_causal = Sequential()\n",
    "model_CNN_causal.add(Embedding(MAX_VOCAB_SIZE, EMBEDDING_DIM, input_length=MAX_SEQUENCE_LENGTH))\n",
    "model_CNN_causal.add(Dropout(0.1))\n",
    "model_CNN_causal.add(Conv1D(filters=32, kernel_size=3, padding=\"causal\", activation=\"relu\"))\n",
    "model_CNN_causal.add(MaxPooling1D())\n",
    "model_CNN_causal.add(Dropout(0.1))\n",
    "model_CNN_causal.add(Flatten())\n",
    "model_CNN_causal.add(Dense(units = 3, activation = 'softmax'))\n",
    "\n",
    "model_CNN_causal.compile(loss = 'categorical_crossentropy', optimizer = 'adam', metrics = ['accuracy'])\n"
   ]
  },
  {
   "cell_type": "code",
   "execution_count": 116,
   "metadata": {},
   "outputs": [
    {
     "name": "stdout",
     "output_type": "stream",
     "text": [
      "Epoch 1/100\n",
      "36/36 [==============================] - 39s 1s/step - loss: 1.0494 - accuracy: 0.4298 - val_loss: 0.8947 - val_accuracy: 0.7313\n",
      "Epoch 2/100\n",
      "36/36 [==============================] - 38s 1s/step - loss: 0.8289 - accuracy: 0.6058 - val_loss: 0.7049 - val_accuracy: 0.7749\n",
      "Epoch 3/100\n",
      "36/36 [==============================] - 38s 1s/step - loss: 0.6474 - accuracy: 0.7218 - val_loss: 0.5449 - val_accuracy: 0.8055\n",
      "Epoch 4/100\n",
      "36/36 [==============================] - 38s 1s/step - loss: 0.5168 - accuracy: 0.7936 - val_loss: 0.5920 - val_accuracy: 0.7874\n",
      "Epoch 5/100\n",
      "36/36 [==============================] - 38s 1s/step - loss: 0.4219 - accuracy: 0.8393 - val_loss: 0.5739 - val_accuracy: 0.8070\n",
      "Epoch 6/100\n",
      "36/36 [==============================] - 38s 1s/step - loss: 0.3426 - accuracy: 0.8756 - val_loss: 0.6687 - val_accuracy: 0.7843\n",
      "Epoch 7/100\n",
      "36/36 [==============================] - 38s 1s/step - loss: 0.2859 - accuracy: 0.9027 - val_loss: 0.7287 - val_accuracy: 0.7758\n",
      "Epoch 8/100\n",
      "36/36 [==============================] - 38s 1s/step - loss: 0.2427 - accuracy: 0.9202 - val_loss: 0.7430 - val_accuracy: 0.7765\n",
      "Epoch 9/100\n",
      "36/36 [==============================] - 38s 1s/step - loss: 0.2067 - accuracy: 0.9333 - val_loss: 0.7553 - val_accuracy: 0.7767\n",
      "Epoch 10/100\n",
      "36/36 [==============================] - 38s 1s/step - loss: 0.1736 - accuracy: 0.9469 - val_loss: 0.8922 - val_accuracy: 0.7547\n",
      "Epoch 11/100\n",
      "36/36 [==============================] - 38s 1s/step - loss: 0.1506 - accuracy: 0.9578 - val_loss: 1.0316 - val_accuracy: 0.7307\n",
      "Epoch 12/100\n",
      "36/36 [==============================] - 38s 1s/step - loss: 0.1305 - accuracy: 0.9636 - val_loss: 1.0195 - val_accuracy: 0.7413\n",
      "Epoch 13/100\n",
      "36/36 [==============================] - 38s 1s/step - loss: 0.1126 - accuracy: 0.9680 - val_loss: 1.0106 - val_accuracy: 0.7494\n",
      "Epoch 13: early stopping\n"
     ]
    },
    {
     "data": {
      "text/plain": [
       "<keras.callbacks.History at 0x1daa4029c10>"
      ]
     },
     "execution_count": 116,
     "metadata": {},
     "output_type": "execute_result"
    }
   ],
   "source": [
    "%%time\n",
    "model_CNN_causal.fit(data, labels,epochs = 100, batch_size = 256, callbacks = callbacks_list, verbose = 1,shuffle = True, validation_data=[data_test, labels_test])"
   ]
  },
  {
   "cell_type": "code",
   "execution_count": 117,
   "metadata": {},
   "outputs": [
    {
     "name": "stdout",
     "output_type": "stream",
     "text": [
      "486/486 [==============================] - 8s 17ms/step - loss: 1.0106 - accuracy: 0.7494\n",
      "loss: 1.01\n",
      "accuracy: 74.94%\n"
     ]
    }
   ],
   "source": [
    "score = model_CNN_causal.evaluate(data_test, labels_test)\n",
    "\n",
    "print(\"%s: %.2f\" %(model_CNN_causal.metrics_names[0], score[0]))\n",
    "print(\"%s: %.2f%%\" %(model_CNN_causal.metrics_names[1], score[1]*100))"
   ]
  },
  {
   "cell_type": "markdown",
   "metadata": {
    "tags": []
   },
   "source": [
    "## CNN + LSTM tuần tự"
   ]
  },
  {
   "cell_type": "code",
   "execution_count": 237,
   "metadata": {
    "tags": []
   },
   "outputs": [
    {
     "name": "stdout",
     "output_type": "stream",
     "text": [
      "Model: \"sequential_5\"\n",
      "_________________________________________________________________\n",
      " Layer (type)                Output Shape              Param #   \n",
      "=================================================================\n",
      " embedding_12 (Embedding)    (None, 300, 400)          4000000   \n",
      "                                                                 \n",
      " dropout_11 (Dropout)        (None, 300, 400)          0         \n",
      "                                                                 \n",
      " conv1d_9 (Conv1D)           (None, 300, 32)           38432     \n",
      "                                                                 \n",
      " max_pooling1d_16 (MaxPoolin  (None, 150, 32)          0         \n",
      " g1D)                                                            \n",
      "                                                                 \n",
      " dropout_12 (Dropout)        (None, 150, 32)           0         \n",
      "                                                                 \n",
      " lstm_14 (LSTM)              (None, 150, 32)           8320      \n",
      "                                                                 \n",
      " flatten_2 (Flatten)         (None, 4800)              0         \n",
      "                                                                 \n",
      " dense_17 (Dense)            (None, 3)                 14403     \n",
      "                                                                 \n",
      "=================================================================\n",
      "Total params: 4,061,155\n",
      "Trainable params: 4,061,155\n",
      "Non-trainable params: 0\n",
      "_________________________________________________________________\n"
     ]
    }
   ],
   "source": [
    "model_CNN_LSTM = Sequential()\n",
    "model_CNN_LSTM.add(Embedding(MAX_VOCAB_SIZE, EMBEDDING_DIM, input_length=MAX_SEQUENCE_LENGTH))\n",
    "model_CNN_LSTM.add(Dropout(0.1))\n",
    "model_CNN_LSTM.add(Conv1D(filters=32, kernel_size=3, padding=\"same\", activation=\"relu\"))\n",
    "model_CNN_LSTM.add(MaxPooling1D())\n",
    "model_CNN_LSTM.add(Dropout(0.1))\n",
    "model_CNN_LSTM.add(LSTM(units=32,  dropout=drop, return_sequences = True))\n",
    "model_CNN_LSTM.add(Flatten())\n",
    "model_CNN_LSTM.add(Dense(units = 3, activation = 'softmax'))\n",
    "\n",
    "adam = Adam(learning_rate = 0.001, beta_1 = 0.9, beta_2 = 0.999, epsilon = 1e-08, decay = 0.0)\n",
    "model_CNN_LSTM.compile(loss = 'categorical_crossentropy', optimizer = adam, metrics = ['accuracy'])\n",
    "model_CNN_LSTM. summary()"
   ]
  },
  {
   "cell_type": "code",
   "execution_count": 238,
   "metadata": {
    "tags": []
   },
   "outputs": [
    {
     "data": {
      "image/png": "[encoded data removed]",
      "text/plain": [
       "<IPython.core.display.Image object>"
      ]
     },
     "execution_count": 238,
     "metadata": {},
     "output_type": "execute_result"
    }
   ],
   "source": [
    "tf.keras.utils.plot_model(model_CNN_LSTM, to_file='model_CNN_LSTM.png', show_shapes=True, show_layer_activations=True)"
   ]
  },
  {
   "cell_type": "code",
   "execution_count": 239,
   "metadata": {
    "tags": []
   },
   "outputs": [
    {
     "name": "stdout",
     "output_type": "stream",
     "text": [
      "Epoch 1/100\n",
      "36/36 [==============================] - 70s 2s/step - loss: 1.0436 - accuracy: 0.4358 - val_loss: 0.7589 - val_accuracy: 0.8157\n",
      "Epoch 2/100\n",
      "36/36 [==============================] - 58s 2s/step - loss: 0.7926 - accuracy: 0.6327 - val_loss: 0.5640 - val_accuracy: 0.8203\n",
      "Epoch 3/100\n",
      "36/36 [==============================] - 56s 2s/step - loss: 0.6408 - accuracy: 0.7257 - val_loss: 0.5402 - val_accuracy: 0.8136\n",
      "Epoch 4/100\n",
      "36/36 [==============================] - 54s 2s/step - loss: 0.5511 - accuracy: 0.7744 - val_loss: 0.6983 - val_accuracy: 0.7818\n",
      "Epoch 5/100\n",
      "36/36 [==============================] - 55s 2s/step - loss: 0.4766 - accuracy: 0.8158 - val_loss: 0.6709 - val_accuracy: 0.7828\n",
      "Epoch 6/100\n",
      "36/36 [==============================] - 54s 2s/step - loss: 0.4056 - accuracy: 0.8484 - val_loss: 0.8498 - val_accuracy: 0.7628\n",
      "Epoch 7/100\n",
      "36/36 [==============================] - 54s 2s/step - loss: 0.3495 - accuracy: 0.8716 - val_loss: 0.7588 - val_accuracy: 0.7880\n",
      "Epoch 8/100\n",
      "36/36 [==============================] - 53s 1s/step - loss: 0.3151 - accuracy: 0.8873 - val_loss: 0.8402 - val_accuracy: 0.7738\n",
      "Epoch 9/100\n",
      "36/36 [==============================] - 53s 1s/step - loss: 0.2828 - accuracy: 0.8984 - val_loss: 0.8877 - val_accuracy: 0.7748\n",
      "Epoch 10/100\n",
      "36/36 [==============================] - 54s 2s/step - loss: 0.2462 - accuracy: 0.9150 - val_loss: 0.9114 - val_accuracy: 0.7757\n",
      "Epoch 11/100\n",
      "36/36 [==============================] - 54s 2s/step - loss: 0.2311 - accuracy: 0.9173 - val_loss: 1.0228 - val_accuracy: 0.7708\n",
      "Epoch 12/100\n",
      "36/36 [==============================] - 54s 2s/step - loss: 0.2116 - accuracy: 0.9282 - val_loss: 1.0174 - val_accuracy: 0.7665\n",
      "Epoch 13/100\n",
      "36/36 [==============================] - 55s 2s/step - loss: 0.2008 - accuracy: 0.9320 - val_loss: 0.9605 - val_accuracy: 0.7841\n",
      "Epoch 14/100\n",
      "36/36 [==============================] - 55s 2s/step - loss: 0.1821 - accuracy: 0.9343 - val_loss: 1.3463 - val_accuracy: 0.7340\n",
      "Epoch 14: early stopping\n",
      "CPU times: total: 1h 3min 14s\n",
      "Wall time: 13min 1s\n"
     ]
    },
    {
     "data": {
      "text/plain": [
       "<keras.callbacks.History at 0x1ea87365bb0>"
      ]
     },
     "execution_count": 239,
     "metadata": {},
     "output_type": "execute_result"
    }
   ],
   "source": [
    "%%time\n",
    "model_CNN_LSTM.fit(data, labels,epochs = 100, batch_size = 256, callbacks = callbacks_list, verbose = 1,shuffle = True, validation_data=[data_test, labels_test])"
   ]
  },
  {
   "cell_type": "code",
   "execution_count": 240,
   "metadata": {},
   "outputs": [
    {
     "name": "stdout",
     "output_type": "stream",
     "text": [
      "486/486 [==============================] - 16s 33ms/step - loss: 1.3463 - accuracy: 0.7340\n",
      "loss: 1.35\n",
      "accuracy: 73.40%\n"
     ]
    }
   ],
   "source": [
    "score = model_CNN_LSTM.evaluate(data_test, labels_test)\n",
    "\n",
    "print(\"%s: %.2f\" %(model_CNN_LSTM.metrics_names[0], score[0]))\n",
    "print(\"%s: %.2f%%\" %(model_CNN_LSTM.metrics_names[1], score[1]*100))"
   ]
  },
  {
   "cell_type": "code",
   "execution_count": 241,
   "metadata": {},
   "outputs": [
    {
     "name": "stdout",
     "output_type": "stream",
     "text": [
      "1/1 [==============================] - 1s 766ms/step\n",
      "Hàng chính hãng, tuy nhiên giao hàng vẫn ko đúng hẹn\n",
      "Tích cực\n",
      "Tiêu cực\n"
     ]
    }
   ],
   "source": [
    "prediction = model_CNN_LSTM.predict(data_test[:10])\n",
    "\n",
    "labels_text = ['Tiêu cực', 'Bình thường', 'Tích cực']\n",
    "num=2\n",
    "print(reviews_test[num])\n",
    "print(labels_text[np.argmax(labels_test[num])])\n",
    "print(labels_text[np.argmax(prediction[num])])"
   ]
  },
  {
   "cell_type": "code",
   "execution_count": 242,
   "metadata": {},
   "outputs": [
    {
     "name": "stdout",
     "output_type": "stream",
     "text": [
      "486/486 [==============================] - 132s 271ms/step\n"
     ]
    },
    {
     "data": {
      "text/plain": [
       "array([0.64974874, 0.24558304, 0.84680776])"
      ]
     },
     "execution_count": 242,
     "metadata": {},
     "output_type": "execute_result"
    }
   ],
   "source": [
    "preds = model_CNN_LSTM.predict(data_test)\n",
    "preds_class = np.argmax(preds, axis = 1)\n",
    "f1_score(test_class, preds_class, average=None)"
   ]
  }
 ],
 "metadata": {
  "kernelspec": {
   "display_name": "Python 3 (ipykernel)",
   "language": "python",
   "name": "python3"
  },
  "language_info": {
   "codemirror_mode": {
    "name": "ipython",
    "version": 3
   },
   "file_extension": ".py",
   "mimetype": "text/x-python",
   "name": "python",
   "nbconvert_exporter": "python",
   "pygments_lexer": "ipython3",
   "version": "3.9.12"
  }
 },
 "nbformat": 4,
 "nbformat_minor": 4
}
