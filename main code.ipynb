{
 "cells": [
  {
   "cell_type": "markdown",
   "metadata": {},
   "source": [
    "## SET UP"
   ]
  },
  {
   "cell_type": "code",
   "execution_count": 1,
   "metadata": {},
   "outputs": [],
   "source": [
    "import tensorflow as tf\n",
    "import pandas as pd\n",
    "import numpy as np\n",
    "from string import digits\n",
    "from collections import Counter\n",
    "from pyvi import ViTokenizer\n",
    "from gensim.models.word2vec import Word2Vec\n",
    "from keras.utils.np_utils import to_categorical\n",
    "from sklearn.model_selection import train_test_split\n",
    "import re\n",
    "import matplotlib.pyplot as plt\n",
    "%matplotlib inline"
   ]
  },
  {
   "cell_type": "markdown",
   "metadata": {},
   "source": [
    "## DATA AGGREGATION"
   ]
  },
  {
   "cell_type": "code",
   "execution_count": 3,
   "metadata": {},
   "outputs": [
    {
     "ename": "NameError",
     "evalue": "name 'pd' is not defined",
     "output_type": "error",
     "traceback": [
      "\u001b[1;31m---------------------------------------------------------------------------\u001b[0m",
      "\u001b[1;31mNameError\u001b[0m                                 Traceback (most recent call last)",
      "Input \u001b[1;32mIn [3]\u001b[0m, in \u001b[0;36m<cell line: 1>\u001b[1;34m()\u001b[0m\n\u001b[1;32m----> 1\u001b[0m review_dtmtb \u001b[38;5;241m=\u001b[39m \u001b[43mpd\u001b[49m\u001b[38;5;241m.\u001b[39mread_csv(\u001b[38;5;124m'\u001b[39m\u001b[38;5;124mreviewData_dtmtb.csv\u001b[39m\u001b[38;5;124m'\u001b[39m)\n\u001b[0;32m      2\u001b[0m review_dtdl \u001b[38;5;241m=\u001b[39m pd\u001b[38;5;241m.\u001b[39mread_csv(\u001b[38;5;124m'\u001b[39m\u001b[38;5;124mreviewData_dtdl.csv\u001b[39m\u001b[38;5;124m'\u001b[39m)\n\u001b[0;32m      3\u001b[0m review_tbkts_pks \u001b[38;5;241m=\u001b[39m pd\u001b[38;5;241m.\u001b[39mread_csv(\u001b[38;5;124m'\u001b[39m\u001b[38;5;124mreviewData_tbkts_pks.csv\u001b[39m\u001b[38;5;124m'\u001b[39m)\n",
      "\u001b[1;31mNameError\u001b[0m: name 'pd' is not defined"
     ]
    }
   ],
   "source": [
    "review_dtmtb = pd.read_csv('reviewData_dtmtb.csv')\n",
    "review_dtdl = pd.read_csv('reviewData_dtdl.csv')\n",
    "review_tbkts_pks = pd.read_csv('reviewData_tbkts_pks.csv')"
   ]
  },
  {
   "cell_type": "code",
   "execution_count": 4,
   "metadata": {},
   "outputs": [],
   "source": [
    "review_data = pd.concat([review_dtmtb, review_dtdl, review_tbkts_pks])"
   ]
  },
  {
   "cell_type": "code",
   "execution_count": 4,
   "metadata": {},
   "outputs": [
    {
     "data": {
      "text/html": [
       "<div>\n",
       "<style scoped>\n",
       "    .dataframe tbody tr th:only-of-type {\n",
       "        vertical-align: middle;\n",
       "    }\n",
       "\n",
       "    .dataframe tbody tr th {\n",
       "        vertical-align: top;\n",
       "    }\n",
       "\n",
       "    .dataframe thead th {\n",
       "        text-align: right;\n",
       "    }\n",
       "</style>\n",
       "<table border=\"1\" class=\"dataframe\">\n",
       "  <thead>\n",
       "    <tr style=\"text-align: right;\">\n",
       "      <th></th>\n",
       "      <th>id</th>\n",
       "      <th>title</th>\n",
       "      <th>content</th>\n",
       "      <th>thank_count</th>\n",
       "      <th>customer_id</th>\n",
       "      <th>rating</th>\n",
       "      <th>created_at</th>\n",
       "      <th>customer_name</th>\n",
       "      <th>purchased_at</th>\n",
       "    </tr>\n",
       "  </thead>\n",
       "  <tbody>\n",
       "    <tr>\n",
       "      <th>0</th>\n",
       "      <td>17206712</td>\n",
       "      <td>Cực kì hài lòng</td>\n",
       "      <td>Mình vừa nhận được hàng, máy chạy tốt, pin sạc...</td>\n",
       "      <td>0</td>\n",
       "      <td>20468199</td>\n",
       "      <td>5</td>\n",
       "      <td>1658815564</td>\n",
       "      <td>NaN</td>\n",
       "      <td>NaN</td>\n",
       "    </tr>\n",
       "    <tr>\n",
       "      <th>1</th>\n",
       "      <td>17022830</td>\n",
       "      <td>Cực kì hài lòng</td>\n",
       "      <td>giao hàng đúng thời. điện thoại giao đúng mẫu....</td>\n",
       "      <td>3</td>\n",
       "      <td>21886251</td>\n",
       "      <td>5</td>\n",
       "      <td>1657513127</td>\n",
       "      <td>NaN</td>\n",
       "      <td>NaN</td>\n",
       "    </tr>\n",
       "    <tr>\n",
       "      <th>2</th>\n",
       "      <td>16990209</td>\n",
       "      <td>Cực kì hài lòng</td>\n",
       "      <td>giao hàng nhanh. đóng gói rất OK. mỗi tội tiếc...</td>\n",
       "      <td>5</td>\n",
       "      <td>14674088</td>\n",
       "      <td>5</td>\n",
       "      <td>1657279289</td>\n",
       "      <td>NaN</td>\n",
       "      <td>NaN</td>\n",
       "    </tr>\n",
       "    <tr>\n",
       "      <th>3</th>\n",
       "      <td>16618308</td>\n",
       "      <td>Cực kì hài lòng</td>\n",
       "      <td>Dùng siêu thích máy phiên bản 2022 và cùng năm...</td>\n",
       "      <td>1</td>\n",
       "      <td>14923716</td>\n",
       "      <td>5</td>\n",
       "      <td>1654645068</td>\n",
       "      <td>NaN</td>\n",
       "      <td>NaN</td>\n",
       "    </tr>\n",
       "    <tr>\n",
       "      <th>4</th>\n",
       "      <td>17056290</td>\n",
       "      <td>Cực kì hài lòng</td>\n",
       "      <td>cho tiki trading shop 5 sao!shop uy tín! giao ...</td>\n",
       "      <td>0</td>\n",
       "      <td>7966673</td>\n",
       "      <td>5</td>\n",
       "      <td>1657721825</td>\n",
       "      <td>NaN</td>\n",
       "      <td>NaN</td>\n",
       "    </tr>\n",
       "  </tbody>\n",
       "</table>\n",
       "</div>"
      ],
      "text/plain": [
       "         id            title  \\\n",
       "0  17206712  Cực kì hài lòng   \n",
       "1  17022830  Cực kì hài lòng   \n",
       "2  16990209  Cực kì hài lòng   \n",
       "3  16618308  Cực kì hài lòng   \n",
       "4  17056290  Cực kì hài lòng   \n",
       "\n",
       "                                             content  thank_count  \\\n",
       "0  Mình vừa nhận được hàng, máy chạy tốt, pin sạc...            0   \n",
       "1  giao hàng đúng thời. điện thoại giao đúng mẫu....            3   \n",
       "2  giao hàng nhanh. đóng gói rất OK. mỗi tội tiếc...            5   \n",
       "3  Dùng siêu thích máy phiên bản 2022 và cùng năm...            1   \n",
       "4  cho tiki trading shop 5 sao!shop uy tín! giao ...            0   \n",
       "\n",
       "   customer_id  rating  created_at  customer_name  purchased_at  \n",
       "0     20468199       5  1658815564            NaN           NaN  \n",
       "1     21886251       5  1657513127            NaN           NaN  \n",
       "2     14674088       5  1657279289            NaN           NaN  \n",
       "3     14923716       5  1654645068            NaN           NaN  \n",
       "4      7966673       5  1657721825            NaN           NaN  "
      ]
     },
     "execution_count": 4,
     "metadata": {},
     "output_type": "execute_result"
    }
   ],
   "source": [
    "review_data.head()"
   ]
  },
  {
   "cell_type": "code",
   "execution_count": 5,
   "metadata": {},
   "outputs": [
    {
     "data": {
      "text/plain": [
       "rating\n",
       "5    92711\n",
       "4    15936\n",
       "1     7053\n",
       "3     4882\n",
       "2     2319\n",
       "dtype: int64"
      ]
     },
     "execution_count": 5,
     "metadata": {},
     "output_type": "execute_result"
    }
   ],
   "source": [
    "review_data.value_counts('rating')"
   ]
  },
  {
   "cell_type": "code",
   "execution_count": 6,
   "metadata": {},
   "outputs": [
    {
     "data": {
      "text/plain": [
       "45167"
      ]
     },
     "execution_count": 6,
     "metadata": {},
     "output_type": "execute_result"
    }
   ],
   "source": [
    "review_data['content'].isna().sum()"
   ]
  },
  {
   "cell_type": "code",
   "execution_count": 7,
   "metadata": {},
   "outputs": [],
   "source": [
    "review_data.dropna(subset=['content'], inplace=True)"
   ]
  },
  {
   "cell_type": "code",
   "execution_count": 8,
   "metadata": {},
   "outputs": [
    {
     "data": {
      "text/plain": [
       "0"
      ]
     },
     "execution_count": 8,
     "metadata": {},
     "output_type": "execute_result"
    }
   ],
   "source": [
    "review_data['content'].isna().sum()"
   ]
  },
  {
   "cell_type": "code",
   "execution_count": 9,
   "metadata": {},
   "outputs": [
    {
     "data": {
      "text/plain": [
       "title\n",
       "Cực kì hài lòng                                      16757\n",
       "Hài lòng                                              2057\n",
       "Rất không hài lòng                                     570\n",
       "Bình thường                                            400\n",
       "Không hài lòng                                         193\n",
       "                                                     ...  \n",
       "The perfect device to read on the go                     1\n",
       "Thích                                                   1\n",
       "Thông tin hàng không đúng                                1\n",
       "Thất vọng về service giao 2h và hình thức đổi/hủy        1\n",
       "10/10 về dịch vụ và sản phẩm                             1\n",
       "Length: 480, dtype: int64"
      ]
     },
     "execution_count": 9,
     "metadata": {},
     "output_type": "execute_result"
    }
   ],
   "source": [
    "review_dtmtb.value_counts('title')"
   ]
  },
  {
   "cell_type": "code",
   "execution_count": 10,
   "metadata": {},
   "outputs": [
    {
     "data": {
      "text/plain": [
       "rating\n",
       "5    54361\n",
       "4     9663\n",
       "1     6990\n",
       "3     4427\n",
       "2     2293\n",
       "dtype: int64"
      ]
     },
     "execution_count": 10,
     "metadata": {},
     "output_type": "execute_result"
    }
   ],
   "source": [
    "review_data.value_counts('rating')"
   ]
  },
  {
   "cell_type": "code",
   "execution_count": 11,
   "metadata": {},
   "outputs": [],
   "source": [
    "review_data['rating_class'] = review_data['rating'].apply(lambda x: 1 if x>3 else 0 if x==3 else -1)"
   ]
  },
  {
   "cell_type": "code",
   "execution_count": 12,
   "metadata": {},
   "outputs": [
    {
     "data": {
      "text/plain": [
       " 1    64024\n",
       "-1     9283\n",
       " 0     4427\n",
       "Name: rating_class, dtype: int64"
      ]
     },
     "execution_count": 12,
     "metadata": {},
     "output_type": "execute_result"
    }
   ],
   "source": [
    "review_data['rating_class'].value_counts()"
   ]
  },
  {
   "cell_type": "code",
   "execution_count": 13,
   "metadata": {},
   "outputs": [
    {
     "data": {
      "text/html": [
       "<div>\n",
       "<style scoped>\n",
       "    .dataframe tbody tr th:only-of-type {\n",
       "        vertical-align: middle;\n",
       "    }\n",
       "\n",
       "    .dataframe tbody tr th {\n",
       "        vertical-align: top;\n",
       "    }\n",
       "\n",
       "    .dataframe thead th {\n",
       "        text-align: right;\n",
       "    }\n",
       "</style>\n",
       "<table border=\"1\" class=\"dataframe\">\n",
       "  <thead>\n",
       "    <tr style=\"text-align: right;\">\n",
       "      <th></th>\n",
       "      <th>content</th>\n",
       "      <th>class</th>\n",
       "    </tr>\n",
       "  </thead>\n",
       "  <tbody>\n",
       "    <tr>\n",
       "      <th>0</th>\n",
       "      <td>Mình vừa nhận được hàng, máy chạy tốt, pin sạc...</td>\n",
       "      <td>1</td>\n",
       "    </tr>\n",
       "    <tr>\n",
       "      <th>1</th>\n",
       "      <td>giao hàng đúng thời. điện thoại giao đúng mẫu....</td>\n",
       "      <td>1</td>\n",
       "    </tr>\n",
       "    <tr>\n",
       "      <th>2</th>\n",
       "      <td>giao hàng nhanh. đóng gói rất OK. mỗi tội tiếc...</td>\n",
       "      <td>1</td>\n",
       "    </tr>\n",
       "    <tr>\n",
       "      <th>3</th>\n",
       "      <td>Dùng siêu thích máy phiên bản 2022 và cùng năm...</td>\n",
       "      <td>1</td>\n",
       "    </tr>\n",
       "    <tr>\n",
       "      <th>4</th>\n",
       "      <td>cho tiki trading shop 5 sao!shop uy tín! giao ...</td>\n",
       "      <td>1</td>\n",
       "    </tr>\n",
       "    <tr>\n",
       "      <th>...</th>\n",
       "      <td>...</td>\n",
       "      <td>...</td>\n",
       "    </tr>\n",
       "    <tr>\n",
       "      <th>41460</th>\n",
       "      <td>cực kỳ hài lòng</td>\n",
       "      <td>1</td>\n",
       "    </tr>\n",
       "    <tr>\n",
       "      <th>41461</th>\n",
       "      <td>Sạc pin chỉ full 88%, nhờ shop tư vấn</td>\n",
       "      <td>-1</td>\n",
       "    </tr>\n",
       "    <tr>\n",
       "      <th>41462</th>\n",
       "      <td>nhìn rất ok.</td>\n",
       "      <td>1</td>\n",
       "    </tr>\n",
       "    <tr>\n",
       "      <th>41463</th>\n",
       "      <td>Giao hang nhah hang dung ok</td>\n",
       "      <td>1</td>\n",
       "    </tr>\n",
       "    <tr>\n",
       "      <th>41464</th>\n",
       "      <td>Giao hàng hơi chậm, quá thời gian dự kiến</td>\n",
       "      <td>1</td>\n",
       "    </tr>\n",
       "  </tbody>\n",
       "</table>\n",
       "<p>77734 rows × 2 columns</p>\n",
       "</div>"
      ],
      "text/plain": [
       "                                                 content  class\n",
       "0      Mình vừa nhận được hàng, máy chạy tốt, pin sạc...      1\n",
       "1      giao hàng đúng thời. điện thoại giao đúng mẫu....      1\n",
       "2      giao hàng nhanh. đóng gói rất OK. mỗi tội tiếc...      1\n",
       "3      Dùng siêu thích máy phiên bản 2022 và cùng năm...      1\n",
       "4      cho tiki trading shop 5 sao!shop uy tín! giao ...      1\n",
       "...                                                  ...    ...\n",
       "41460                                    cực kỳ hài lòng      1\n",
       "41461              Sạc pin chỉ full 88%, nhờ shop tư vấn     -1\n",
       "41462                                       nhìn rất ok.      1\n",
       "41463                        Giao hang nhah hang dung ok      1\n",
       "41464          Giao hàng hơi chậm, quá thời gian dự kiến      1\n",
       "\n",
       "[77734 rows x 2 columns]"
      ]
     },
     "execution_count": 13,
     "metadata": {},
     "output_type": "execute_result"
    }
   ],
   "source": [
    "rating_data = review_data[['content','rating_class']]\n",
    "rating_data = rating_data.rename(columns={'rating_class':\"class\"})\n",
    "rating_data"
   ]
  },
  {
   "cell_type": "code",
   "execution_count": 14,
   "metadata": {},
   "outputs": [],
   "source": [
    "data_train, data_test  = train_test_split(rating_data, test_size=0.2)"
   ]
  },
  {
   "cell_type": "code",
   "execution_count": 15,
   "metadata": {},
   "outputs": [
    {
     "data": {
      "text/plain": [
       "class\n",
       " 1    51175\n",
       "-1     7440\n",
       " 0     3572\n",
       "dtype: int64"
      ]
     },
     "execution_count": 15,
     "metadata": {},
     "output_type": "execute_result"
    }
   ],
   "source": [
    "data_train.value_counts(\"class\")"
   ]
  },
  {
   "cell_type": "code",
   "execution_count": 16,
   "metadata": {},
   "outputs": [
    {
     "data": {
      "text/plain": [
       "class\n",
       " 1    12849\n",
       "-1     1843\n",
       " 0      855\n",
       "dtype: int64"
      ]
     },
     "execution_count": 16,
     "metadata": {},
     "output_type": "execute_result"
    }
   ],
   "source": [
    "data_test.value_counts(\"class\")"
   ]
  },
  {
   "cell_type": "code",
   "execution_count": 19,
   "metadata": {},
   "outputs": [],
   "source": [
    "data_train.to_csv('data_train.csv', index=False)\n",
    "data_test.to_csv('data_test.csv', index=False)"
   ]
  },
  {
   "cell_type": "markdown",
   "metadata": {},
   "source": [
    "## DATA PREPARATION"
   ]
  },
  {
   "cell_type": "code",
   "execution_count": 2,
   "metadata": {},
   "outputs": [],
   "source": [
    "data_train = pd.read_csv('data_train.csv');\n",
    "data_test = pd.read_csv('data_test.csv');"
   ]
  },
  {
   "cell_type": "code",
   "execution_count": 5,
   "metadata": {},
   "outputs": [
    {
     "data": {
      "text/plain": [
       "class\n",
       " 1    51175\n",
       "-1     7440\n",
       " 0     3572\n",
       "dtype: int64"
      ]
     },
     "execution_count": 5,
     "metadata": {},
     "output_type": "execute_result"
    }
   ],
   "source": [
    "data_train.value_counts('class')"
   ]
  },
  {
   "cell_type": "code",
   "execution_count": 12,
   "metadata": {},
   "outputs": [],
   "source": [
    "from sklearn.utils import resample"
   ]
  },
  {
   "cell_type": "code",
   "execution_count": 15,
   "metadata": {},
   "outputs": [],
   "source": [
    "\n",
    "data_train_1 = data_train[data_train['class'] == 1]\n",
    "data_train_0 = data_train[data_train['class'] == 0]\n",
    "data_train_n1 = data_train[data_train['class'] == -1]\n",
    "\n",
    "data_train_1 = resample(data_train_1, replace=False, n_samples=3000, random_state=1)\n",
    "data_train_0 = resample(data_train_0, replace=False, n_samples=3000, random_state=2)\n",
    "data_train_n1 = resample(data_train_n1, replace=False, n_samples=3000, random_state=3)\n",
    "\n",
    "data_train = pd.concat([data_train_1, data_train_0, data_train_n1])"
   ]
  },
  {
   "cell_type": "code",
   "execution_count": 16,
   "metadata": {},
   "outputs": [
    {
     "data": {
      "text/plain": [
       "class\n",
       "-1    3000\n",
       " 0    3000\n",
       " 1    3000\n",
       "dtype: int64"
      ]
     },
     "execution_count": 16,
     "metadata": {},
     "output_type": "execute_result"
    }
   ],
   "source": [
    "data_train.value_counts('class')"
   ]
  },
  {
   "cell_type": "code",
   "execution_count": 17,
   "metadata": {},
   "outputs": [],
   "source": [
    "labels = data_train.iloc[:,1].values\n",
    "reviews = data_train.iloc[:,0].values"
   ]
  },
  {
   "cell_type": "code",
   "execution_count": 18,
   "metadata": {},
   "outputs": [],
   "source": [
    "encoded_labels = []\n",
    "for label in labels:\n",
    "    if label == -1:\n",
    "        encoded_labels.append([1,0,0])\n",
    "    elif label ==0:\n",
    "        encoded_labels.append([0,1,0])\n",
    "    else:\n",
    "        encoded_labels.append([0,0,1])\n",
    "\n",
    "encoded_labels = np.array(encoded_labels)"
   ]
  },
  {
   "cell_type": "code",
   "execution_count": 19,
   "metadata": {},
   "outputs": [
    {
     "data": {
      "text/plain": [
       "array([[0, 0, 1],\n",
       "       [0, 0, 1],\n",
       "       [0, 0, 1],\n",
       "       ...,\n",
       "       [1, 0, 0],\n",
       "       [1, 0, 0],\n",
       "       [1, 0, 0]])"
      ]
     },
     "execution_count": 19,
     "metadata": {},
     "output_type": "execute_result"
    }
   ],
   "source": [
    "encoded_labels"
   ]
  },
  {
   "cell_type": "code",
   "execution_count": 20,
   "metadata": {},
   "outputs": [
    {
     "name": "stdout",
     "output_type": "stream",
     "text": [
      "Khá hài lòng\n",
      "Khá hài lòng\n"
     ]
    }
   ],
   "source": [
    "reviews_processed = []\n",
    "unlabeld_processed = []\n",
    "for review in reviews:\n",
    "    review_cool_one = ''.join([char for char in review if char not in digits])\n",
    "    reviews_processed.append(review_cool_one)\n",
    "    \n",
    "print(reviews[0])\n",
    "print(reviews_processed[0])"
   ]
  },
  {
   "cell_type": "code",
   "execution_count": 21,
   "metadata": {},
   "outputs": [
    {
     "name": "stdout",
     "output_type": "stream",
     "text": [
      "['khá', 'hài_lòng']\n"
     ]
    }
   ],
   "source": [
    "word_reviews = []\n",
    "all_words = []\n",
    "for review in reviews_processed:\n",
    "    review = ViTokenizer.tokenize(review.lower())\n",
    "    word_reviews.append(review.split())\n",
    "\n",
    "print(word_reviews[0])"
   ]
  },
  {
   "cell_type": "code",
   "execution_count": 22,
   "metadata": {},
   "outputs": [],
   "source": [
    "EMBEDDING_DIM = 400 #how big is each word vector\n",
    "MAX_VOCAB_SIZE = 10000 #how many unique words to use\n",
    "MAX_SEQUENCE_LENGTH = 300 #max number of words in a comment to use"
   ]
  },
  {
   "cell_type": "code",
   "execution_count": 23,
   "metadata": {},
   "outputs": [],
   "source": [
    "#!pip3 install keras --user"
   ]
  },
  {
   "cell_type": "code",
   "execution_count": 24,
   "metadata": {},
   "outputs": [],
   "source": [
    "from keras.preprocessing.text import Tokenizer\n",
    "from keras_preprocessing.sequence import pad_sequences\n",
    "from tensorflow.keras.utils import to_categorical"
   ]
  },
  {
   "cell_type": "code",
   "execution_count": 25,
   "metadata": {},
   "outputs": [],
   "source": [
    "tokenizer = Tokenizer(num_words = MAX_VOCAB_SIZE, lower = True, char_level = False)\n",
    "tokenizer.fit_on_texts(word_reviews)\n",
    "sequences_train = tokenizer.texts_to_sequences(word_reviews)\n",
    "word_index = tokenizer.word_index"
   ]
  },
  {
   "cell_type": "code",
   "execution_count": 27,
   "metadata": {},
   "outputs": [],
   "source": [
    "data = pad_sequences(sequences_train, maxlen = MAX_SEQUENCE_LENGTH)\n",
    "labels = encoded_labels"
   ]
  },
  {
   "cell_type": "code",
   "execution_count": 28,
   "metadata": {},
   "outputs": [],
   "source": [
    "sub_data = data[:2000]\n",
    "sub_labels = labels[:2000]"
   ]
  },
  {
   "cell_type": "code",
   "execution_count": 29,
   "metadata": {},
   "outputs": [
    {
     "data": {
      "text/plain": [
       "(2000, 300)"
      ]
     },
     "execution_count": 29,
     "metadata": {},
     "output_type": "execute_result"
    }
   ],
   "source": [
    "sub_data.shape"
   ]
  },
  {
   "cell_type": "code",
   "execution_count": 30,
   "metadata": {},
   "outputs": [
    {
     "name": "stdout",
     "output_type": "stream",
     "text": [
      "Shape of X train and X validation tensor (9000, 300)\n",
      "Shape of label train and validation tensor (9000, 3)\n"
     ]
    }
   ],
   "source": [
    "print('Shape of X train and X validation tensor', data.shape)\n",
    "print('Shape of label train and validation tensor', labels.shape)"
   ]
  },
  {
   "cell_type": "code",
   "execution_count": 31,
   "metadata": {},
   "outputs": [
    {
     "data": {
      "text/plain": [
       "array([[0., 0., 0., ..., 0., 0., 0.],\n",
       "       [0., 0., 0., ..., 0., 0., 0.],\n",
       "       [0., 0., 0., ..., 0., 0., 0.],\n",
       "       ...,\n",
       "       [0., 0., 0., ..., 0., 0., 0.],\n",
       "       [0., 0., 0., ..., 0., 0., 0.],\n",
       "       [0., 0., 0., ..., 0., 0., 0.]])"
      ]
     },
     "execution_count": 31,
     "metadata": {},
     "output_type": "execute_result"
    }
   ],
   "source": [
    "vocabulary_size = min(len(word_index) +1, MAX_VOCAB_SIZE)\n",
    "embedding_matrix = np.zeros((vocabulary_size, EMBEDDING_DIM))\n",
    "embedding_matrix"
   ]
  },
  {
   "cell_type": "code",
   "execution_count": 32,
   "metadata": {
    "tags": []
   },
   "outputs": [],
   "source": [
    "# import gensim\n",
    "# from gensim.models import Word2Vec\n",
    "# from gensim.utils import simple_preprocess\n",
    "# from gensim.models.keyedvectors import KeyedVectors\n",
    "\n",
    "# word_vectors = KeyedVectors.load_word2vec_format('vi-model-CBOW.bin', binary = True)\n",
    "# vocabulary_size = min(len(word_index) +1, MAX_VOCAB_SIZE)\n",
    "# embedding_matrix = np.zeros((vocabulary_size, EMBEDDING_DIM))\n",
    "# print(\"Vocab size with <UNK>:\", vocabulary_size)\n",
    "\n",
    "# for word, i in word_index.items():\n",
    "#     if i>=MAX_VOCAB_SIZE:\n",
    "#         continue\n",
    "#     try:\n",
    "#         embedding_vector = word_vectors[word]\n",
    "#         embedding_matrix[i] = embedding_vector\n",
    "#     except KeyError:\n",
    "#         embedding_matrix[i] = np.random.normal(0, np.sqrt(0.25), EMBEDDING_DIM)\n",
    "        \n",
    "# del(word_vectors)\n",
    "\n",
    "# from keras.layers import Embedding\n",
    "# embedding_layer = Embedding(vocabulary_size, EMBEDDING_DIM, weights = [embedding_matrix],\n",
    "#                            trainable = True)"
   ]
  },
  {
   "cell_type": "markdown",
   "metadata": {},
   "source": [
    "## Test data preparation"
   ]
  },
  {
   "cell_type": "code",
   "execution_count": 33,
   "metadata": {},
   "outputs": [],
   "source": [
    "labels_test = data_test.iloc[:, 1].values\n",
    "reviews_test = data_test.iloc[:, 0].values"
   ]
  },
  {
   "cell_type": "code",
   "execution_count": 34,
   "metadata": {},
   "outputs": [],
   "source": [
    "encoded_labels_test = []\n",
    "for label_test in labels_test:\n",
    "    if label_test == -1:\n",
    "        encoded_labels_test.append([1,0,0])\n",
    "    elif label_test ==0:\n",
    "        encoded_labels_test.append([0,1,0])\n",
    "    else:\n",
    "        encoded_labels_test.append([0,0,1])\n",
    "        \n",
    "encoded_labels_test = np.array(encoded_labels_test)"
   ]
  },
  {
   "cell_type": "code",
   "execution_count": 35,
   "metadata": {},
   "outputs": [],
   "source": [
    "reviews_processed_test = []\n",
    "unlabeled_processed_test = []\n",
    "for review_test in reviews_test:\n",
    "    review_cool_one = ''.join([char for char in review_test if char not in digits])\n",
    "    reviews_processed_test.append(review_cool_one)"
   ]
  },
  {
   "cell_type": "code",
   "execution_count": 36,
   "metadata": {},
   "outputs": [],
   "source": [
    "word_reviews_test = []\n",
    "all_words = []\n",
    "for review_test in reviews_processed_test:\n",
    "    review_test = ViTokenizer.tokenize(review_test.lower())\n",
    "    word_reviews_test.append(review_test.split())"
   ]
  },
  {
   "cell_type": "code",
   "execution_count": 37,
   "metadata": {},
   "outputs": [],
   "source": [
    "sequences_test = tokenizer.texts_to_sequences(word_reviews_test)\n",
    "data_test = pad_sequences(sequences_test, maxlen = MAX_SEQUENCE_LENGTH)\n",
    "labels_test = encoded_labels_test"
   ]
  },
  {
   "cell_type": "code",
   "execution_count": 38,
   "metadata": {},
   "outputs": [
    {
     "name": "stdout",
     "output_type": "stream",
     "text": [
      "Shape of X train and X validation tencor:  (15547, 300)\n",
      "Shape of label train and X validation tencor:  (15547, 3)\n"
     ]
    }
   ],
   "source": [
    "print('Shape of X train and X validation tencor: ', data_test.shape)\n",
    "print('Shape of label train and X validation tencor: ', labels_test.shape)"
   ]
  },
  {
   "cell_type": "code",
   "execution_count": 39,
   "metadata": {},
   "outputs": [],
   "source": [
    "sub_data_test = data_test[:500]\n",
    "sub_labels_test = labels_test[:500]"
   ]
  },
  {
   "cell_type": "markdown",
   "metadata": {},
   "source": [
    "## LSTM"
   ]
  },
  {
   "cell_type": "code",
   "execution_count": 41,
   "metadata": {},
   "outputs": [],
   "source": [
    "from tensorflow.keras import Sequential\n",
    "from tensorflow.keras.layers import Embedding, Dense, Dropout, LSTM, Flatten, Bidirectional, Layer, Reshape, Input, Permute, Attention\n",
    "from tensorflow.keras.callbacks import EarlyStopping\n",
    "from tensorflow.keras.optimizers import Adam\n",
    "from keras import backend as K"
   ]
  },
  {
   "cell_type": "code",
   "execution_count": 42,
   "metadata": {},
   "outputs": [],
   "source": [
    "model_LSTM = Sequential()\n",
    "model_LSTM.add(Embedding(MAX_VOCAB_SIZE, EMBEDDING_DIM, input_length=MAX_SEQUENCE_LENGTH))\n",
    "model_LSTM.add(LSTM(128, dropout = 0.1, return_sequences = False))\n",
    "model_LSTM.add(Dense(10, activation='relu'))\n",
    "model_LSTM.add(Dense(3, activation='sigmoid'))\n",
    "adam = Adam(learning_rate = 0.001, beta_1 = 0.9, beta_2 = 0.999, epsilon = 1e-08, decay = 0.01)\n",
    "model_LSTM.compile(loss='categorical_crossentropy', optimizer=adam, metrics=['acc'])"
   ]
  },
  {
   "cell_type": "code",
   "execution_count": 43,
   "metadata": {},
   "outputs": [
    {
     "name": "stdout",
     "output_type": "stream",
     "text": [
      "Model: \"sequential\"\n",
      "_________________________________________________________________\n",
      " Layer (type)                Output Shape              Param #   \n",
      "=================================================================\n",
      " embedding (Embedding)       (None, 300, 400)          4000000   \n",
      "                                                                 \n",
      " lstm (LSTM)                 (None, 128)               270848    \n",
      "                                                                 \n",
      " dense (Dense)               (None, 10)                1290      \n",
      "                                                                 \n",
      " dense_1 (Dense)             (None, 3)                 33        \n",
      "                                                                 \n",
      "=================================================================\n",
      "Total params: 4,272,171\n",
      "Trainable params: 4,272,171\n",
      "Non-trainable params: 0\n",
      "_________________________________________________________________\n"
     ]
    }
   ],
   "source": [
    "model_LSTM.summary()"
   ]
  },
  {
   "cell_type": "code",
   "execution_count": 44,
   "metadata": {},
   "outputs": [],
   "source": [
    "early_stopping = EarlyStopping(monitor = 'loss', min_delta = 0.1, patience = 4, verbose = 1)\n",
    "callbacks_list = [early_stopping]"
   ]
  },
  {
   "cell_type": "code",
   "execution_count": 45,
   "metadata": {
    "tags": []
   },
   "outputs": [
    {
     "name": "stdout",
     "output_type": "stream",
     "text": [
      "Epoch 1/100\n",
      "36/36 [==============================] - 109s 3s/step - loss: 0.9396 - acc: 0.5286 - val_loss: 0.7625 - val_acc: 0.7324\n",
      "Epoch 2/100\n",
      "36/36 [==============================] - 116s 3s/step - loss: 0.6879 - acc: 0.6892 - val_loss: 0.6017 - val_acc: 0.7793\n",
      "Epoch 3/100\n",
      "36/36 [==============================] - 120s 3s/step - loss: 0.5566 - acc: 0.7719 - val_loss: 0.5204 - val_acc: 0.8094\n",
      "Epoch 4/100\n",
      "36/36 [==============================] - 121s 3s/step - loss: 0.4804 - acc: 0.8131 - val_loss: 0.5182 - val_acc: 0.8141\n",
      "Epoch 5/100\n",
      "36/36 [==============================] - 120s 3s/step - loss: 0.4119 - acc: 0.8458 - val_loss: 0.6505 - val_acc: 0.7867\n",
      "Epoch 6/100\n",
      "36/36 [==============================] - 121s 3s/step - loss: 0.3761 - acc: 0.8621 - val_loss: 0.5709 - val_acc: 0.8095\n",
      "Epoch 7/100\n",
      "36/36 [==============================] - 121s 3s/step - loss: 0.3374 - acc: 0.8822 - val_loss: 0.7174 - val_acc: 0.7683\n",
      "Epoch 8/100\n",
      "36/36 [==============================] - 121s 3s/step - loss: 0.3106 - acc: 0.8903 - val_loss: 0.7682 - val_acc: 0.7591\n",
      "Epoch 9/100\n",
      "36/36 [==============================] - 121s 3s/step - loss: 0.2774 - acc: 0.9063 - val_loss: 0.7230 - val_acc: 0.7805\n",
      "Epoch 10/100\n",
      "36/36 [==============================] - 124s 3s/step - loss: 0.2563 - acc: 0.9123 - val_loss: 0.8279 - val_acc: 0.7594\n",
      "Epoch 11/100\n",
      "36/36 [==============================] - 122s 3s/step - loss: 0.2500 - acc: 0.9131 - val_loss: 0.7451 - val_acc: 0.7820\n",
      "Epoch 12/100\n",
      "36/36 [==============================] - 121s 3s/step - loss: 0.2278 - acc: 0.9240 - val_loss: 0.8333 - val_acc: 0.7731\n",
      "Epoch 12: early stopping\n"
     ]
    }
   ],
   "source": [
    "history = model_LSTM.fit(data, labels, epochs=100, batch_size=256, callbacks=callbacks_list, verbose = 1,shuffle = True, validation_data=[data_test, labels_test])"
   ]
  },
  {
   "cell_type": "code",
   "execution_count": 115,
   "metadata": {},
   "outputs": [
    {
     "name": "stdout",
     "output_type": "stream",
     "text": [
      "486/486 [==============================] - 68s 140ms/step - loss: 0.8333 - acc: 0.7731\n",
      "loss: 0.83\n",
      "accuracy: 77.31%\n"
     ]
    }
   ],
   "source": [
    "score = model_LSTM.evaluate(data_test, labels_test)\n",
    "\n",
    "print(\"%s: %.2f\" %(model_CNN_3conv.metrics_names[0], score[0]))\n",
    "print(\"%s: %.2f%%\" %(model_CNN_3conv.metrics_names[1], score[1]*100))"
   ]
  },
  {
   "cell_type": "code",
   "execution_count": 46,
   "metadata": {},
   "outputs": [
    {
     "data": {
      "image/png": "[encoded data removed]",
      "text/plain": [
       "<Figure size 720x288 with 2 Axes>"
      ]
     },
     "metadata": {
      "needs_background": "light"
     },
     "output_type": "display_data"
    }
   ],
   "source": [
    "def plot_loss_accuracy(history):\n",
    "    fig, axs = plt.subplots(1,2, figsize = (10, 4))\n",
    "    hist = history.history\n",
    "    for ax, metric in zip(axs, [\"loss\", \"acc\"]):\n",
    "        ax.plot(hist[metric])\n",
    "        ax.legend([metric])\n",
    "        ax.set_title(metric)\n",
    "    plt.style.use('default')\n",
    "    \n",
    "plot_loss_accuracy(history)"
   ]
  },
  {
   "cell_type": "code",
   "execution_count": 47,
   "metadata": {},
   "outputs": [
    {
     "name": "stdout",
     "output_type": "stream",
     "text": [
      "1/1 [==============================] - 0s 477ms/step\n"
     ]
    }
   ],
   "source": [
    "prediction = model_LSTM.predict(data_test[:10])\n",
    "\n",
    "labels_text = ['Tiêu cực', 'Bình thường', 'Tích cực']"
   ]
  },
  {
   "cell_type": "code",
   "execution_count": 48,
   "metadata": {},
   "outputs": [
    {
     "name": "stdout",
     "output_type": "stream",
     "text": [
      "Hàng chính hãng, tuy nhiên giao hàng vẫn ko đúng hẹn\n",
      "Tích cực\n",
      "Tích cực\n"
     ]
    }
   ],
   "source": [
    "num=2\n",
    "print(reviews_test[num])\n",
    "print(labels_text[np.argmax(labels_test[num])])\n",
    "print(labels_text[np.argmax(prediction[num])])"
   ]
  },
  {
   "cell_type": "markdown",
   "metadata": {},
   "source": [
    "## Bi-LSTM"
   ]
  },
  {
   "cell_type": "code",
   "execution_count": 125,
   "metadata": {},
   "outputs": [],
   "source": [
    "model_Bi_LSTM = Sequential()\n",
    "model_Bi_LSTM.add(Embedding(MAX_VOCAB_SIZE, EMBEDDING_DIM, input_length=MAX_SEQUENCE_LENGTH))\n",
    "model_Bi_LSTM.add(Bidirectional(LSTM(128, dropout = 0.1, return_sequences = False)))\n",
    "model_Bi_LSTM.add(Dense(64, activation='relu'))\n",
    "model_Bi_LSTM.add(Dense(3, activation='sigmoid'))\n",
    "adam = Adam(learning_rate = 0.001, beta_1 = 0.9, beta_2 = 0.999, epsilon = 1e-08, decay = 0.01)\n",
    "model_Bi_LSTM.compile(loss='categorical_crossentropy', optimizer=adam, metrics=['acc'])"
   ]
  },
  {
   "cell_type": "code",
   "execution_count": 126,
   "metadata": {},
   "outputs": [
    {
     "name": "stdout",
     "output_type": "stream",
     "text": [
      "Model: \"sequential_2\"\n",
      "_________________________________________________________________\n",
      " Layer (type)                Output Shape              Param #   \n",
      "=================================================================\n",
      " embedding_65 (Embedding)    (None, 300, 400)          4000000   \n",
      "                                                                 \n",
      " bidirectional_61 (Bidirecti  (None, 256)              541696    \n",
      " onal)                                                           \n",
      "                                                                 \n",
      " dense_39 (Dense)            (None, 64)                16448     \n",
      "                                                                 \n",
      " dense_40 (Dense)            (None, 3)                 195       \n",
      "                                                                 \n",
      "=================================================================\n",
      "Total params: 4,558,339\n",
      "Trainable params: 4,558,339\n",
      "Non-trainable params: 0\n",
      "_________________________________________________________________\n"
     ]
    }
   ],
   "source": [
    "model_Bi_LSTM.summary()"
   ]
  },
  {
   "cell_type": "code",
   "execution_count": 127,
   "metadata": {
    "tags": []
   },
   "outputs": [
    {
     "name": "stdout",
     "output_type": "stream",
     "text": [
      "Epoch 1/100\n",
      "36/36 [==============================] - 392s 11s/step - loss: 0.9299 - acc: 0.5154 - val_loss: 0.4886 - val_acc: 0.8156\n",
      "Epoch 2/100\n",
      "36/36 [==============================] - 414s 12s/step - loss: 0.6661 - acc: 0.6929 - val_loss: 0.6113 - val_acc: 0.7483\n",
      "Epoch 3/100\n",
      "36/36 [==============================] - 399s 11s/step - loss: 0.5416 - acc: 0.7763 - val_loss: 0.5267 - val_acc: 0.7857\n",
      "Epoch 4/100\n",
      "36/36 [==============================] - 431s 12s/step - loss: 0.4601 - acc: 0.8184 - val_loss: 0.5371 - val_acc: 0.7966\n",
      "Epoch 5/100\n",
      "36/36 [==============================] - 423s 12s/step - loss: 0.4019 - acc: 0.8506 - val_loss: 0.7195 - val_acc: 0.7449\n",
      "Epoch 6/100\n",
      "36/36 [==============================] - 376s 11s/step - loss: 0.3605 - acc: 0.8701 - val_loss: 0.6033 - val_acc: 0.8022\n",
      "Epoch 7/100\n",
      "36/36 [==============================] - 439s 12s/step - loss: 0.3202 - acc: 0.8867 - val_loss: 0.7536 - val_acc: 0.7428\n",
      "Epoch 8/100\n",
      "36/36 [==============================] - 440s 12s/step - loss: 0.2905 - acc: 0.8999 - val_loss: 0.7675 - val_acc: 0.7491\n",
      "Epoch 9/100\n",
      "36/36 [==============================] - 455s 13s/step - loss: 0.2664 - acc: 0.9078 - val_loss: 0.6857 - val_acc: 0.7866\n",
      "Epoch 10/100\n",
      "36/36 [==============================] - 431s 12s/step - loss: 0.2465 - acc: 0.9164 - val_loss: 0.7953 - val_acc: 0.7612\n",
      "Epoch 11/100\n",
      "36/36 [==============================] - 417s 12s/step - loss: 0.2319 - acc: 0.9216 - val_loss: 0.7994 - val_acc: 0.7720\n",
      "Epoch 12/100\n",
      "36/36 [==============================] - 392s 11s/step - loss: 0.2202 - acc: 0.9240 - val_loss: 0.8266 - val_acc: 0.7572\n",
      "Epoch 12: early stopping\n"
     ]
    }
   ],
   "source": [
    "history = model_Bi_LSTM.fit(data, labels, epochs=100, batch_size=256, callbacks=callbacks_list, verbose = 1,shuffle = True, validation_data=[data_test, labels_test])"
   ]
  },
  {
   "cell_type": "code",
   "execution_count": 128,
   "metadata": {},
   "outputs": [
    {
     "name": "stdout",
     "output_type": "stream",
     "text": [
      "486/486 [==============================] - 263s 541ms/step - loss: 0.8266 - acc: 0.7572\n",
      "loss: 0.83\n",
      "accuracy: 75.72%\n"
     ]
    }
   ],
   "source": [
    "score = model_Bi_LSTM.evaluate(data_test, labels_test)\n",
    "\n",
    "print(\"%s: %.2f\" %(model_CNN_3conv.metrics_names[0], score[0]))\n",
    "print(\"%s: %.2f%%\" %(model_CNN_3conv.metrics_names[1], score[1]*100))"
   ]
  },
  {
   "cell_type": "markdown",
   "metadata": {},
   "source": [
    "## Bi LSTM Attention"
   ]
  },
  {
   "cell_type": "code",
   "execution_count": 52,
   "metadata": {},
   "outputs": [],
   "source": [
    "from tensorflow.keras.layers import Concatenate\n",
    "from keras import regularizers\n",
    "from keras.models import Model\n",
    "import keras"
   ]
  },
  {
   "cell_type": "code",
   "execution_count": 54,
   "metadata": {
    "tags": []
   },
   "outputs": [],
   "source": [
    "# Add attention layer to the deep learning network\n",
    "class attention(Layer):\n",
    "    def __init__(self,**kwargs):\n",
    "        super(attention,self).__init__(**kwargs)\n",
    " \n",
    "    def build(self,input_shape):\n",
    "        self.W=self.add_weight(name='attention_weight', shape=(input_shape[-1],1), \n",
    "                               initializer='random_normal', trainable=True)\n",
    "        self.b=self.add_weight(name='attention_bias', shape=(input_shape[1],1), \n",
    "                               initializer='zeros', trainable=True)        \n",
    "        super(attention, self).build(input_shape)\n",
    " \n",
    "    def call(self,x):\n",
    "        # Alignment scores. Pass them through tanh function\n",
    "        e = K.tanh(K.dot(x,self.W)+self.b)\n",
    "        # Remove dimension of size 1\n",
    "        e = K.squeeze(e, axis=-1)   \n",
    "        # Compute the weights\n",
    "        alpha = K.softmax(e)\n",
    "        # Reshape to tensorFlow format\n",
    "        alpha = K.expand_dims(alpha, axis=-1)\n",
    "        # Compute the context vector\n",
    "        context = x * alpha\n",
    "        context = K.sum(context, axis=1)\n",
    "        return context"
   ]
  },
  {
   "cell_type": "code",
   "execution_count": 55,
   "metadata": {
    "tags": []
   },
   "outputs": [],
   "source": [
    "sequence_length = sub_data.shape[1]\n",
    "drop = 0.1\n",
    "\n",
    "inputs = Input(shape = (sequence_length,))\n",
    "embedding = Embedding(vocabulary_size, EMBEDDING_DIM, weights = [embedding_matrix])(inputs)\n",
    "bilstm = Bidirectional(LSTM(128, return_sequences = True))(embedding)\n",
    "attention_layer = attention()(bilstm)\n",
    "output = Dense(units = 3, activation = 'softmax')(attention_layer)\n",
    "\n",
    "model_bi_lstm_att = Model(inputs, output)"
   ]
  },
  {
   "cell_type": "code",
   "execution_count": 56,
   "metadata": {},
   "outputs": [],
   "source": [
    "# Retrieve the config\n",
    "config = model_bi_lstm_att.get_config()\n",
    "\n",
    "# At loading time, register the custom objects with a `custom_object_scope`:\n",
    "custom_objects = {\"attention\": attention}\n",
    "with keras.utils.custom_object_scope(custom_objects):\n",
    "    new_model_bi_lstm_att = keras.Model.from_config(config)"
   ]
  },
  {
   "cell_type": "code",
   "execution_count": 57,
   "metadata": {
    "collapsed": true,
    "jupyter": {
     "outputs_hidden": true
    },
    "tags": []
   },
   "outputs": [
    {
     "name": "stdout",
     "output_type": "stream",
     "text": [
      "Model: \"model\"\n",
      "_________________________________________________________________\n",
      " Layer (type)                Output Shape              Param #   \n",
      "=================================================================\n",
      " input_2 (InputLayer)        [(None, 300)]             0         \n",
      "                                                                 \n",
      " embedding_3 (Embedding)     (None, 300, 400)          2869600   \n",
      "                                                                 \n",
      " bidirectional_2 (Bidirectio  (None, 300, 256)         541696    \n",
      " nal)                                                            \n",
      "                                                                 \n",
      " attention (attention)       (None, 256)               556       \n",
      "                                                                 \n",
      " dense_4 (Dense)             (None, 3)                 771       \n",
      "                                                                 \n",
      "=================================================================\n",
      "Total params: 3,412,623\n",
      "Trainable params: 3,412,623\n",
      "Non-trainable params: 0\n",
      "_________________________________________________________________\n"
     ]
    }
   ],
   "source": [
    "adam = Adam(learning_rate = 0.001, beta_1 = 0.9, beta_2 = 0.999, epsilon = 1e-08, decay = 0.0)\n",
    "new_model_bi_lstm_att.compile(loss = 'categorical_crossentropy', optimizer = adam, metrics = ['accuracy'])\n",
    "new_model_bi_lstm_att. summary()"
   ]
  },
  {
   "cell_type": "code",
   "execution_count": 59,
   "metadata": {
    "collapsed": true,
    "jupyter": {
     "outputs_hidden": true
    },
    "tags": []
   },
   "outputs": [
    {
     "name": "stdout",
     "output_type": "stream",
     "text": [
      "Epoch 1/100\n",
      "36/36 [==============================] - 320s 9s/step - loss: 1.1017 - accuracy: 0.3560 - val_loss: 1.0618 - val_accuracy: 0.8047\n",
      "Epoch 2/100\n",
      "36/36 [==============================] - 325s 9s/step - loss: 0.9940 - accuracy: 0.4988 - val_loss: 0.7593 - val_accuracy: 0.6711\n",
      "Epoch 3/100\n",
      "36/36 [==============================] - 331s 9s/step - loss: 0.8365 - accuracy: 0.6057 - val_loss: 0.8184 - val_accuracy: 0.7463\n",
      "Epoch 4/100\n",
      "36/36 [==============================] - 333s 9s/step - loss: 0.7561 - accuracy: 0.6699 - val_loss: 0.9470 - val_accuracy: 0.5918\n",
      "Epoch 5/100\n",
      "36/36 [==============================] - 331s 9s/step - loss: 0.6536 - accuracy: 0.7267 - val_loss: 0.7007 - val_accuracy: 0.7461\n",
      "Epoch 6/100\n",
      "36/36 [==============================] - 336s 9s/step - loss: 0.5401 - accuracy: 0.7873 - val_loss: 0.8877 - val_accuracy: 0.7214\n",
      "Epoch 7/100\n",
      "36/36 [==============================] - 335s 9s/step - loss: 0.4682 - accuracy: 0.8220 - val_loss: 0.5709 - val_accuracy: 0.8018\n",
      "Epoch 8/100\n",
      "36/36 [==============================] - 331s 9s/step - loss: 0.3988 - accuracy: 0.8583 - val_loss: 0.7243 - val_accuracy: 0.7679\n",
      "Epoch 9/100\n",
      "36/36 [==============================] - 333s 9s/step - loss: 0.3560 - accuracy: 0.8781 - val_loss: 1.3468 - val_accuracy: 0.5779\n",
      "Epoch 10/100\n",
      "36/36 [==============================] - 380s 11s/step - loss: 0.3612 - accuracy: 0.8709 - val_loss: 0.7215 - val_accuracy: 0.8083\n",
      "Epoch 11/100\n",
      "36/36 [==============================] - 440s 12s/step - loss: 0.3475 - accuracy: 0.8774 - val_loss: 0.9992 - val_accuracy: 0.7802\n",
      "Epoch 12/100\n",
      "36/36 [==============================] - 502s 14s/step - loss: 0.3140 - accuracy: 0.8916 - val_loss: 0.7426 - val_accuracy: 0.7634\n",
      "Epoch 12: early stopping\n"
     ]
    },
    {
     "data": {
      "text/plain": [
       "<keras.callbacks.History at 0x1d068a62dc0>"
      ]
     },
     "execution_count": 59,
     "metadata": {},
     "output_type": "execute_result"
    }
   ],
   "source": [
    "new_model_bi_lstm_att.fit(data, labels,epochs = 100, batch_size = 256, callbacks = callbacks_list, verbose = 1,shuffle = True, validation_data=[data_test, labels_test])"
   ]
  },
  {
   "cell_type": "code",
   "execution_count": 116,
   "metadata": {},
   "outputs": [
    {
     "name": "stdout",
     "output_type": "stream",
     "text": [
      "486/486 [==============================] - 125s 258ms/step - loss: 0.7426 - accuracy: 0.7634\n",
      "loss: 0.74\n",
      "accuracy: 76.34%\n"
     ]
    }
   ],
   "source": [
    "score = new_model_bi_lstm_att.evaluate(data_test, labels_test)\n",
    "\n",
    "print(\"%s: %.2f\" %(model_CNN_3conv.metrics_names[0], score[0]))\n",
    "print(\"%s: %.2f%%\" %(model_CNN_3conv.metrics_names[1], score[1]*100))"
   ]
  },
  {
   "cell_type": "code",
   "execution_count": 60,
   "metadata": {},
   "outputs": [
    {
     "name": "stdout",
     "output_type": "stream",
     "text": [
      "1/1 [==============================] - 1s 1s/step\n",
      "Hàng chính hãng, tuy nhiên giao hàng vẫn ko đúng hẹn\n",
      "Tích cực\n",
      "Tích cực\n"
     ]
    }
   ],
   "source": [
    "prediction = new_model_bi_lstm_att.predict(data_test[:10])\n",
    "\n",
    "labels_text = ['Tiêu cực', 'Bình thường', 'Tích cực']\n",
    "num=2\n",
    "print(reviews_test[num])\n",
    "print(labels_text[np.argmax(labels_test[num])])\n",
    "print(labels_text[np.argmax(prediction[num])])"
   ]
  },
  {
   "cell_type": "code",
   "execution_count": 123,
   "metadata": {
    "tags": []
   },
   "outputs": [],
   "source": [
    "# model_Bi_LSTM_Attention = Sequential()\n",
    "# model_Bi_LSTM_Attention.add(Embedding(MAX_VOCAB_SIZE, EMBEDDING_DIM, input_length=MAX_SEQUENCE_LENGTH))\n",
    "# model_Bi_LSTM_Attention.add(Bidirectional(LSTM(128, dropout = 0.1, return_sequences = False)))\n",
    "# model_Bi_LSTM_Attention.add(Attention())\n",
    "# model_Bi_LSTM_Attention.add(Dense(64, activation='relu'))\n",
    "# model_Bi_LSTM_Attention.add(Dense(3, activation='softmax'))\n",
    "# adam = Adam(learning_rate = 0.001, beta_1 = 0.9, beta_2 = 0.999, epsilon = 1e-08, decay = 0.01)\n",
    "# model_Bi_LSTM_Attention.compile(loss='binary_crossentropy', optimizer=adam, metrics=['acc'])"
   ]
  },
  {
   "cell_type": "code",
   "execution_count": 124,
   "metadata": {
    "tags": []
   },
   "outputs": [],
   "source": [
    "# model_Bi_LSTM_Attention.summary()"
   ]
  },
  {
   "cell_type": "code",
   "execution_count": 125,
   "metadata": {
    "tags": []
   },
   "outputs": [],
   "source": [
    "# history = model_Bi_LSTM_Attention.fit(sub_data, sub_labels, epochs=100, batch_size=256, callbacks=callbacks_list, verbose = 1,shuffle = True, validation_data=[sub_data_test, sub_labels_test])"
   ]
  },
  {
   "cell_type": "markdown",
   "metadata": {},
   "source": [
    "## CNN (3 Layer Conv) "
   ]
  },
  {
   "cell_type": "code",
   "execution_count": 62,
   "metadata": {},
   "outputs": [],
   "source": [
    "\n",
    "from tensorflow.keras.layers import Conv1D, GlobalMaxPooling1D, MaxPooling1D, LayerNormalization"
   ]
  },
  {
   "cell_type": "code",
   "execution_count": 122,
   "metadata": {
    "collapsed": true,
    "jupyter": {
     "outputs_hidden": true
    },
    "tags": []
   },
   "outputs": [
    {
     "name": "stdout",
     "output_type": "stream",
     "text": [
      "Model: \"model_14\"\n",
      "_________________________________________________________________\n",
      " Layer (type)                Output Shape              Param #   \n",
      "=================================================================\n",
      " input_63 (InputLayer)       [(None, 300)]             0         \n",
      "                                                                 \n",
      " embedding_64 (Embedding)    (None, 300, 400)          2869600   \n",
      "                                                                 \n",
      " conv1d_153 (Conv1D)         (None, 300, 32)           38432     \n",
      "                                                                 \n",
      " max_pooling1d_200 (MaxPooli  (None, 150, 32)          0         \n",
      " ng1D)                                                           \n",
      "                                                                 \n",
      " dropout_160 (Dropout)       (None, 150, 32)           0         \n",
      "                                                                 \n",
      " conv1d_154 (Conv1D)         (None, 150, 32)           3104      \n",
      "                                                                 \n",
      " max_pooling1d_201 (MaxPooli  (None, 75, 32)           0         \n",
      " ng1D)                                                           \n",
      "                                                                 \n",
      " dropout_161 (Dropout)       (None, 75, 32)            0         \n",
      "                                                                 \n",
      " conv1d_155 (Conv1D)         (None, 75, 32)            3104      \n",
      "                                                                 \n",
      " max_pooling1d_202 (MaxPooli  (None, 37, 32)           0         \n",
      " ng1D)                                                           \n",
      "                                                                 \n",
      " dropout_162 (Dropout)       (None, 37, 32)            0         \n",
      "                                                                 \n",
      " global_max_pooling1d_23 (Gl  (None, 32)               0         \n",
      " obalMaxPooling1D)                                               \n",
      "                                                                 \n",
      " layer_normalization_89 (Lay  (None, 32)               64        \n",
      " erNormalization)                                                \n",
      "                                                                 \n",
      " dense_37 (Dense)            (None, 16)                528       \n",
      "                                                                 \n",
      " dense_38 (Dense)            (None, 3)                 51        \n",
      "                                                                 \n",
      "=================================================================\n",
      "Total params: 2,914,883\n",
      "Trainable params: 2,914,883\n",
      "Non-trainable params: 0\n",
      "_________________________________________________________________\n"
     ]
    }
   ],
   "source": [
    "drop = 0.1\n",
    "\n",
    "inputs = Input(shape = (sequence_length,))\n",
    "feature = Embedding(vocabulary_size, EMBEDDING_DIM, weights = [embedding_matrix])(inputs)\n",
    "\n",
    "cnn_feature = Conv1D(filters=32, kernel_size=3, padding=\"same\", activation=\"relu\")(feature)\n",
    "cnn_feature = MaxPooling1D()(cnn_feature)\n",
    "cnn_feature = Dropout(drop)(cnn_feature)\n",
    "\n",
    "cnn_feature = Conv1D(filters=32, kernel_size=3, padding=\"same\", activation=\"relu\")(cnn_feature)\n",
    "cnn_feature = MaxPooling1D()(cnn_feature)\n",
    "cnn_feature = Dropout(drop)(cnn_feature)\n",
    "\n",
    "cnn_feature = Conv1D(filters=32, kernel_size=3, padding=\"same\", activation=\"relu\")(cnn_feature)\n",
    "cnn_feature = MaxPooling1D()(cnn_feature)\n",
    "cnn_feature = Dropout(drop)(cnn_feature)\n",
    "\n",
    "combine_feature = GlobalMaxPooling1D()(cnn_feature)\n",
    "combine_feature = LayerNormalization()(combine_feature)\n",
    "\n",
    "combine_feature = Dense(16,activation='relu')(combine_feature)\n",
    "output = Dense(units = 3, activation = 'softmax')(combine_feature)\n",
    "model_CNN_3conv = Model(inputs, output)\n",
    "adam = Adam(learning_rate = 0.001, beta_1 = 0.9, beta_2 = 0.999, epsilon = 1e-08, decay = 0.0)\n",
    "model_CNN_3conv.compile(loss = 'categorical_crossentropy', optimizer = adam, metrics = ['accuracy'])\n",
    "model_CNN_3conv. summary()"
   ]
  },
  {
   "cell_type": "code",
   "execution_count": 123,
   "metadata": {
    "tags": []
   },
   "outputs": [
    {
     "name": "stdout",
     "output_type": "stream",
     "text": [
      "Epoch 1/100\n",
      "36/36 [==============================] - 29s 729ms/step - loss: 1.0987 - accuracy: 0.3204 - val_loss: 1.0999 - val_accuracy: 0.1185\n",
      "Epoch 2/100\n",
      "36/36 [==============================] - 23s 636ms/step - loss: 1.0986 - accuracy: 0.3251 - val_loss: 1.0974 - val_accuracy: 0.1185\n",
      "Epoch 3/100\n",
      "36/36 [==============================] - 23s 640ms/step - loss: 1.0986 - accuracy: 0.3280 - val_loss: 1.0963 - val_accuracy: 0.8265\n",
      "Epoch 4/100\n",
      "36/36 [==============================] - 22s 612ms/step - loss: 1.0987 - accuracy: 0.3226 - val_loss: 1.0997 - val_accuracy: 0.0550\n",
      "Epoch 5/100\n",
      "36/36 [==============================] - 23s 630ms/step - loss: 1.0986 - accuracy: 0.3208 - val_loss: 1.0979 - val_accuracy: 0.8265\n",
      "Epoch 5: early stopping\n"
     ]
    },
    {
     "data": {
      "text/plain": [
       "<keras.callbacks.History at 0x1d06d7454f0>"
      ]
     },
     "execution_count": 123,
     "metadata": {},
     "output_type": "execute_result"
    }
   ],
   "source": [
    "model_CNN_3conv.fit(data, labels,epochs = 100, batch_size = 256, callbacks = callbacks_list, verbose = 1,shuffle = True, validation_data=[data_test, labels_test])"
   ]
  },
  {
   "cell_type": "code",
   "execution_count": 124,
   "metadata": {},
   "outputs": [
    {
     "name": "stdout",
     "output_type": "stream",
     "text": [
      "486/486 [==============================] - 6s 12ms/step - loss: 1.0979 - accuracy: 0.8265\n",
      "loss: 1.10\n",
      "accuracy: 82.65%\n"
     ]
    }
   ],
   "source": [
    "score = model_CNN_3conv.evaluate(data_test, labels_test)\n",
    "\n",
    "print(\"%s: %.2f\" %(model_CNN_3conv.metrics_names[0], score[0]))\n",
    "print(\"%s: %.2f%%\" %(model_CNN_3conv.metrics_names[1], score[1]*100))"
   ]
  },
  {
   "cell_type": "code",
   "execution_count": 65,
   "metadata": {},
   "outputs": [
    {
     "name": "stdout",
     "output_type": "stream",
     "text": [
      "1/1 [==============================] - 0s 148ms/step\n",
      "Hàng chính hãng, tuy nhiên giao hàng vẫn ko đúng hẹn\n",
      "Tích cực\n",
      "Tích cực\n"
     ]
    }
   ],
   "source": [
    "prediction = model_CNN_3conv.predict(data_test[:10])\n",
    "\n",
    "labels_text = ['Tiêu cực', 'Bình thường', 'Tích cực']\n",
    "num=2\n",
    "print(reviews_test[num])\n",
    "print(labels_text[np.argmax(labels_test[num])])\n",
    "print(labels_text[np.argmax(prediction[num])])"
   ]
  },
  {
   "cell_type": "markdown",
   "metadata": {},
   "source": [
    "## CNN (5 Layer Conv)"
   ]
  },
  {
   "cell_type": "code",
   "execution_count": 66,
   "metadata": {
    "collapsed": true,
    "jupyter": {
     "outputs_hidden": true
    },
    "tags": []
   },
   "outputs": [
    {
     "name": "stdout",
     "output_type": "stream",
     "text": [
      "Model: \"model_2\"\n",
      "_________________________________________________________________\n",
      " Layer (type)                Output Shape              Param #   \n",
      "=================================================================\n",
      " input_5 (InputLayer)        [(None, 300)]             0         \n",
      "                                                                 \n",
      " embedding_6 (Embedding)     (None, 300, 400)          2869600   \n",
      "                                                                 \n",
      " conv1d_3 (Conv1D)           (None, 300, 32)           38432     \n",
      "                                                                 \n",
      " max_pooling1d_3 (MaxPooling  (None, 150, 32)          0         \n",
      " 1D)                                                             \n",
      "                                                                 \n",
      " dropout_3 (Dropout)         (None, 150, 32)           0         \n",
      "                                                                 \n",
      " conv1d_4 (Conv1D)           (None, 150, 32)           3104      \n",
      "                                                                 \n",
      " max_pooling1d_4 (MaxPooling  (None, 75, 32)           0         \n",
      " 1D)                                                             \n",
      "                                                                 \n",
      " dropout_4 (Dropout)         (None, 75, 32)            0         \n",
      "                                                                 \n",
      " conv1d_5 (Conv1D)           (None, 75, 32)            3104      \n",
      "                                                                 \n",
      " max_pooling1d_5 (MaxPooling  (None, 37, 32)           0         \n",
      " 1D)                                                             \n",
      "                                                                 \n",
      " dropout_5 (Dropout)         (None, 37, 32)            0         \n",
      "                                                                 \n",
      " conv1d_6 (Conv1D)           (None, 37, 32)            3104      \n",
      "                                                                 \n",
      " max_pooling1d_6 (MaxPooling  (None, 18, 32)           0         \n",
      " 1D)                                                             \n",
      "                                                                 \n",
      " dropout_6 (Dropout)         (None, 18, 32)            0         \n",
      "                                                                 \n",
      " conv1d_7 (Conv1D)           (None, 18, 32)            3104      \n",
      "                                                                 \n",
      " max_pooling1d_7 (MaxPooling  (None, 9, 32)            0         \n",
      " 1D)                                                             \n",
      "                                                                 \n",
      " dropout_7 (Dropout)         (None, 9, 32)             0         \n",
      "                                                                 \n",
      " global_max_pooling1d_1 (Glo  (None, 32)               0         \n",
      " balMaxPooling1D)                                                \n",
      "                                                                 \n",
      " layer_normalization_1 (Laye  (None, 32)               64        \n",
      " rNormalization)                                                 \n",
      "                                                                 \n",
      " dense_7 (Dense)             (None, 16)                528       \n",
      "                                                                 \n",
      " dense_8 (Dense)             (None, 3)                 51        \n",
      "                                                                 \n",
      "=================================================================\n",
      "Total params: 2,921,091\n",
      "Trainable params: 2,921,091\n",
      "Non-trainable params: 0\n",
      "_________________________________________________________________\n"
     ]
    }
   ],
   "source": [
    "inputs = Input(shape = (sequence_length,))\n",
    "feature = Embedding(vocabulary_size, EMBEDDING_DIM, weights = [embedding_matrix])(inputs)\n",
    "\n",
    "cnn_feature = Conv1D(filters=32, kernel_size=3, padding=\"same\", activation=\"relu\")(feature)\n",
    "cnn_feature = MaxPooling1D()(cnn_feature)\n",
    "cnn_feature = Dropout(drop)(cnn_feature)\n",
    "\n",
    "cnn_feature = Conv1D(filters=32, kernel_size=3, padding=\"same\", activation=\"relu\")(cnn_feature)\n",
    "cnn_feature = MaxPooling1D()(cnn_feature)\n",
    "cnn_feature = Dropout(drop)(cnn_feature)\n",
    "\n",
    "cnn_feature = Conv1D(filters=32, kernel_size=3, padding=\"same\", activation=\"relu\")(cnn_feature)\n",
    "cnn_feature = MaxPooling1D()(cnn_feature)\n",
    "cnn_feature = Dropout(drop)(cnn_feature)\n",
    "\n",
    "cnn_feature = Conv1D(filters=32, kernel_size=3, padding=\"same\", activation=\"relu\")(cnn_feature)\n",
    "cnn_feature = MaxPooling1D()(cnn_feature)\n",
    "cnn_feature = Dropout(drop)(cnn_feature)\n",
    "\n",
    "cnn_feature = Conv1D(filters=32, kernel_size=3, padding=\"same\", activation=\"relu\")(cnn_feature)\n",
    "cnn_feature = MaxPooling1D()(cnn_feature)\n",
    "cnn_feature = Dropout(drop)(cnn_feature)\n",
    "\n",
    "combine_feature = GlobalMaxPooling1D()(cnn_feature)\n",
    "combine_feature = LayerNormalization()(combine_feature)\n",
    "\n",
    "combine_feature = Dense(16,activation='relu')(combine_feature)\n",
    "output = Dense(units = 3, activation = 'softmax')(combine_feature)\n",
    "model_CNN_5conv = Model(inputs, output)\n",
    "adam = Adam(learning_rate = 0.001, beta_1 = 0.9, beta_2 = 0.999, epsilon = 1e-08, decay = 0.0)\n",
    "model_CNN_5conv.compile(loss = 'categorical_crossentropy', optimizer = adam, metrics = ['accuracy'])\n",
    "model_CNN_5conv. summary()"
   ]
  },
  {
   "cell_type": "code",
   "execution_count": 67,
   "metadata": {},
   "outputs": [
    {
     "name": "stdout",
     "output_type": "stream",
     "text": [
      "Epoch 1/100\n",
      "8/8 [==============================] - 7s 726ms/step - loss: 1.0941 - accuracy: 0.8720 - val_loss: 1.0909 - val_accuracy: 0.8180\n",
      "Epoch 2/100\n",
      "8/8 [==============================] - 5s 695ms/step - loss: 1.0835 - accuracy: 1.0000 - val_loss: 1.0832 - val_accuracy: 0.8180\n",
      "Epoch 3/100\n",
      "8/8 [==============================] - 6s 734ms/step - loss: 1.0729 - accuracy: 1.0000 - val_loss: 1.0756 - val_accuracy: 0.8180\n",
      "Epoch 4/100\n",
      "8/8 [==============================] - 5s 636ms/step - loss: 1.0624 - accuracy: 1.0000 - val_loss: 1.0681 - val_accuracy: 0.8180\n",
      "Epoch 5/100\n",
      "8/8 [==============================] - 5s 667ms/step - loss: 1.0521 - accuracy: 1.0000 - val_loss: 1.0607 - val_accuracy: 0.8180\n",
      "Epoch 5: early stopping\n"
     ]
    },
    {
     "data": {
      "text/plain": [
       "<keras.callbacks.History at 0x1d03c3d6cd0>"
      ]
     },
     "execution_count": 67,
     "metadata": {},
     "output_type": "execute_result"
    }
   ],
   "source": [
    "model_CNN_5conv.fit(sub_data, sub_labels,epochs = 100, batch_size = 256, callbacks = callbacks_list, verbose = 1,shuffle = True, validation_data=[sub_data_test, sub_labels_test])"
   ]
  },
  {
   "cell_type": "code",
   "execution_count": 68,
   "metadata": {},
   "outputs": [
    {
     "name": "stdout",
     "output_type": "stream",
     "text": [
      "1/1 [==============================] - 0s 172ms/step\n",
      "Hàng chính hãng, tuy nhiên giao hàng vẫn ko đúng hẹn\n",
      "Tích cực\n",
      "Tích cực\n"
     ]
    }
   ],
   "source": [
    "prediction = model_CNN_5conv.predict(data_test[:10])\n",
    "\n",
    "labels_text = ['Tiêu cực', 'Bình thường', 'Tích cực']\n",
    "num=2\n",
    "print(reviews_test[num])\n",
    "print(labels_text[np.argmax(labels_test[num])])\n",
    "print(labels_text[np.argmax(prediction[num])])"
   ]
  },
  {
   "cell_type": "code",
   "execution_count": 119,
   "metadata": {},
   "outputs": [
    {
     "name": "stdout",
     "output_type": "stream",
     "text": [
      "486/486 [==============================] - 7s 14ms/step - loss: 1.0600 - accuracy: 0.8265\n",
      "loss: 1.06\n",
      "accuracy: 82.65%\n"
     ]
    }
   ],
   "source": [
    "score = model_CNN_5conv.evaluate(data_test, labels_test)\n",
    "\n",
    "print(\"%s: %.2f\" %(model_CNN_3conv.metrics_names[0], score[0]))\n",
    "print(\"%s: %.2f%%\" %(model_CNN_3conv.metrics_names[1], score[1]*100))"
   ]
  },
  {
   "cell_type": "markdown",
   "metadata": {},
   "source": [
    "## CNN + LSTM "
   ]
  },
  {
   "cell_type": "code",
   "execution_count": 109,
   "metadata": {
    "collapsed": true,
    "jupyter": {
     "outputs_hidden": true
    },
    "tags": []
   },
   "outputs": [
    {
     "name": "stdout",
     "output_type": "stream",
     "text": [
      "Model: \"model_12\"\n",
      "__________________________________________________________________________________________________\n",
      " Layer (type)                   Output Shape         Param #     Connected to                     \n",
      "==================================================================================================\n",
      " input_61 (InputLayer)          [(None, 300)]        0           []                               \n",
      "                                                                                                  \n",
      " embedding_62 (Embedding)       (None, 300, 400)     2869600     ['input_61[0][0]']               \n",
      "                                                                                                  \n",
      " conv1d_148 (Conv1D)            (None, 300, 32)      38432       ['embedding_62[0][0]']           \n",
      "                                                                                                  \n",
      " max_pooling1d_190 (MaxPooling1  (None, 150, 32)     0           ['conv1d_148[0][0]']             \n",
      " D)                                                                                               \n",
      "                                                                                                  \n",
      " dropout_151 (Dropout)          (None, 150, 32)      0           ['max_pooling1d_190[0][0]']      \n",
      "                                                                                                  \n",
      " conv1d_149 (Conv1D)            (None, 150, 32)      3104        ['dropout_151[0][0]']            \n",
      "                                                                                                  \n",
      " bidirectional_56 (Bidirectiona  (None, 300, 64)     110848      ['embedding_62[0][0]']           \n",
      " l)                                                                                               \n",
      "                                                                                                  \n",
      " max_pooling1d_191 (MaxPooling1  (None, 75, 32)      0           ['conv1d_149[0][0]']             \n",
      " D)                                                                                               \n",
      "                                                                                                  \n",
      " max_pooling1d_193 (MaxPooling1  (None, 150, 64)     0           ['bidirectional_56[0][0]']       \n",
      " D)                                                                                               \n",
      "                                                                                                  \n",
      " dropout_152 (Dropout)          (None, 75, 32)       0           ['max_pooling1d_191[0][0]']      \n",
      "                                                                                                  \n",
      " bidirectional_57 (Bidirectiona  (None, 150, 64)     24832       ['max_pooling1d_193[0][0]']      \n",
      " l)                                                                                               \n",
      "                                                                                                  \n",
      " conv1d_150 (Conv1D)            (None, 75, 32)       3104        ['dropout_152[0][0]']            \n",
      "                                                                                                  \n",
      " max_pooling1d_194 (MaxPooling1  (None, 75, 64)      0           ['bidirectional_57[0][0]']       \n",
      " D)                                                                                               \n",
      "                                                                                                  \n",
      " max_pooling1d_192 (MaxPooling1  (None, 37, 32)      0           ['conv1d_150[0][0]']             \n",
      " D)                                                                                               \n",
      "                                                                                                  \n",
      " bidirectional_58 (Bidirectiona  (None, 75, 64)      24832       ['max_pooling1d_194[0][0]']      \n",
      " l)                                                                                               \n",
      "                                                                                                  \n",
      " layer_normalization_83 (LayerN  (None, 37, 32)      64          ['max_pooling1d_192[0][0]']      \n",
      " ormalization)                                                                                    \n",
      "                                                                                                  \n",
      " max_pooling1d_195 (MaxPooling1  (None, 37, 64)      0           ['bidirectional_58[0][0]']       \n",
      " D)                                                                                               \n",
      "                                                                                                  \n",
      " dropout_153 (Dropout)          (None, 37, 32)       0           ['layer_normalization_83[0][0]'] \n",
      "                                                                                                  \n",
      " layer_normalization_84 (LayerN  (None, 37, 64)      128         ['max_pooling1d_195[0][0]']      \n",
      " ormalization)                                                                                    \n",
      "                                                                                                  \n",
      " concatenate_36 (Concatenate)   (None, 37, 96)       0           ['dropout_153[0][0]',            \n",
      "                                                                  'layer_normalization_84[0][0]'] \n",
      "                                                                                                  \n",
      " global_max_pooling1d_21 (Globa  (None, 96)          0           ['concatenate_36[0][0]']         \n",
      " lMaxPooling1D)                                                                                   \n",
      "                                                                                                  \n",
      " layer_normalization_85 (LayerN  (None, 96)          192         ['global_max_pooling1d_21[0][0]']\n",
      " ormalization)                                                                                    \n",
      "                                                                                                  \n",
      " dense_30 (Dense)               (None, 16)           1552        ['layer_normalization_85[0][0]'] \n",
      "                                                                                                  \n",
      " dense_31 (Dense)               (None, 3)            51          ['dense_30[0][0]']               \n",
      "                                                                                                  \n",
      "==================================================================================================\n",
      "Total params: 3,076,739\n",
      "Trainable params: 3,076,739\n",
      "Non-trainable params: 0\n",
      "__________________________________________________________________________________________________\n"
     ]
    }
   ],
   "source": [
    "inputs = Input(shape = (sequence_length,))\n",
    "initializer = tf.keras.initializers.GlorotNormal()\n",
    "embedding = Embedding(vocabulary_size, EMBEDDING_DIM, weights = [embedding_matrix],  embeddings_initializer=\"GlorotNormal\")(inputs)\n",
    "drop=0.4\n",
    "#CNN\n",
    "\n",
    "cnn_feature = Conv1D(filters=32, kernel_size=3, padding=\"same\", activation=\"relu\")(embedding)\n",
    "cnn_feature = MaxPooling1D()(cnn_feature)\n",
    "cnn_feature = Dropout(drop)(cnn_feature)\n",
    "\n",
    "cnn_feature = Conv1D(filters=32, kernel_size=3, padding=\"same\", activation=\"relu\")(cnn_feature)\n",
    "cnn_feature = MaxPooling1D()(cnn_feature)\n",
    "cnn_feature = Dropout(drop)(cnn_feature)\n",
    "\n",
    "# cnn_feature = Conv1D(filters=32, kernel_size=3, padding=\"same\", activation=\"relu\")(cnn_feature)\n",
    "# cnn_feature = MaxPooling1D()(cnn_feature)\n",
    "# cnn_feature = Dropout(drop)(cnn_feature)\n",
    "\n",
    "# cnn_feature = Conv1D(filters=32, kernel_size=3, padding=\"same\", activation=\"relu\")(cnn_feature)\n",
    "# cnn_feature = MaxPooling1D()(cnn_feature)\n",
    "# cnn_feature = Dropout(drop)(cnn_feature)\n",
    "\n",
    "cnn_feature = Conv1D(filters=32, kernel_size=3, padding=\"same\", activation=\"relu\")(cnn_feature)\n",
    "cnn_feature = MaxPooling1D()(cnn_feature)\n",
    "cnn_feature = LayerNormalization()(cnn_feature)\n",
    "cnn_feature = Dropout(drop)(cnn_feature)\n",
    "\n",
    "\n",
    "\n",
    "# #LSTM\n",
    "bi_lstm_feature = Bidirectional(LSTM(units=32,  dropout=drop, return_sequences = True))(embedding)\n",
    "bi_lstm_feature = MaxPooling1D()(bi_lstm_feature)\n",
    "\n",
    "bi_lstm_feature = Bidirectional(LSTM(units=32,  dropout=drop, return_sequences = True))(bi_lstm_feature)\n",
    "bi_lstm_feature = MaxPooling1D()(bi_lstm_feature)\n",
    "\n",
    "bi_lstm_feature = Bidirectional(LSTM(units=32,  dropout=drop, return_sequences = True))(bi_lstm_feature)\n",
    "#bi_lstm_feature = attention()(bi_lstm_feature)\n",
    "bi_lstm_feature = MaxPooling1D()(bi_lstm_feature)\n",
    "bi_lstm_feature = LayerNormalization()(bi_lstm_feature)\n",
    "\n",
    "#Combine\n",
    "combine_feature = tf.keras.layers.Concatenate()([cnn_feature, bi_lstm_feature])\n",
    "combine_feature = GlobalMaxPooling1D()(combine_feature)\n",
    "combine_feature = LayerNormalization()(combine_feature)\n",
    "combine_feature = Dense(16,activation='relu')(combine_feature)\n",
    "\n",
    "output = Dense(units = 3, activation = 'softmax')(combine_feature)\n",
    "\n",
    "model_CNN_LSTM = Model(inputs, output)\n",
    "\n",
    "\n",
    "adam = Adam(learning_rate = 0.001, beta_1 = 0.9, beta_2 = 0.999, epsilon = 1e-08, decay = 0.0)\n",
    "model_CNN_LSTM.compile(loss = 'categorical_crossentropy', optimizer = adam, metrics = ['accuracy'])\n",
    "model_CNN_LSTM. summary()"
   ]
  },
  {
   "cell_type": "code",
   "execution_count": 110,
   "metadata": {},
   "outputs": [
    {
     "name": "stdout",
     "output_type": "stream",
     "text": [
      "Epoch 1/100\n",
      "8/8 [==============================] - 60s 6s/step - loss: 1.0941 - accuracy: 0.8720 - val_loss: 1.0909 - val_accuracy: 0.8180\n",
      "Epoch 2/100\n",
      "8/8 [==============================] - 45s 6s/step - loss: 1.0835 - accuracy: 1.0000 - val_loss: 1.0832 - val_accuracy: 0.8180\n",
      "Epoch 3/100\n",
      "8/8 [==============================] - 46s 6s/step - loss: 1.0729 - accuracy: 1.0000 - val_loss: 1.0756 - val_accuracy: 0.8180\n",
      "Epoch 4/100\n",
      "8/8 [==============================] - 46s 6s/step - loss: 1.0624 - accuracy: 1.0000 - val_loss: 1.0681 - val_accuracy: 0.8180\n",
      "Epoch 5/100\n",
      "8/8 [==============================] - 46s 6s/step - loss: 1.0521 - accuracy: 1.0000 - val_loss: 1.0607 - val_accuracy: 0.8180\n",
      "Epoch 5: early stopping\n"
     ]
    },
    {
     "data": {
      "text/plain": [
       "<keras.callbacks.History at 0x1d0b366c9a0>"
      ]
     },
     "execution_count": 110,
     "metadata": {},
     "output_type": "execute_result"
    }
   ],
   "source": [
    "model_CNN_LSTM.fit(sub_data, sub_labels,epochs = 100, batch_size = 256, callbacks = callbacks_list, verbose = 1,shuffle = True, validation_data=[sub_data_test, sub_labels_test])"
   ]
  },
  {
   "cell_type": "code",
   "execution_count": 121,
   "metadata": {},
   "outputs": [
    {
     "name": "stdout",
     "output_type": "stream",
     "text": [
      "486/486 [==============================] - 62s 126ms/step - loss: 1.0600 - accuracy: 0.8265\n",
      "loss: 1.06\n",
      "accuracy: 82.65%\n"
     ]
    }
   ],
   "source": [
    "score = model_CNN_LSTM.evaluate(data_test, labels_test)\n",
    "\n",
    "print(\"%s: %.2f\" %(model_CNN_3conv.metrics_names[0], score[0]))\n",
    "print(\"%s: %.2f%%\" %(model_CNN_3conv.metrics_names[1], score[1]*100))"
   ]
  },
  {
   "cell_type": "code",
   "execution_count": 118,
   "metadata": {},
   "outputs": [
    {
     "name": "stdout",
     "output_type": "stream",
     "text": [
      "1/1 [==============================] - 0s 113ms/step\n",
      "Hàng chính hãng, tuy nhiên giao hàng vẫn ko đúng hẹn\n",
      "Tích cực\n",
      "Tích cực\n"
     ]
    }
   ],
   "source": [
    "prediction = model_CNN_LSTM.predict(data_test[:10])\n",
    "\n",
    "labels_text = ['Tiêu cực', 'Bình thường', 'Tích cực']\n",
    "num=2\n",
    "print(reviews_test[num])\n",
    "print(labels_text[np.argmax(labels_test[num])])\n",
    "print(labels_text[np.argmax(prediction[num])])"
   ]
  }
 ],
 "metadata": {
  "kernelspec": {
   "display_name": "Python 3 (ipykernel)",
   "language": "python",
   "name": "python3"
  },
  "language_info": {
   "codemirror_mode": {
    "name": "ipython",
    "version": 3
   },
   "file_extension": ".py",
   "mimetype": "text/x-python",
   "name": "python",
   "nbconvert_exporter": "python",
   "pygments_lexer": "ipython3",
   "version": "3.9.12"
  }
 },
 "nbformat": 4,
 "nbformat_minor": 4
}
